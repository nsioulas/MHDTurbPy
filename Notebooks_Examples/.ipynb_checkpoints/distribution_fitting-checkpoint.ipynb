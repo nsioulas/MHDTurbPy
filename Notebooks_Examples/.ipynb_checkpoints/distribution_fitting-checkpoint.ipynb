{
 "cells": [
  {
   "cell_type": "markdown",
   "id": "d0e5738f-8815-4a50-83eb-d7ba95e0d0ff",
   "metadata": {},
   "source": [
    "### Define a custom function"
   ]
  },
  {
   "cell_type": "code",
   "execution_count": 13,
   "id": "558f04a5-b00a-4f96-bbf6-6ef60e1028ab",
   "metadata": {},
   "outputs": [],
   "source": [
    "import numpy as np\n",
    "import matplotlib.pyplot as plt\n",
    "import astropy.modeling.models\n",
    "from astropy.modeling.models import custom_model\n",
    "from astropy.modeling.fitting import LevMarLSQFitter\n",
    "from scipy import special\n",
    "\n",
    "# Define model\n",
    "@custom_model\n",
    "def H_plus_G(x, alpha=1.1133, beta= -2.609*1e-4,  delta=0.1, mu=-1.931*1e-2, meanG=-3.531*1e-2, sigmaG=0.4092, A0=0.6174, A1=0.3826):\n",
    "    \"\"\"\n",
    "    Create a weighted superposition of a Gaussian (normal) distribution and a Hyperbolic distribution \n",
    "    \n",
    "    Inputs:\n",
    "    \n",
    "        meanG  :  mean µG of Gaussian  Core\n",
    "        sigmaG :  standard deviation σG of Gaussian  Core\n",
    "        A0, A1 : weights (A0 + A1 =1)\n",
    "    \n",
    "    \"\"\"\n",
    "    gamma = np.sqrt(alpha**2 -beta**2 )\n",
    "    \n",
    "    # Define Hyperbolic distribution  \n",
    "    HD = (gamma/(2*alpha*delta*special.k1(delta*gamma)))*np.exp(-alpha * np.sqrt(delta**2 + (x-mu)**2)  + beta*(x - mu))\n",
    "    \n",
    "    # Defina Gaussian distribution\n",
    "    G  = (1./np.sqrt(2*np.pi)*sigmaG) * np.exp(-0.5 * ((x - meanG) / sigmaG)**2)\n",
    "    \n",
    "    return A0*HD + A1*G\n"
   ]
  },
  {
   "cell_type": "markdown",
   "id": "03b55545-14e0-4cdc-9f72-395ede5beb9b",
   "metadata": {
    "tags": []
   },
   "source": [
    "### Generate a working example"
   ]
  },
  {
   "cell_type": "code",
   "execution_count": 14,
   "id": "aaae4a20-2d92-4de0-8459-e8ce85b2459f",
   "metadata": {},
   "outputs": [
    {
     "data": {
      "text/plain": [
       "<matplotlib.legend.Legend at 0x7f7a183d20e0>"
      ]
     },
     "execution_count": 14,
     "metadata": {},
     "output_type": "execute_result"
    },
    {
     "data": {
      "image/png": "[encoded data removed]",
      "text/plain": [
       "<Figure size 432x288 with 1 Axes>"
      ]
     },
     "metadata": {
      "needs_background": "light"
     },
     "output_type": "display_data"
    }
   ],
   "source": [
    "import matplotlib.pyplot as plt\n",
    "\n",
    "# Define the model and fitter\n",
    "model = H_plus_G()\n",
    "fitter = LevMarLSQFitter()\n",
    "\n",
    "import numpy as np\n",
    "\n",
    "# Generate some synthetic data\n",
    "np.random.seed(42)\n",
    "\n",
    "# Generate x values\n",
    "x_data = np.linspace(-10, 10, 100000)\n",
    "\n",
    "# Generate y values using the H_plus_G model with some true parameter values\n",
    "true_params = {\n",
    "    'alpha': 1.1133, \n",
    "    'beta': -2.609e-4, \n",
    "    'delta': 0.1, \n",
    "    'mu': -1.931e-2, \n",
    "    'meanG': -3.531e-2, \n",
    "    'sigmaG': 0.4092, \n",
    "    'A0': 0.6174, \n",
    "    'A1': 0.3826\n",
    "}\n",
    "y_data = H_plus_G( **true_params)\n",
    "y_vals = y_data(x_data)\n",
    "\n",
    "# Add some Gaussian noise to the y values\n",
    "noise = 0.00003\n",
    "y_vals += np.random.normal(0, noise, size=len(y_vals))\n",
    "\n",
    "\n",
    "# Fit the model to the data\n",
    "best_fit_model = fitter(model, x_data, y_vals)\n",
    "\n",
    "# Generate y values for the best-fit model\n",
    "best_fit_y = best_fit_model(x_data)\n",
    "\n",
    "# Plot the original data and the best-fit model\n",
    "plt.plot(x_data, y_vals, 'o', label='Original data')\n",
    "plt.semilogy(x_data, best_fit_y, '-', label='Best-fit model')\n",
    "plt.xlabel('x')\n",
    "plt.ylabel('y')\n",
    "plt.legend()\n"
   ]
  }
 ],
 "metadata": {
  "kernelspec": {
   "display_name": "Python 3 (ipykernel)",
   "language": "python",
   "name": "python3"
  },
  "language_info": {
   "codemirror_mode": {
    "name": "ipython",
    "version": 3
   },
   "file_extension": ".py",
   "mimetype": "text/x-python",
   "name": "python",
   "nbconvert_exporter": "python",
   "pygments_lexer": "ipython3",
   "version": "3.10.4"
  }
 },
 "nbformat": 4,
 "nbformat_minor": 5
}
