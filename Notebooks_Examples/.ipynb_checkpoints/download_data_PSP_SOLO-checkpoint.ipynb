{
 "cells": [
  {
   "cell_type": "markdown",
   "id": "bfd91698-2c86-4032-9f9c-47083bd99562",
   "metadata": {},
   "source": [
    "# Load libraries"
   ]
  },
  {
   "cell_type": "code",
   "execution_count": 1,
   "id": "728bcde2-7211-479c-8d56-1d492c770bb0",
   "metadata": {},
   "outputs": [
    {
     "name": "stdout",
     "output_type": "stream",
     "text": [
      "This unreleased version of SpacePy is not supported by the SpacePy team.\n"
     ]
    }
   ],
   "source": [
    "%load_ext autoreload\n",
    "%autoreload 2\n",
    "\n",
    "import numpy as np\n",
    "import pandas as pd\n",
    "import sys\n",
    "import scipy.io\n",
    "import os\n",
    "import sys\n",
    "from pathlib import Path\n",
    "import pickle\n",
    "from gc import collect\n",
    "from glob import glob\n",
    "from datetime import datetime\n",
    "import traceback\n",
    "from time import sleep\n",
    "import matplotlib.dates as mdates\n",
    "from mpl_toolkits.axes_grid1 import make_axes_locatable\n",
    "\n",
    "\n",
    "#Important!! Make sure your current directory is the MHDTurbPy folder!\n",
    "os.chdir(\"/Users/nokni/work/MHDTurbPy/\")\n",
    "\n",
    "\n",
    "# Make sure to use the local spedas\n",
    "sys.path.insert(0, os.path.join(os.getcwd(), 'pyspedas'))\n",
    "import pyspedas\n",
    "from pyspedas.utilities import time_string\n",
    "from pytplot import get_data\n",
    "\n",
    "\n",
    "\"\"\" Import manual functions \"\"\"\n",
    "\n",
    "sys.path.insert(1, os.path.join(os.getcwd(), 'functions'))\n",
    "import calc_diagnostics as calc\n",
    "import TurbPy as turb\n",
    "import general_functions as func\n",
    "import Figures as figs\n",
    "from   SEA import SEA\n",
    "\n",
    "sys.path.insert(1, os.path.join(os.getcwd(), 'functions/3d_anis_analysis_toolboox'))\n",
    "import collect_wave_coeffs \n",
    "import data_analysis \n",
    "\n",
    "\n",
    "# Better figures\n",
    "from matplotlib import pyplot as plt\n",
    "plt.style.use(['science', 'scatter'])\n",
    "plt.rcParams['text.usetex'] = True\n",
    "\n",
    "os.environ[\"CDF_LIB\"] = \"/Applications/cdf/cdf/lib\"\n",
    "\n",
    "\n"
   ]
  },
  {
   "cell_type": "code",
   "execution_count": 6,
   "id": "30613077-4fd5-4d86-9b0c-55d44189b9eb",
   "metadata": {},
   "outputs": [
    {
     "name": "stdout",
     "output_type": "stream",
     "text": [
      "/Volumes/Elements-1/andreaL/radial_evolution/PSP/slow_alfvenic/*/final_data.pkl\n"
     ]
    }
   ],
   "source": [
    "fnames = func.load_files('/Volumes/Elements-1/andreaL/radial_evolution/PSP/slow_alfvenic/', 'final_data.pkl')\n",
    "# func.delete_files_and_folders(fnames)"
   ]
  },
  {
   "cell_type": "code",
   "execution_count": 8,
   "id": "44190d5e-f106-4cd2-ac7d-1ee41f26e20a",
   "metadata": {},
   "outputs": [],
   "source": [
    "B = pd.read_pickle(fnames[0])"
   ]
  },
  {
   "cell_type": "code",
   "execution_count": 13,
   "id": "f0032c85-9e6c-403e-af9b-feb789330579",
   "metadata": {},
   "outputs": [],
   "source": [
    "Bdf = B['Mag']['B_resampled']"
   ]
  },
  {
   "cell_type": "code",
   "execution_count": 52,
   "id": "e7455dac-c968-406c-9863-c1955e6746d2",
   "metadata": {},
   "outputs": [
    {
     "name": "stderr",
     "output_type": "stream",
     "text": [
      "17-Oct-23 08:26:48: /var/folders/vj/mxbpcd0j13b_qfbqdq6h8b8r0000gs/T/ipykernel_83414/4116833453.py:33: RuntimeWarning: invalid value encountered in arccos\n",
      "  α_degrees = np.arccos(dot_product / norms) * (180/np.pi)\n",
      "\n",
      "17-Oct-23 08:26:49: /var/folders/vj/mxbpcd0j13b_qfbqdq6h8b8r0000gs/T/ipykernel_83414/4116833453.py:33: RuntimeWarning: invalid value encountered in arccos\n",
      "  α_degrees = np.arccos(dot_product / norms) * (180/np.pi)\n",
      "\n",
      "17-Oct-23 08:26:49: /var/folders/vj/mxbpcd0j13b_qfbqdq6h8b8r0000gs/T/ipykernel_83414/4116833453.py:33: RuntimeWarning: invalid value encountered in arccos\n",
      "  α_degrees = np.arccos(dot_product / norms) * (180/np.pi)\n",
      "\n",
      "17-Oct-23 08:26:50: /var/folders/vj/mxbpcd0j13b_qfbqdq6h8b8r0000gs/T/ipykernel_83414/4116833453.py:33: RuntimeWarning: invalid value encountered in arccos\n",
      "  α_degrees = np.arccos(dot_product / norms) * (180/np.pi)\n",
      "\n"
     ]
    },
    {
     "data": {
      "image/png": "[encoded data removed]",
      "text/plain": [
       "<Figure size 432x288 with 1 Axes>"
      ]
     },
     "metadata": {
      "needs_background": "light"
     },
     "output_type": "display_data"
    }
   ],
   "source": [
    "\n",
    "taus  = [1, 10, 100, 1000, 10000, 100000, 1000000]\n",
    "for tau in taus:\n",
    "    resu =  turb.mag_rotations_zhdankin(tau, Bdf, return_dataframe=0)\n",
    "    pdf =func.pdf(resu[resu>0], 100, 1,1)\n",
    "\n",
    "    plt.semilogy(pdf[0], pdf[1])"
   ]
  },
  {
   "cell_type": "code",
   "execution_count": 35,
   "id": "3a719af7-84b0-4dd8-aed6-d8e3f8761d91",
   "metadata": {},
   "outputs": [
    {
     "data": {
      "text/plain": [
       "(1264615, 1264615)"
      ]
     },
     "execution_count": 35,
     "metadata": {},
     "output_type": "execute_result"
    }
   ],
   "source": [
    "len(resu), len(Bdf)"
   ]
  },
  {
   "cell_type": "code",
   "execution_count": 51,
   "id": "69474082-1b3e-4d72-ba65-7ee9f78703f0",
   "metadata": {},
   "outputs": [],
   "source": [
    "import numpy as np\n",
    "import pandas as pd\n",
    "\n"
   ]
  },
  {
   "cell_type": "markdown",
   "id": "ada86795-94be-41e0-9af6-d500ca739082",
   "metadata": {
    "tags": []
   },
   "source": [
    "# Download data"
   ]
  },
  {
   "cell_type": "code",
   "execution_count": null,
   "id": "950bf330-6162-4a55-ac8d-7c0dcaa25015",
   "metadata": {},
   "outputs": [
    {
     "name": "stdout",
     "output_type": "stream",
     "text": [
      "Folder name /Volumes/Elements-1/andreaL/radial_evolution/PSP/slow_alfvenic/2019-04-09_05-17-00_2019-04-09_15-09-00_sc_0\n",
      "Downloading unpublished Data....\n"
     ]
    },
    {
     "name": "stderr",
     "output_type": "stream",
     "text": [
      "17-Oct-23 07:41:55: File is current: psp_data/fields/l2/mag_RTN/2019/04/psp_fld_l2_mag_RTN_2019040812_v02.cdf\n",
      "17-Oct-23 07:41:55: File is current: psp_data/fields/l2/mag_RTN/2019/04/psp_fld_l2_mag_RTN_2019040818_v02.cdf\n",
      "17-Oct-23 07:41:55: File is current: psp_data/fields/l2/mag_RTN/2019/04/psp_fld_l2_mag_RTN_2019040900_v02.cdf\n",
      "17-Oct-23 07:41:55: File is current: psp_data/fields/l2/mag_RTN/2019/04/psp_fld_l2_mag_RTN_2019040906_v02.cdf\n",
      "17-Oct-23 07:41:55: File is current: psp_data/fields/l2/mag_RTN/2019/04/psp_fld_l2_mag_RTN_2019040912_v02.cdf\n",
      "17-Oct-23 07:41:55: File is current: psp_data/fields/l2/mag_RTN/2019/04/psp_fld_l2_mag_RTN_2019040918_v02.cdf\n",
      "17-Oct-23 07:41:55: File is current: psp_data/fields/l2/mag_RTN/2019/04/psp_fld_l2_mag_RTN_2019041000_v02.cdf\n",
      "17-Oct-23 07:42:26: Time clip was applied to: psp_fld_l2_mag_RTN\n",
      "17-Oct-23 07:42:27: File is current: psp_data/fields/l2/mag_RTN/2019/04/psp_fld_l2_mag_RTN_2019040812_v02.cdf\n",
      "17-Oct-23 07:42:27: File is current: psp_data/fields/l2/mag_RTN/2019/04/psp_fld_l2_mag_RTN_2019040818_v02.cdf\n",
      "17-Oct-23 07:42:27: File is current: psp_data/fields/l2/mag_RTN/2019/04/psp_fld_l2_mag_RTN_2019040900_v02.cdf\n"
     ]
    },
    {
     "name": "stdout",
     "output_type": "stream",
     "text": [
      "Downloading unpublished Data....\n"
     ]
    },
    {
     "name": "stderr",
     "output_type": "stream",
     "text": [
      "17-Oct-23 07:42:27: File is current: psp_data/fields/l2/mag_RTN/2019/04/psp_fld_l2_mag_RTN_2019040906_v02.cdf\n",
      "17-Oct-23 07:42:27: File is current: psp_data/fields/l2/mag_RTN/2019/04/psp_fld_l2_mag_RTN_2019040912_v02.cdf\n",
      "17-Oct-23 07:42:27: File is current: psp_data/fields/l2/mag_RTN/2019/04/psp_fld_l2_mag_RTN_2019040918_v02.cdf\n",
      "17-Oct-23 07:42:27: File is current: psp_data/fields/l2/mag_RTN/2019/04/psp_fld_l2_mag_RTN_2019041000_v02.cdf\n",
      "17-Oct-23 07:42:27: Time clip was applied to: psp_fld_l2_quality_flags\n",
      "17-Oct-23 07:43:00: Downloading remote index: http://sweap.cfa.harvard.edu/data/sci/sweap/spi/L3/spi_sf00/2019/04/\n"
     ]
    },
    {
     "name": "stdout",
     "output_type": "stream",
     "text": [
      "Span Variables ['DENS', 'VEL_RTN_SUN', 'TEMP', 'SUN_DIST', 'SC_VEL_RTN_SUN']\n",
      "Downloading unpublished Data....\n"
     ]
    },
    {
     "name": "stderr",
     "output_type": "stream",
     "text": [
      "17-Oct-23 07:43:01: File is current: psp_data/sweap/spi/L3/spi_sf00/2019/04/psp_swp_spi_sf00_L3_mom_20190408_v04.cdf\n",
      "17-Oct-23 07:43:01: File is current: psp_data/sweap/spi/L3/spi_sf00/2019/04/psp_swp_spi_sf00_L3_mom_20190409_v04.cdf\n",
      "17-Oct-23 07:43:01: File is current: psp_data/sweap/spi/L3/spi_sf00/2019/04/psp_swp_spi_sf00_L3_mom_20190410_v04.cdf\n",
      "17-Oct-23 07:43:01: Time clip was applied to: psp_spi_DENS\n",
      "17-Oct-23 07:43:01: Time clip was applied to: psp_spi_VEL_RTN_SUN\n",
      "17-Oct-23 07:43:01: Time clip was applied to: psp_spi_TEMP\n",
      "17-Oct-23 07:43:01: Time clip was applied to: psp_spi_SUN_DIST\n",
      "17-Oct-23 07:43:01: Time clip was applied to: psp_spi_SC_VEL_RTN_SUN\n",
      "17-Oct-23 07:43:01: Downloading remote index: http://sweap.cfa.harvard.edu/data/sci/sweap/spi/L3/spi_sf0a/2019/04/\n"
     ]
    },
    {
     "name": "stdout",
     "output_type": "stream",
     "text": [
      "Downloading unpublished Data....\n"
     ]
    },
    {
     "name": "stderr",
     "output_type": "stream",
     "text": [
      "17-Oct-23 07:43:01: File is current: psp_data/sweap/spi/L3/spi_sf0a/2019/04/psp_swp_spi_sf0a_L3_mom_20190408_v04.cdf\n",
      "17-Oct-23 07:43:02: File is current: psp_data/sweap/spi/L3/spi_sf0a/2019/04/psp_swp_spi_sf0a_L3_mom_20190409_v04.cdf\n",
      "17-Oct-23 07:43:02: File is current: psp_data/sweap/spi/L3/spi_sf0a/2019/04/psp_swp_spi_sf0a_L3_mom_20190410_v04.cdf\n",
      "17-Oct-23 07:43:02: Time clip was applied to: psp_spi_DENS\n",
      "17-Oct-23 07:43:02: /Users/nokni/work/MHDTurbPy/functions/general_functions.py:2116: RuntimeWarning: Mean of empty slice\n",
      "  return np.nanmean((df.dropna().index.to_series().diff() / np.timedelta64(1, 's')))\n",
      "\n",
      "17-Oct-23 07:43:02: Downloading remote index: http://sweap.cfa.harvard.edu/data/sci/sweap/spc/L3/2019/04/\n"
     ]
    },
    {
     "name": "stdout",
     "output_type": "stream",
     "text": [
      "Spc Variables ['np_moment', 'wp_moment', 'vp_moment_RTN', 'sc_pos_HCI', 'carr_longitude', 'na_fit']\n",
      "Using LEVEL=L3 (unpublished)\n",
      "Downloading unpublished Data....\n"
     ]
    },
    {
     "name": "stderr",
     "output_type": "stream",
     "text": [
      "17-Oct-23 07:43:02: File is current: psp_data/sweap/spc/L3/2019/04/psp_swp_spc_l3i_20190408_v01.cdf\n",
      "17-Oct-23 07:43:02: File is current: psp_data/sweap/spc/L3/2019/04/psp_swp_spc_l3i_20190409_v01.cdf\n",
      "17-Oct-23 07:43:02: File is current: psp_data/sweap/spc/L3/2019/04/psp_swp_spc_l3i_20190410_v01.cdf\n",
      "17-Oct-23 07:43:04: Time clip was applied to: psp_spc_np_moment\n",
      "17-Oct-23 07:43:05: Time clip was applied to: psp_spc_wp_moment\n",
      "17-Oct-23 07:43:05: Time clip was applied to: psp_spc_vp_moment_RTN\n",
      "17-Oct-23 07:43:05: Time clip was applied to: psp_spc_sc_pos_HCI\n",
      "17-Oct-23 07:43:06: Time clip was applied to: psp_spc_carr_longitude\n",
      "17-Oct-23 07:43:06: Time clip was applied to: psp_spc_na_fit\n",
      "17-Oct-23 07:43:06: /Users/nokni/work/MHDTurbPy/functions/general_functions.py:2116: RuntimeWarning: Mean of empty slice\n",
      "  return np.nanmean((df.dropna().index.to_series().diff() / np.timedelta64(1, 's')))\n",
      "\n",
      "17-Oct-23 07:43:06: Downloading remote index: https://sprg.ssl.berkeley.edu/data/spp/data/sci/fields/l3/sqtn_rfs_V1V2/2019/04/\n",
      "17-Oct-23 07:43:06: File is current: psp_data/fields/l3/sqtn_rfs_V1V2/2019/04/psp_fld_l3_sqtn_rfs_V1V2_20190408_v1.0.cdf\n",
      "17-Oct-23 07:43:06: File is current: psp_data/fields/l3/sqtn_rfs_V1V2/2019/04/psp_fld_l3_sqtn_rfs_V1V2_20190409_v1.0.cdf\n"
     ]
    },
    {
     "name": "stdout",
     "output_type": "stream",
     "text": [
      "QTN ['electron_density', 'electron_core_temperature']\n",
      "Using LEVEL=L3\n",
      "Downloading unpublished Data....\n"
     ]
    },
    {
     "name": "stderr",
     "output_type": "stream",
     "text": [
      "17-Oct-23 07:43:06: File is current: psp_data/fields/l3/sqtn_rfs_V1V2/2019/04/psp_fld_l3_sqtn_rfs_V1V2_20190410_v1.0.cdf\n",
      "17-Oct-23 07:43:07: Time clip was applied to: electron_density\n",
      "17-Oct-23 07:43:07: Time clip was applied to: electron_core_temperature\n",
      "17-Oct-23 07:43:07: File is current: psp_data/fields/l1/ephem_spp_rtn/2019/04/spp_fld_l1_ephem_spp_rtn_20190408_v01.cdf\n",
      "17-Oct-23 07:43:07: File is current: psp_data/fields/l1/ephem_spp_rtn/2019/04/spp_fld_l1_ephem_spp_rtn_20190409_v01.cdf\n"
     ]
    },
    {
     "name": "stdout",
     "output_type": "stream",
     "text": [
      "Downloading unpublished Data....\n"
     ]
    },
    {
     "name": "stderr",
     "output_type": "stream",
     "text": [
      "17-Oct-23 07:43:07: File is current: psp_data/fields/l1/ephem_spp_rtn/2019/04/spp_fld_l1_ephem_spp_rtn_20190410_v01.cdf\n",
      "17-Oct-23 07:43:07: /Users/nokni/opt/anaconda3/envs/numba/lib/python3.10/site-packages/pytplot/importers/cdf_to_tplot.py:252: FutureWarning: elementwise comparison failed; returning scalar instead, but in the future will perform elementwise comparison\n",
      "  if ydata[ydata == var_atts[\"FILLVAL\"]].size != 0:\n",
      "\n",
      "17-Oct-23 07:43:07: Time clip was applied to: position\n",
      "17-Oct-23 07:43:07: Time clip was applied to: velocity\n",
      "Traceback (most recent call last):\n",
      "  File \"/Users/nokni/work/MHDTurbPy/functions/downloading_helpers/PSP.py\", line 713, in LoadTimeSeriesPSP\n",
      "    dfpar, part_flag = create_particle_dataframe(diagnostics_SPC,diagnostics_SPAN, start_time, end_time, dfspc, dfspan, dfqtn, settings)\n",
      "  File \"/Users/nokni/work/MHDTurbPy/functions/downloading_helpers/PSP.py\", line 438, in create_particle_dataframe\n",
      "    freq = f\"{round(diagnostics['Init_dt'] * 1000)}ms\"\n",
      "TypeError: unsupported operand type(s) for *: 'NoneType' and 'int'\n",
      "Traceback (most recent call last):\n",
      "  File \"/Users/nokni/work/MHDTurbPy/functions/3d_anis_analysis_toolboox/data_analysis.py\", line 86, in download_files\n",
      "    big_gaps, flag_good, final, general, sig_c_sig_r_timeseries, dfdis = calc.final_func(\n",
      "  File \"/Users/nokni/work/MHDTurbPy/functions/calc_diagnostics.py\", line 452, in final_func\n",
      "    dfmag, dfpar, dfdis, big_gaps, misc          = LoadTimeSeriesPSP(\n",
      "TypeError: cannot unpack non-iterable NoneType object\n",
      "17-Oct-23 07:43:07: File is current: psp_data/fields/l2/mag_RTN/2020/01/psp_fld_l2_mag_RTN_2020012100_v02.cdf\n",
      "17-Oct-23 07:43:07: File is current: psp_data/fields/l2/mag_RTN/2020/01/psp_fld_l2_mag_RTN_2020012106_v02.cdf\n",
      "17-Oct-23 07:43:07: File is current: psp_data/fields/l2/mag_RTN/2020/01/psp_fld_l2_mag_RTN_2020012112_v02.cdf\n"
     ]
    },
    {
     "name": "stdout",
     "output_type": "stream",
     "text": [
      "failed at index 28 with error: cannot unpack non-iterable NoneType object\n",
      "Folder name /Volumes/Elements-1/andreaL/radial_evolution/PSP/slow_alfvenic/2020-01-21_13-32-00_2020-01-21_18-49-00_sc_0\n",
      "Downloading unpublished Data....\n"
     ]
    },
    {
     "name": "stderr",
     "output_type": "stream",
     "text": [
      "17-Oct-23 07:43:07: File is current: psp_data/fields/l2/mag_RTN/2020/01/psp_fld_l2_mag_RTN_2020012118_v02.cdf\n",
      "17-Oct-23 07:43:07: File is current: psp_data/fields/l2/mag_RTN/2020/01/psp_fld_l2_mag_RTN_2020012200_v02.cdf\n",
      "17-Oct-23 07:43:07: File is current: psp_data/fields/l2/mag_RTN/2020/01/psp_fld_l2_mag_RTN_2020012206_v02.cdf\n",
      "17-Oct-23 07:43:20: Time clip was applied to: psp_fld_l2_mag_RTN\n",
      "17-Oct-23 07:43:20: File is current: psp_data/fields/l2/mag_RTN/2020/01/psp_fld_l2_mag_RTN_2020012100_v02.cdf\n",
      "17-Oct-23 07:43:20: File is current: psp_data/fields/l2/mag_RTN/2020/01/psp_fld_l2_mag_RTN_2020012106_v02.cdf\n",
      "17-Oct-23 07:43:20: File is current: psp_data/fields/l2/mag_RTN/2020/01/psp_fld_l2_mag_RTN_2020012112_v02.cdf\n"
     ]
    },
    {
     "name": "stdout",
     "output_type": "stream",
     "text": [
      "Downloading unpublished Data....\n"
     ]
    },
    {
     "name": "stderr",
     "output_type": "stream",
     "text": [
      "17-Oct-23 07:43:20: File is current: psp_data/fields/l2/mag_RTN/2020/01/psp_fld_l2_mag_RTN_2020012118_v02.cdf\n",
      "17-Oct-23 07:43:21: File is current: psp_data/fields/l2/mag_RTN/2020/01/psp_fld_l2_mag_RTN_2020012200_v02.cdf\n",
      "17-Oct-23 07:43:21: File is current: psp_data/fields/l2/mag_RTN/2020/01/psp_fld_l2_mag_RTN_2020012206_v02.cdf\n",
      "17-Oct-23 07:43:21: Time clip was applied to: psp_fld_l2_quality_flags\n",
      "17-Oct-23 07:43:34: Downloading remote index: http://sweap.cfa.harvard.edu/data/sci/sweap/spi/L3/spi_sf00/2020/01/\n"
     ]
    },
    {
     "name": "stdout",
     "output_type": "stream",
     "text": [
      "Span Variables ['DENS', 'VEL_RTN_SUN', 'TEMP', 'SUN_DIST', 'SC_VEL_RTN_SUN']\n",
      "Downloading unpublished Data....\n"
     ]
    },
    {
     "name": "stderr",
     "output_type": "stream",
     "text": [
      "17-Oct-23 07:43:34: File is current: psp_data/sweap/spi/L3/spi_sf00/2020/01/psp_swp_spi_sf00_L3_mom_20200121_v04.cdf\n",
      "17-Oct-23 07:43:34: File is current: psp_data/sweap/spi/L3/spi_sf00/2020/01/psp_swp_spi_sf00_L3_mom_20200122_v04.cdf\n",
      "17-Oct-23 07:43:34: Time clip was applied to: psp_spi_DENS\n",
      "17-Oct-23 07:43:34: Time clip was applied to: psp_spi_VEL_RTN_SUN\n",
      "17-Oct-23 07:43:34: Time clip was applied to: psp_spi_TEMP\n",
      "17-Oct-23 07:43:34: Time clip was applied to: psp_spi_SUN_DIST\n",
      "17-Oct-23 07:43:34: Time clip was applied to: psp_spi_SC_VEL_RTN_SUN\n",
      "17-Oct-23 07:43:34: Downloading remote index: http://sweap.cfa.harvard.edu/data/sci/sweap/spi/L3/spi_sf0a/2020/01/\n"
     ]
    },
    {
     "name": "stdout",
     "output_type": "stream",
     "text": [
      "Downloading unpublished Data....\n"
     ]
    },
    {
     "name": "stderr",
     "output_type": "stream",
     "text": [
      "17-Oct-23 07:43:35: File is current: psp_data/sweap/spi/L3/spi_sf0a/2020/01/psp_swp_spi_sf0a_L3_mom_20200121_v04.cdf\n",
      "17-Oct-23 07:43:35: File is current: psp_data/sweap/spi/L3/spi_sf0a/2020/01/psp_swp_spi_sf0a_L3_mom_20200122_v04.cdf\n",
      "17-Oct-23 07:43:35: Time clip was applied to: psp_spi_DENS\n",
      "17-Oct-23 07:43:35: Downloading remote index: http://sweap.cfa.harvard.edu/data/sci/sweap/spc/L3/2020/01/\n"
     ]
    },
    {
     "name": "stdout",
     "output_type": "stream",
     "text": [
      "Spc Variables ['np_moment', 'wp_moment', 'vp_moment_RTN', 'sc_pos_HCI', 'carr_longitude', 'na_fit']\n",
      "Using LEVEL=L3 (unpublished)\n",
      "Downloading unpublished Data....\n"
     ]
    },
    {
     "name": "stderr",
     "output_type": "stream",
     "text": [
      "17-Oct-23 07:43:35: File is current: psp_data/sweap/spc/L3/2020/01/psp_swp_spc_l3i_20200121_v02.cdf\n",
      "17-Oct-23 07:43:35: File is current: psp_data/sweap/spc/L3/2020/01/psp_swp_spc_l3i_20200122_v02.cdf\n",
      "17-Oct-23 07:43:36: Time clip was applied to: psp_spc_np_moment\n",
      "17-Oct-23 07:43:36: Time clip was applied to: psp_spc_wp_moment\n",
      "17-Oct-23 07:43:36: Time clip was applied to: psp_spc_vp_moment_RTN\n",
      "17-Oct-23 07:43:36: Time clip was applied to: psp_spc_sc_pos_HCI\n",
      "17-Oct-23 07:43:36: Time clip was applied to: psp_spc_carr_longitude\n",
      "17-Oct-23 07:43:36: Time clip was applied to: psp_spc_na_fit\n",
      "17-Oct-23 07:43:36: /Users/nokni/work/MHDTurbPy/functions/general_functions.py:2116: RuntimeWarning: Mean of empty slice\n",
      "  return np.nanmean((df.dropna().index.to_series().diff() / np.timedelta64(1, 's')))\n",
      "\n",
      "17-Oct-23 07:43:36: Downloading remote index: https://sprg.ssl.berkeley.edu/data/spp/data/sci/fields/l3/sqtn_rfs_V1V2/2020/01/\n",
      "17-Oct-23 07:43:36: File is current: psp_data/fields/l3/sqtn_rfs_V1V2/2020/01/psp_fld_l3_sqtn_rfs_V1V2_20200121_v1.0.cdf\n",
      "17-Oct-23 07:43:36: File is current: psp_data/fields/l3/sqtn_rfs_V1V2/2020/01/psp_fld_l3_sqtn_rfs_V1V2_20200122_v1.0.cdf\n",
      "17-Oct-23 07:43:36: Time clip was applied to: electron_density\n",
      "17-Oct-23 07:43:36: Time clip was applied to: electron_core_temperature\n"
     ]
    },
    {
     "name": "stdout",
     "output_type": "stream",
     "text": [
      "QTN ['electron_density', 'electron_core_temperature']\n",
      "Using LEVEL=L3\n",
      "Downloading unpublished Data....\n",
      "Downloading unpublished Data....\n"
     ]
    },
    {
     "name": "stderr",
     "output_type": "stream",
     "text": [
      "17-Oct-23 07:43:36: File is current: psp_data/fields/l1/ephem_spp_rtn/2020/01/spp_fld_l1_ephem_spp_rtn_20200121_v01.cdf\n",
      "17-Oct-23 07:43:36: File is current: psp_data/fields/l1/ephem_spp_rtn/2020/01/spp_fld_l1_ephem_spp_rtn_20200122_v01.cdf\n",
      "17-Oct-23 07:43:36: /Users/nokni/opt/anaconda3/envs/numba/lib/python3.10/site-packages/pytplot/importers/cdf_to_tplot.py:252: FutureWarning: elementwise comparison failed; returning scalar instead, but in the future will perform elementwise comparison\n",
      "  if ydata[ydata == var_atts[\"FILLVAL\"]].size != 0:\n",
      "\n",
      "17-Oct-23 07:43:36: Time clip was applied to: position\n",
      "17-Oct-23 07:43:36: Time clip was applied to: velocity\n",
      "Traceback (most recent call last):\n",
      "  File \"/Users/nokni/work/MHDTurbPy/functions/downloading_helpers/PSP.py\", line 713, in LoadTimeSeriesPSP\n",
      "    dfpar, part_flag = create_particle_dataframe(diagnostics_SPC,diagnostics_SPAN, start_time, end_time, dfspc, dfspan, dfqtn, settings)\n",
      "  File \"/Users/nokni/work/MHDTurbPy/functions/downloading_helpers/PSP.py\", line 438, in create_particle_dataframe\n",
      "    freq = f\"{round(diagnostics['Init_dt'] * 1000)}ms\"\n",
      "TypeError: unsupported operand type(s) for *: 'NoneType' and 'int'\n",
      "Traceback (most recent call last):\n",
      "  File \"/Users/nokni/work/MHDTurbPy/functions/3d_anis_analysis_toolboox/data_analysis.py\", line 86, in download_files\n",
      "    big_gaps, flag_good, final, general, sig_c_sig_r_timeseries, dfdis = calc.final_func(\n",
      "  File \"/Users/nokni/work/MHDTurbPy/functions/calc_diagnostics.py\", line 452, in final_func\n",
      "    dfmag, dfpar, dfdis, big_gaps, misc          = LoadTimeSeriesPSP(\n",
      "TypeError: cannot unpack non-iterable NoneType object\n",
      "17-Oct-23 07:43:36: File is current: psp_data/fields/l2/mag_RTN/2020/01/psp_fld_l2_mag_RTN_2020012412_v02.cdf\n",
      "17-Oct-23 07:43:37: File is current: psp_data/fields/l2/mag_RTN/2020/01/psp_fld_l2_mag_RTN_2020012418_v02.cdf\n",
      "17-Oct-23 07:43:37: File is current: psp_data/fields/l2/mag_RTN/2020/01/psp_fld_l2_mag_RTN_2020012500_v02.cdf\n"
     ]
    },
    {
     "name": "stdout",
     "output_type": "stream",
     "text": [
      "failed at index 38 with error: cannot unpack non-iterable NoneType object\n",
      "Folder name /Volumes/Elements-1/andreaL/radial_evolution/PSP/slow_alfvenic/2020-01-25_04-29-00_2020-01-25_15-39-00_sc_0\n",
      "Downloading unpublished Data....\n"
     ]
    },
    {
     "name": "stderr",
     "output_type": "stream",
     "text": [
      "17-Oct-23 07:43:37: File is current: psp_data/fields/l2/mag_RTN/2020/01/psp_fld_l2_mag_RTN_2020012506_v02.cdf\n",
      "17-Oct-23 07:43:37: File is current: psp_data/fields/l2/mag_RTN/2020/01/psp_fld_l2_mag_RTN_2020012512_v02.cdf\n",
      "17-Oct-23 07:43:37: File is current: psp_data/fields/l2/mag_RTN/2020/01/psp_fld_l2_mag_RTN_2020012518_v02.cdf\n",
      "17-Oct-23 07:43:37: File is current: psp_data/fields/l2/mag_RTN/2020/01/psp_fld_l2_mag_RTN_2020012600_v02.cdf\n",
      "17-Oct-23 07:43:55: Time clip was applied to: psp_fld_l2_mag_RTN\n",
      "17-Oct-23 07:43:55: File is current: psp_data/fields/l2/mag_RTN/2020/01/psp_fld_l2_mag_RTN_2020012412_v02.cdf\n",
      "17-Oct-23 07:43:55: File is current: psp_data/fields/l2/mag_RTN/2020/01/psp_fld_l2_mag_RTN_2020012418_v02.cdf\n",
      "17-Oct-23 07:43:55: File is current: psp_data/fields/l2/mag_RTN/2020/01/psp_fld_l2_mag_RTN_2020012500_v02.cdf\n"
     ]
    },
    {
     "name": "stdout",
     "output_type": "stream",
     "text": [
      "Downloading unpublished Data....\n"
     ]
    },
    {
     "name": "stderr",
     "output_type": "stream",
     "text": [
      "17-Oct-23 07:43:55: File is current: psp_data/fields/l2/mag_RTN/2020/01/psp_fld_l2_mag_RTN_2020012506_v02.cdf\n",
      "17-Oct-23 07:43:55: File is current: psp_data/fields/l2/mag_RTN/2020/01/psp_fld_l2_mag_RTN_2020012512_v02.cdf\n",
      "17-Oct-23 07:43:56: File is current: psp_data/fields/l2/mag_RTN/2020/01/psp_fld_l2_mag_RTN_2020012518_v02.cdf\n",
      "17-Oct-23 07:43:56: File is current: psp_data/fields/l2/mag_RTN/2020/01/psp_fld_l2_mag_RTN_2020012600_v02.cdf\n",
      "17-Oct-23 07:43:56: Time clip was applied to: psp_fld_l2_quality_flags\n",
      "17-Oct-23 07:44:16: Downloading remote index: http://sweap.cfa.harvard.edu/data/sci/sweap/spi/L3/spi_sf00/2020/01/\n"
     ]
    },
    {
     "name": "stdout",
     "output_type": "stream",
     "text": [
      "Span Variables ['DENS', 'VEL_RTN_SUN', 'TEMP', 'SUN_DIST', 'SC_VEL_RTN_SUN']\n",
      "Downloading unpublished Data....\n"
     ]
    },
    {
     "name": "stderr",
     "output_type": "stream",
     "text": [
      "17-Oct-23 07:44:17: File is current: psp_data/sweap/spi/L3/spi_sf00/2020/01/psp_swp_spi_sf00_L3_mom_20200124_v04.cdf\n",
      "17-Oct-23 07:44:17: File is current: psp_data/sweap/spi/L3/spi_sf00/2020/01/psp_swp_spi_sf00_L3_mom_20200125_v04.cdf\n",
      "17-Oct-23 07:44:17: File is current: psp_data/sweap/spi/L3/spi_sf00/2020/01/psp_swp_spi_sf00_L3_mom_20200126_v04.cdf\n",
      "17-Oct-23 07:44:17: Time clip was applied to: psp_spi_DENS\n",
      "17-Oct-23 07:44:17: Time clip was applied to: psp_spi_VEL_RTN_SUN\n",
      "17-Oct-23 07:44:17: Time clip was applied to: psp_spi_TEMP\n",
      "17-Oct-23 07:44:17: Time clip was applied to: psp_spi_SUN_DIST\n",
      "17-Oct-23 07:44:17: Time clip was applied to: psp_spi_SC_VEL_RTN_SUN\n",
      "17-Oct-23 07:44:17: Downloading remote index: http://sweap.cfa.harvard.edu/data/sci/sweap/spi/L3/spi_sf0a/2020/01/\n"
     ]
    },
    {
     "name": "stdout",
     "output_type": "stream",
     "text": [
      "Downloading unpublished Data....\n"
     ]
    },
    {
     "name": "stderr",
     "output_type": "stream",
     "text": [
      "17-Oct-23 07:44:17: File is current: psp_data/sweap/spi/L3/spi_sf0a/2020/01/psp_swp_spi_sf0a_L3_mom_20200124_v04.cdf\n",
      "17-Oct-23 07:44:18: File is current: psp_data/sweap/spi/L3/spi_sf0a/2020/01/psp_swp_spi_sf0a_L3_mom_20200125_v04.cdf\n",
      "17-Oct-23 07:44:18: File is current: psp_data/sweap/spi/L3/spi_sf0a/2020/01/psp_swp_spi_sf0a_L3_mom_20200126_v04.cdf\n",
      "17-Oct-23 07:44:18: Time clip was applied to: psp_spi_DENS\n",
      "17-Oct-23 07:44:18: /Users/nokni/work/MHDTurbPy/functions/general_functions.py:2116: RuntimeWarning: Mean of empty slice\n",
      "  return np.nanmean((df.dropna().index.to_series().diff() / np.timedelta64(1, 's')))\n",
      "\n",
      "17-Oct-23 07:44:18: Downloading remote index: http://sweap.cfa.harvard.edu/data/sci/sweap/spc/L3/2020/01/\n"
     ]
    },
    {
     "name": "stdout",
     "output_type": "stream",
     "text": [
      "Spc Variables ['np_moment', 'wp_moment', 'vp_moment_RTN', 'sc_pos_HCI', 'carr_longitude', 'na_fit']\n",
      "Using LEVEL=L3 (unpublished)\n",
      "Downloading unpublished Data....\n"
     ]
    },
    {
     "name": "stderr",
     "output_type": "stream",
     "text": [
      "17-Oct-23 07:44:18: File is current: psp_data/sweap/spc/L3/2020/01/psp_swp_spc_l3i_20200124_v02.cdf\n",
      "17-Oct-23 07:44:18: File is current: psp_data/sweap/spc/L3/2020/01/psp_swp_spc_l3i_20200125_v02.cdf\n",
      "17-Oct-23 07:44:19: File is current: psp_data/sweap/spc/L3/2020/01/psp_swp_spc_l3i_20200126_v02.cdf\n",
      "17-Oct-23 07:44:20: Time clip was applied to: psp_spc_np_moment\n",
      "17-Oct-23 07:44:20: Time clip was applied to: psp_spc_wp_moment\n",
      "17-Oct-23 07:44:20: Time clip was applied to: psp_spc_vp_moment_RTN\n",
      "17-Oct-23 07:44:20: Time clip was applied to: psp_spc_sc_pos_HCI\n",
      "17-Oct-23 07:44:21: Time clip was applied to: psp_spc_carr_longitude\n",
      "17-Oct-23 07:44:21: Time clip was applied to: psp_spc_na_fit\n",
      "17-Oct-23 07:44:21: /Users/nokni/work/MHDTurbPy/functions/general_functions.py:2116: RuntimeWarning: Mean of empty slice\n",
      "  return np.nanmean((df.dropna().index.to_series().diff() / np.timedelta64(1, 's')))\n",
      "\n",
      "17-Oct-23 07:44:21: Downloading remote index: https://sprg.ssl.berkeley.edu/data/spp/data/sci/fields/l3/sqtn_rfs_V1V2/2020/01/\n",
      "17-Oct-23 07:44:21: File is current: psp_data/fields/l3/sqtn_rfs_V1V2/2020/01/psp_fld_l3_sqtn_rfs_V1V2_20200124_v1.0.cdf\n",
      "17-Oct-23 07:44:21: File is current: psp_data/fields/l3/sqtn_rfs_V1V2/2020/01/psp_fld_l3_sqtn_rfs_V1V2_20200125_v1.0.cdf\n"
     ]
    },
    {
     "name": "stdout",
     "output_type": "stream",
     "text": [
      "QTN ['electron_density', 'electron_core_temperature']\n",
      "Using LEVEL=L3\n",
      "Downloading unpublished Data....\n"
     ]
    },
    {
     "name": "stderr",
     "output_type": "stream",
     "text": [
      "17-Oct-23 07:44:21: File is current: psp_data/fields/l3/sqtn_rfs_V1V2/2020/01/psp_fld_l3_sqtn_rfs_V1V2_20200126_v1.0.cdf\n",
      "17-Oct-23 07:44:21: Time clip was applied to: electron_density\n",
      "17-Oct-23 07:44:21: Time clip was applied to: electron_core_temperature\n",
      "17-Oct-23 07:44:21: File is current: psp_data/fields/l1/ephem_spp_rtn/2020/01/spp_fld_l1_ephem_spp_rtn_20200124_v01.cdf\n",
      "17-Oct-23 07:44:21: File is current: psp_data/fields/l1/ephem_spp_rtn/2020/01/spp_fld_l1_ephem_spp_rtn_20200125_v01.cdf\n",
      "17-Oct-23 07:44:22: File is current: psp_data/fields/l1/ephem_spp_rtn/2020/01/spp_fld_l1_ephem_spp_rtn_20200126_v01.cdf\n"
     ]
    },
    {
     "name": "stdout",
     "output_type": "stream",
     "text": [
      "Downloading unpublished Data....\n"
     ]
    },
    {
     "name": "stderr",
     "output_type": "stream",
     "text": [
      "17-Oct-23 07:44:22: /Users/nokni/opt/anaconda3/envs/numba/lib/python3.10/site-packages/pytplot/importers/cdf_to_tplot.py:252: FutureWarning: elementwise comparison failed; returning scalar instead, but in the future will perform elementwise comparison\n",
      "  if ydata[ydata == var_atts[\"FILLVAL\"]].size != 0:\n",
      "\n",
      "17-Oct-23 07:44:22: Time clip was applied to: position\n",
      "17-Oct-23 07:44:22: Time clip was applied to: velocity\n",
      "Traceback (most recent call last):\n",
      "  File \"/Users/nokni/work/MHDTurbPy/functions/downloading_helpers/PSP.py\", line 713, in LoadTimeSeriesPSP\n",
      "    dfpar, part_flag = create_particle_dataframe(diagnostics_SPC,diagnostics_SPAN, start_time, end_time, dfspc, dfspan, dfqtn, settings)\n",
      "  File \"/Users/nokni/work/MHDTurbPy/functions/downloading_helpers/PSP.py\", line 438, in create_particle_dataframe\n",
      "    freq = f\"{round(diagnostics['Init_dt'] * 1000)}ms\"\n",
      "TypeError: unsupported operand type(s) for *: 'NoneType' and 'int'\n",
      "Traceback (most recent call last):\n",
      "  File \"/Users/nokni/work/MHDTurbPy/functions/3d_anis_analysis_toolboox/data_analysis.py\", line 86, in download_files\n",
      "    big_gaps, flag_good, final, general, sig_c_sig_r_timeseries, dfdis = calc.final_func(\n",
      "  File \"/Users/nokni/work/MHDTurbPy/functions/calc_diagnostics.py\", line 452, in final_func\n",
      "    dfmag, dfpar, dfdis, big_gaps, misc          = LoadTimeSeriesPSP(\n",
      "TypeError: cannot unpack non-iterable NoneType object\n",
      "17-Oct-23 07:44:22: File is current: psp_data/fields/l2/mag_RTN/2021/01/psp_fld_l2_mag_RTN_2021012018_v02.cdf\n",
      "17-Oct-23 07:44:22: File is current: psp_data/fields/l2/mag_RTN/2021/01/psp_fld_l2_mag_RTN_2021012100_v02.cdf\n",
      "17-Oct-23 07:44:22: File is current: psp_data/fields/l2/mag_RTN/2021/01/psp_fld_l2_mag_RTN_2021012106_v02.cdf\n"
     ]
    },
    {
     "name": "stdout",
     "output_type": "stream",
     "text": [
      "failed at index 41 with error: cannot unpack non-iterable NoneType object\n",
      "Folder name /Volumes/Elements-1/andreaL/radial_evolution/PSP/slow_alfvenic/2021-01-21_08-51-00_2021-01-21_17-28-00_sc_0\n",
      "Downloading unpublished Data....\n"
     ]
    },
    {
     "name": "stderr",
     "output_type": "stream",
     "text": [
      "17-Oct-23 07:44:22: File is current: psp_data/fields/l2/mag_RTN/2021/01/psp_fld_l2_mag_RTN_2021012112_v02.cdf\n",
      "17-Oct-23 07:44:22: File is current: psp_data/fields/l2/mag_RTN/2021/01/psp_fld_l2_mag_RTN_2021012118_v02.cdf\n",
      "17-Oct-23 07:44:22: File is current: psp_data/fields/l2/mag_RTN/2021/01/psp_fld_l2_mag_RTN_2021012200_v02.cdf\n",
      "17-Oct-23 07:44:48: Time clip was applied to: psp_fld_l2_mag_RTN\n",
      "17-Oct-23 07:44:48: File is current: psp_data/fields/l2/mag_RTN/2021/01/psp_fld_l2_mag_RTN_2021012018_v02.cdf\n",
      "17-Oct-23 07:44:48: File is current: psp_data/fields/l2/mag_RTN/2021/01/psp_fld_l2_mag_RTN_2021012100_v02.cdf\n",
      "17-Oct-23 07:44:48: File is current: psp_data/fields/l2/mag_RTN/2021/01/psp_fld_l2_mag_RTN_2021012106_v02.cdf\n"
     ]
    },
    {
     "name": "stdout",
     "output_type": "stream",
     "text": [
      "Downloading unpublished Data....\n"
     ]
    },
    {
     "name": "stderr",
     "output_type": "stream",
     "text": [
      "17-Oct-23 07:44:49: File is current: psp_data/fields/l2/mag_RTN/2021/01/psp_fld_l2_mag_RTN_2021012112_v02.cdf\n",
      "17-Oct-23 07:44:49: File is current: psp_data/fields/l2/mag_RTN/2021/01/psp_fld_l2_mag_RTN_2021012118_v02.cdf\n",
      "17-Oct-23 07:44:49: File is current: psp_data/fields/l2/mag_RTN/2021/01/psp_fld_l2_mag_RTN_2021012200_v02.cdf\n",
      "17-Oct-23 07:44:49: Time clip was applied to: psp_fld_l2_quality_flags\n",
      "17-Oct-23 07:45:20: Downloading remote index: http://sweap.cfa.harvard.edu/data/sci/sweap/spi/L3/spi_sf00/2021/01/\n"
     ]
    },
    {
     "name": "stdout",
     "output_type": "stream",
     "text": [
      "Span Variables ['DENS', 'VEL_RTN_SUN', 'TEMP', 'SUN_DIST', 'SC_VEL_RTN_SUN']\n",
      "Downloading unpublished Data....\n"
     ]
    },
    {
     "name": "stderr",
     "output_type": "stream",
     "text": [
      "17-Oct-23 07:45:20: File is current: psp_data/sweap/spi/L3/spi_sf00/2021/01/psp_swp_spi_sf00_L3_mom_20210120_v04.cdf\n",
      "17-Oct-23 07:45:21: File is current: psp_data/sweap/spi/L3/spi_sf00/2021/01/psp_swp_spi_sf00_L3_mom_20210121_v04.cdf\n",
      "17-Oct-23 07:45:21: File is current: psp_data/sweap/spi/L3/spi_sf00/2021/01/psp_swp_spi_sf00_L3_mom_20210122_v04.cdf\n",
      "17-Oct-23 07:45:21: Time clip was applied to: psp_spi_DENS\n",
      "17-Oct-23 07:45:21: Time clip was applied to: psp_spi_VEL_RTN_SUN\n",
      "17-Oct-23 07:45:21: Time clip was applied to: psp_spi_TEMP\n",
      "17-Oct-23 07:45:21: Time clip was applied to: psp_spi_SUN_DIST\n",
      "17-Oct-23 07:45:21: Time clip was applied to: psp_spi_SC_VEL_RTN_SUN\n",
      "17-Oct-23 07:45:21: Downloading remote index: http://sweap.cfa.harvard.edu/data/sci/sweap/spi/L3/spi_sf0a/2021/01/\n"
     ]
    },
    {
     "name": "stdout",
     "output_type": "stream",
     "text": [
      "Downloading unpublished Data....\n"
     ]
    },
    {
     "name": "stderr",
     "output_type": "stream",
     "text": [
      "17-Oct-23 07:45:21: File is current: psp_data/sweap/spi/L3/spi_sf0a/2021/01/psp_swp_spi_sf0a_L3_mom_20210120_v04.cdf\n",
      "17-Oct-23 07:45:21: File is current: psp_data/sweap/spi/L3/spi_sf0a/2021/01/psp_swp_spi_sf0a_L3_mom_20210121_v04.cdf\n",
      "17-Oct-23 07:45:22: File is current: psp_data/sweap/spi/L3/spi_sf0a/2021/01/psp_swp_spi_sf0a_L3_mom_20210122_v04.cdf\n",
      "17-Oct-23 07:45:22: Time clip was applied to: psp_spi_DENS\n",
      "17-Oct-23 07:45:22: /Users/nokni/work/MHDTurbPy/functions/general_functions.py:2116: RuntimeWarning: Mean of empty slice\n",
      "  return np.nanmean((df.dropna().index.to_series().diff() / np.timedelta64(1, 's')))\n",
      "\n",
      "17-Oct-23 07:45:22: Downloading remote index: http://sweap.cfa.harvard.edu/data/sci/sweap/spc/L3/2021/01/\n"
     ]
    },
    {
     "name": "stdout",
     "output_type": "stream",
     "text": [
      "Spc Variables ['np_moment', 'wp_moment', 'vp_moment_RTN', 'sc_pos_HCI', 'carr_longitude', 'na_fit']\n",
      "Using LEVEL=L3 (unpublished)\n",
      "Downloading unpublished Data....\n"
     ]
    },
    {
     "name": "stderr",
     "output_type": "stream",
     "text": [
      "17-Oct-23 07:45:22: File is current: psp_data/sweap/spc/L3/2021/01/psp_swp_spc_l3i_20210120_v02.cdf\n",
      "17-Oct-23 07:45:22: File is current: psp_data/sweap/spc/L3/2021/01/psp_swp_spc_l3i_20210121_v02.cdf\n",
      "17-Oct-23 07:45:23: File is current: psp_data/sweap/spc/L3/2021/01/psp_swp_spc_l3i_20210122_v02.cdf\n",
      "17-Oct-23 07:45:23: Time clip was applied to: psp_spc_np_moment\n",
      "17-Oct-23 07:45:23: Time clip was applied to: psp_spc_wp_moment\n",
      "17-Oct-23 07:45:23: Time clip was applied to: psp_spc_vp_moment_RTN\n",
      "17-Oct-23 07:45:24: Time clip was applied to: psp_spc_sc_pos_HCI\n",
      "17-Oct-23 07:45:24: Time clip was applied to: psp_spc_carr_longitude\n",
      "17-Oct-23 07:45:24: Time clip was applied to: psp_spc_na_fit\n",
      "17-Oct-23 07:45:24: /Users/nokni/work/MHDTurbPy/functions/general_functions.py:2116: RuntimeWarning: Mean of empty slice\n",
      "  return np.nanmean((df.dropna().index.to_series().diff() / np.timedelta64(1, 's')))\n",
      "\n",
      "17-Oct-23 07:45:24: Downloading remote index: https://sprg.ssl.berkeley.edu/data/spp/data/sci/fields/l3/sqtn_rfs_V1V2/2021/01/\n",
      "17-Oct-23 07:45:24: File is current: psp_data/fields/l3/sqtn_rfs_V1V2/2021/01/psp_fld_l3_sqtn_rfs_V1V2_20210120_v2.0.cdf\n",
      "17-Oct-23 07:45:24: File is current: psp_data/fields/l3/sqtn_rfs_V1V2/2021/01/psp_fld_l3_sqtn_rfs_V1V2_20210121_v2.0.cdf\n"
     ]
    },
    {
     "name": "stdout",
     "output_type": "stream",
     "text": [
      "QTN ['electron_density', 'electron_core_temperature']\n",
      "Using LEVEL=L3\n",
      "Downloading unpublished Data....\n"
     ]
    },
    {
     "name": "stderr",
     "output_type": "stream",
     "text": [
      "17-Oct-23 07:45:24: File is current: psp_data/fields/l3/sqtn_rfs_V1V2/2021/01/psp_fld_l3_sqtn_rfs_V1V2_20210122_v2.0.cdf\n",
      "17-Oct-23 07:45:24: Time clip was applied to: electron_density\n",
      "17-Oct-23 07:45:24: Time clip was applied to: electron_core_temperature\n",
      "17-Oct-23 07:45:24: File is current: psp_data/fields/l1/ephem_spp_rtn/2021/01/spp_fld_l1_ephem_spp_rtn_20210120_v01.cdf\n",
      "17-Oct-23 07:45:24: File is current: psp_data/fields/l1/ephem_spp_rtn/2021/01/spp_fld_l1_ephem_spp_rtn_20210121_v01.cdf\n",
      "17-Oct-23 07:45:24: File is current: psp_data/fields/l1/ephem_spp_rtn/2021/01/spp_fld_l1_ephem_spp_rtn_20210122_v01.cdf\n"
     ]
    },
    {
     "name": "stdout",
     "output_type": "stream",
     "text": [
      "Downloading unpublished Data....\n"
     ]
    },
    {
     "name": "stderr",
     "output_type": "stream",
     "text": [
      "17-Oct-23 07:45:24: /Users/nokni/opt/anaconda3/envs/numba/lib/python3.10/site-packages/pytplot/importers/cdf_to_tplot.py:252: FutureWarning: elementwise comparison failed; returning scalar instead, but in the future will perform elementwise comparison\n",
      "  if ydata[ydata == var_atts[\"FILLVAL\"]].size != 0:\n",
      "\n",
      "17-Oct-23 07:45:24: Time clip was applied to: position\n",
      "17-Oct-23 07:45:24: Time clip was applied to: velocity\n",
      "Traceback (most recent call last):\n",
      "  File \"/Users/nokni/work/MHDTurbPy/functions/downloading_helpers/PSP.py\", line 713, in LoadTimeSeriesPSP\n",
      "    dfpar, part_flag = create_particle_dataframe(diagnostics_SPC,diagnostics_SPAN, start_time, end_time, dfspc, dfspan, dfqtn, settings)\n",
      "  File \"/Users/nokni/work/MHDTurbPy/functions/downloading_helpers/PSP.py\", line 438, in create_particle_dataframe\n",
      "    freq = f\"{round(diagnostics['Init_dt'] * 1000)}ms\"\n",
      "TypeError: unsupported operand type(s) for *: 'NoneType' and 'int'\n",
      "Traceback (most recent call last):\n",
      "  File \"/Users/nokni/work/MHDTurbPy/functions/3d_anis_analysis_toolboox/data_analysis.py\", line 86, in download_files\n",
      "    big_gaps, flag_good, final, general, sig_c_sig_r_timeseries, dfdis = calc.final_func(\n",
      "  File \"/Users/nokni/work/MHDTurbPy/functions/calc_diagnostics.py\", line 452, in final_func\n",
      "    dfmag, dfpar, dfdis, big_gaps, misc          = LoadTimeSeriesPSP(\n",
      "TypeError: cannot unpack non-iterable NoneType object\n",
      "17-Oct-23 07:45:25: File is current: psp_data/fields/l2/mag_RTN/2021/08/psp_fld_l2_mag_RTN_2021080806_v02.cdf\n",
      "17-Oct-23 07:45:25: File is current: psp_data/fields/l2/mag_RTN/2021/08/psp_fld_l2_mag_RTN_2021080812_v02.cdf\n",
      "17-Oct-23 07:45:25: File is current: psp_data/fields/l2/mag_RTN/2021/08/psp_fld_l2_mag_RTN_2021080818_v02.cdf\n"
     ]
    },
    {
     "name": "stdout",
     "output_type": "stream",
     "text": [
      "failed at index 57 with error: cannot unpack non-iterable NoneType object\n",
      "Folder name /Volumes/Elements-1/andreaL/radial_evolution/PSP/slow_alfvenic/2021-08-08_19-39-00_2021-08-08_22-20-00_sc_0\n",
      "Downloading unpublished Data....\n"
     ]
    },
    {
     "name": "stderr",
     "output_type": "stream",
     "text": [
      "17-Oct-23 07:45:25: File is current: psp_data/fields/l2/mag_RTN/2021/08/psp_fld_l2_mag_RTN_2021080900_v02.cdf\n",
      "17-Oct-23 07:45:25: File is current: psp_data/fields/l2/mag_RTN/2021/08/psp_fld_l2_mag_RTN_2021080906_v02.cdf\n",
      "17-Oct-23 07:46:08: Time clip was applied to: psp_fld_l2_mag_RTN\n",
      "17-Oct-23 07:46:08: File is current: psp_data/fields/l2/mag_RTN/2021/08/psp_fld_l2_mag_RTN_2021080806_v02.cdf\n",
      "17-Oct-23 07:46:08: File is current: psp_data/fields/l2/mag_RTN/2021/08/psp_fld_l2_mag_RTN_2021080812_v02.cdf\n"
     ]
    },
    {
     "name": "stdout",
     "output_type": "stream",
     "text": [
      "Downloading unpublished Data....\n"
     ]
    },
    {
     "name": "stderr",
     "output_type": "stream",
     "text": [
      "17-Oct-23 07:46:08: File is current: psp_data/fields/l2/mag_RTN/2021/08/psp_fld_l2_mag_RTN_2021080818_v02.cdf\n",
      "17-Oct-23 07:46:08: File is current: psp_data/fields/l2/mag_RTN/2021/08/psp_fld_l2_mag_RTN_2021080900_v02.cdf\n",
      "17-Oct-23 07:46:08: File is current: psp_data/fields/l2/mag_RTN/2021/08/psp_fld_l2_mag_RTN_2021080906_v02.cdf\n",
      "17-Oct-23 07:46:08: Time clip was applied to: psp_fld_l2_quality_flags\n",
      "17-Oct-23 07:47:01: /Users/nokni/work/MHDTurbPy/functions/general_functions.py:2116: RuntimeWarning: Mean of empty slice\n",
      "  return np.nanmean((df.dropna().index.to_series().diff() / np.timedelta64(1, 's')))\n",
      "\n",
      "17-Oct-23 07:47:01: Downloading remote index: http://sweap.cfa.harvard.edu/data/sci/sweap/spi/L3/spi_sf00/2021/08/\n"
     ]
    },
    {
     "name": "stdout",
     "output_type": "stream",
     "text": [
      "Span Variables ['DENS', 'VEL_RTN_SUN', 'TEMP', 'SUN_DIST', 'SC_VEL_RTN_SUN']\n",
      "Downloading unpublished Data....\n"
     ]
    },
    {
     "name": "stderr",
     "output_type": "stream",
     "text": [
      "17-Oct-23 07:47:01: File is current: psp_data/sweap/spi/L3/spi_sf00/2021/08/psp_swp_spi_sf00_L3_mom_20210808_v04.cdf\n",
      "17-Oct-23 07:47:01: File is current: psp_data/sweap/spi/L3/spi_sf00/2021/08/psp_swp_spi_sf00_L3_mom_20210809_v04.cdf\n",
      "17-Oct-23 07:47:01: Time clip was applied to: psp_spi_DENS\n",
      "17-Oct-23 07:47:01: Time clip was applied to: psp_spi_VEL_RTN_SUN\n",
      "17-Oct-23 07:47:01: Time clip was applied to: psp_spi_TEMP\n",
      "17-Oct-23 07:47:01: Time clip was applied to: psp_spi_SUN_DIST\n",
      "17-Oct-23 07:47:01: Time clip was applied to: psp_spi_SC_VEL_RTN_SUN\n",
      "17-Oct-23 07:47:01: Downloading remote index: http://sweap.cfa.harvard.edu/data/sci/sweap/spi/L3/spi_sf0a/2021/08/\n"
     ]
    },
    {
     "name": "stdout",
     "output_type": "stream",
     "text": [
      "Downloading unpublished Data....\n"
     ]
    },
    {
     "name": "stderr",
     "output_type": "stream",
     "text": [
      "17-Oct-23 07:47:02: File is current: psp_data/sweap/spi/L3/spi_sf0a/2021/08/psp_swp_spi_sf0a_L3_mom_20210808_v04.cdf\n",
      "17-Oct-23 07:47:02: File is current: psp_data/sweap/spi/L3/spi_sf0a/2021/08/psp_swp_spi_sf0a_L3_mom_20210809_v04.cdf\n",
      "17-Oct-23 07:47:02: Time clip was applied to: psp_spi_DENS\n",
      "17-Oct-23 07:47:02: Downloading remote index: http://sweap.cfa.harvard.edu/data/sci/sweap/spc/L3/2021/08/\n"
     ]
    },
    {
     "name": "stdout",
     "output_type": "stream",
     "text": [
      "Spc Variables ['np_moment', 'wp_moment', 'vp_moment_RTN', 'sc_pos_HCI', 'carr_longitude', 'na_fit']\n",
      "Using LEVEL=L3 (unpublished)\n",
      "Downloading unpublished Data....\n"
     ]
    },
    {
     "name": "stderr",
     "output_type": "stream",
     "text": [
      "17-Oct-23 07:47:03: File is current: psp_data/sweap/spc/L3/2021/08/psp_swp_spc_l3i_20210808_v02.cdf\n",
      "17-Oct-23 07:47:03: File is current: psp_data/sweap/spc/L3/2021/08/psp_swp_spc_l3i_20210809_v02.cdf\n",
      "17-Oct-23 07:47:03: Time clip was applied to: psp_spc_np_moment\n",
      "17-Oct-23 07:47:04: Time clip was applied to: psp_spc_wp_moment\n",
      "17-Oct-23 07:47:04: Time clip was applied to: psp_spc_vp_moment_RTN\n",
      "17-Oct-23 07:47:04: Time clip was applied to: psp_spc_sc_pos_HCI\n",
      "17-Oct-23 07:47:04: Time clip was applied to: psp_spc_carr_longitude\n",
      "17-Oct-23 07:47:04: Time clip was applied to: psp_spc_na_fit\n",
      "17-Oct-23 07:47:04: Downloading remote index: https://sprg.ssl.berkeley.edu/data/spp/data/sci/fields/l3/sqtn_rfs_V1V2/2021/08/\n",
      "17-Oct-23 07:47:04: File is current: psp_data/fields/l3/sqtn_rfs_V1V2/2021/08/psp_fld_l3_sqtn_rfs_V1V2_20210808_v2.0.cdf\n",
      "17-Oct-23 07:47:04: File is current: psp_data/fields/l3/sqtn_rfs_V1V2/2021/08/psp_fld_l3_sqtn_rfs_V1V2_20210809_v2.0.cdf\n"
     ]
    },
    {
     "name": "stdout",
     "output_type": "stream",
     "text": [
      "QTN ['electron_density', 'electron_core_temperature']\n",
      "Using LEVEL=L3\n",
      "Downloading unpublished Data....\n"
     ]
    },
    {
     "name": "stderr",
     "output_type": "stream",
     "text": [
      "17-Oct-23 07:47:04: Time clip was applied to: electron_density\n",
      "17-Oct-23 07:47:05: Time clip was applied to: electron_core_temperature\n",
      "17-Oct-23 07:47:05: File is current: psp_data/fields/l1/ephem_spp_rtn/2021/08/spp_fld_l1_ephem_spp_rtn_20210808_v01.cdf\n",
      "17-Oct-23 07:47:05: File is current: psp_data/fields/l1/ephem_spp_rtn/2021/08/spp_fld_l1_ephem_spp_rtn_20210809_v01.cdf\n",
      "17-Oct-23 07:47:05: /Users/nokni/opt/anaconda3/envs/numba/lib/python3.10/site-packages/pytplot/importers/cdf_to_tplot.py:252: FutureWarning: elementwise comparison failed; returning scalar instead, but in the future will perform elementwise comparison\n",
      "  if ydata[ydata == var_atts[\"FILLVAL\"]].size != 0:\n",
      "\n",
      "17-Oct-23 07:47:05: Time clip was applied to: position\n",
      "17-Oct-23 07:47:05: Time clip was applied to: velocity\n"
     ]
    },
    {
     "name": "stdout",
     "output_type": "stream",
     "text": [
      "Downloading unpublished Data....\n",
      "Used QTN\n",
      "failed at index 70 with error: cannot unpack non-iterable NoneType object\n",
      "Folder name /Volumes/Elements-1/andreaL/radial_evolution/PSP/slow_alfvenic/2021-08-14_00-29-00_2021-08-14_04-58-00_sc_0\n",
      "Downloading unpublished Data....\n"
     ]
    },
    {
     "name": "stderr",
     "output_type": "stream",
     "text": [
      "Traceback (most recent call last):\n",
      "  File \"/Users/nokni/work/MHDTurbPy/functions/downloading_helpers/PSP.py\", line 727, in LoadTimeSeriesPSP\n",
      "    return diagnostics_MAG[\"resampled_df\"].interpolate().dropna(), dfpar.interpolate().dropna(), dfephem, big_gaps, misc\n",
      "AttributeError: 'NoneType' object has no attribute 'interpolate'\n",
      "Traceback (most recent call last):\n",
      "  File \"/Users/nokni/work/MHDTurbPy/functions/3d_anis_analysis_toolboox/data_analysis.py\", line 86, in download_files\n",
      "    big_gaps, flag_good, final, general, sig_c_sig_r_timeseries, dfdis = calc.final_func(\n",
      "  File \"/Users/nokni/work/MHDTurbPy/functions/calc_diagnostics.py\", line 452, in final_func\n",
      "    dfmag, dfpar, dfdis, big_gaps, misc          = LoadTimeSeriesPSP(\n",
      "TypeError: cannot unpack non-iterable NoneType object\n",
      "17-Oct-23 07:47:05: File is current: psp_data/fields/l2/mag_RTN/2021/08/psp_fld_l2_mag_RTN_2021081312_v02.cdf\n",
      "17-Oct-23 07:47:05: File is current: psp_data/fields/l2/mag_RTN/2021/08/psp_fld_l2_mag_RTN_2021081318_v02.cdf\n",
      "17-Oct-23 07:47:05: File is current: psp_data/fields/l2/mag_RTN/2021/08/psp_fld_l2_mag_RTN_2021081400_v02.cdf\n",
      "17-Oct-23 07:47:05: File is current: psp_data/fields/l2/mag_RTN/2021/08/psp_fld_l2_mag_RTN_2021081406_v02.cdf\n",
      "17-Oct-23 07:47:05: File is current: psp_data/fields/l2/mag_RTN/2021/08/psp_fld_l2_mag_RTN_2021081412_v02.cdf\n",
      "17-Oct-23 07:48:00: Time clip was applied to: psp_fld_l2_mag_RTN\n",
      "17-Oct-23 07:48:01: File is current: psp_data/fields/l2/mag_RTN/2021/08/psp_fld_l2_mag_RTN_2021081312_v02.cdf\n",
      "17-Oct-23 07:48:01: File is current: psp_data/fields/l2/mag_RTN/2021/08/psp_fld_l2_mag_RTN_2021081318_v02.cdf\n",
      "17-Oct-23 07:48:01: File is current: psp_data/fields/l2/mag_RTN/2021/08/psp_fld_l2_mag_RTN_2021081400_v02.cdf\n"
     ]
    },
    {
     "name": "stdout",
     "output_type": "stream",
     "text": [
      "Downloading unpublished Data....\n"
     ]
    },
    {
     "name": "stderr",
     "output_type": "stream",
     "text": [
      "17-Oct-23 07:48:01: File is current: psp_data/fields/l2/mag_RTN/2021/08/psp_fld_l2_mag_RTN_2021081406_v02.cdf\n",
      "17-Oct-23 07:48:01: File is current: psp_data/fields/l2/mag_RTN/2021/08/psp_fld_l2_mag_RTN_2021081412_v02.cdf\n",
      "17-Oct-23 07:48:01: Time clip was applied to: psp_fld_l2_quality_flags\n",
      "17-Oct-23 07:48:55: /Users/nokni/work/MHDTurbPy/functions/general_functions.py:2116: RuntimeWarning: Mean of empty slice\n",
      "  return np.nanmean((df.dropna().index.to_series().diff() / np.timedelta64(1, 's')))\n",
      "\n",
      "17-Oct-23 07:48:55: Downloading remote index: http://sweap.cfa.harvard.edu/data/sci/sweap/spi/L3/spi_sf00/2021/08/\n"
     ]
    },
    {
     "name": "stdout",
     "output_type": "stream",
     "text": [
      "Span Variables ['DENS', 'VEL_RTN_SUN', 'TEMP', 'SUN_DIST', 'SC_VEL_RTN_SUN']\n",
      "Downloading unpublished Data....\n"
     ]
    },
    {
     "name": "stderr",
     "output_type": "stream",
     "text": [
      "17-Oct-23 07:48:56: File is current: psp_data/sweap/spi/L3/spi_sf00/2021/08/psp_swp_spi_sf00_L3_mom_20210813_v04.cdf\n",
      "17-Oct-23 07:48:56: File is current: psp_data/sweap/spi/L3/spi_sf00/2021/08/psp_swp_spi_sf00_L3_mom_20210814_v04.cdf\n",
      "17-Oct-23 07:48:56: Time clip was applied to: psp_spi_DENS\n",
      "17-Oct-23 07:48:56: Time clip was applied to: psp_spi_VEL_RTN_SUN\n",
      "17-Oct-23 07:48:56: Time clip was applied to: psp_spi_TEMP\n",
      "17-Oct-23 07:48:56: Time clip was applied to: psp_spi_SUN_DIST\n",
      "17-Oct-23 07:48:56: Time clip was applied to: psp_spi_SC_VEL_RTN_SUN\n",
      "17-Oct-23 07:48:56: Downloading remote index: http://sweap.cfa.harvard.edu/data/sci/sweap/spi/L3/spi_sf0a/2021/08/\n"
     ]
    },
    {
     "name": "stdout",
     "output_type": "stream",
     "text": [
      "Downloading unpublished Data....\n"
     ]
    },
    {
     "name": "stderr",
     "output_type": "stream",
     "text": [
      "17-Oct-23 07:48:57: File is current: psp_data/sweap/spi/L3/spi_sf0a/2021/08/psp_swp_spi_sf0a_L3_mom_20210813_v04.cdf\n",
      "17-Oct-23 07:48:57: File is current: psp_data/sweap/spi/L3/spi_sf0a/2021/08/psp_swp_spi_sf0a_L3_mom_20210814_v04.cdf\n",
      "17-Oct-23 07:48:57: Time clip was applied to: psp_spi_DENS\n",
      "17-Oct-23 07:48:57: Downloading remote index: http://sweap.cfa.harvard.edu/data/sci/sweap/spc/L3/2021/08/\n"
     ]
    },
    {
     "name": "stdout",
     "output_type": "stream",
     "text": [
      "Spc Variables ['np_moment', 'wp_moment', 'vp_moment_RTN', 'sc_pos_HCI', 'carr_longitude', 'na_fit']\n",
      "Using LEVEL=L3 (unpublished)\n",
      "Downloading unpublished Data....\n"
     ]
    },
    {
     "name": "stderr",
     "output_type": "stream",
     "text": [
      "17-Oct-23 07:48:57: File is current: psp_data/sweap/spc/L3/2021/08/psp_swp_spc_l3i_20210813_v02.cdf\n",
      "17-Oct-23 07:48:58: File is current: psp_data/sweap/spc/L3/2021/08/psp_swp_spc_l3i_20210814_v02.cdf\n",
      "17-Oct-23 07:48:58: Time clip was applied to: psp_spc_np_moment\n",
      "17-Oct-23 07:48:58: Time clip was applied to: psp_spc_wp_moment\n",
      "17-Oct-23 07:48:59: Time clip was applied to: psp_spc_vp_moment_RTN\n",
      "17-Oct-23 07:48:59: Time clip was applied to: psp_spc_sc_pos_HCI\n",
      "17-Oct-23 07:48:59: Time clip was applied to: psp_spc_carr_longitude\n",
      "17-Oct-23 07:48:59: Time clip was applied to: psp_spc_na_fit\n",
      "17-Oct-23 07:48:59: Downloading remote index: https://sprg.ssl.berkeley.edu/data/spp/data/sci/fields/l3/sqtn_rfs_V1V2/2021/08/\n",
      "17-Oct-23 07:48:59: File is current: psp_data/fields/l3/sqtn_rfs_V1V2/2021/08/psp_fld_l3_sqtn_rfs_V1V2_20210813_v2.0.cdf\n",
      "17-Oct-23 07:48:59: File is current: psp_data/fields/l3/sqtn_rfs_V1V2/2021/08/psp_fld_l3_sqtn_rfs_V1V2_20210814_v2.0.cdf\n"
     ]
    },
    {
     "name": "stdout",
     "output_type": "stream",
     "text": [
      "QTN ['electron_density', 'electron_core_temperature']\n",
      "Using LEVEL=L3\n",
      "Downloading unpublished Data....\n"
     ]
    },
    {
     "name": "stderr",
     "output_type": "stream",
     "text": [
      "17-Oct-23 07:48:59: Time clip was applied to: electron_density\n",
      "17-Oct-23 07:48:59: Time clip was applied to: electron_core_temperature\n",
      "17-Oct-23 07:49:00: File is current: psp_data/fields/l1/ephem_spp_rtn/2021/08/spp_fld_l1_ephem_spp_rtn_20210813_v01.cdf\n",
      "17-Oct-23 07:49:00: File is current: psp_data/fields/l1/ephem_spp_rtn/2021/08/spp_fld_l1_ephem_spp_rtn_20210814_v01.cdf\n",
      "17-Oct-23 07:49:00: /Users/nokni/opt/anaconda3/envs/numba/lib/python3.10/site-packages/pytplot/importers/cdf_to_tplot.py:252: FutureWarning: elementwise comparison failed; returning scalar instead, but in the future will perform elementwise comparison\n",
      "  if ydata[ydata == var_atts[\"FILLVAL\"]].size != 0:\n",
      "\n",
      "17-Oct-23 07:49:00: Time clip was applied to: position\n",
      "17-Oct-23 07:49:00: Time clip was applied to: velocity\n"
     ]
    },
    {
     "name": "stdout",
     "output_type": "stream",
     "text": [
      "Downloading unpublished Data....\n",
      "Used QTN\n",
      "failed at index 73 with error: cannot unpack non-iterable NoneType object\n",
      "Folder name /Volumes/Elements-1/andreaL/radial_evolution/PSP/slow_alfvenic/2021-11-16_00-44-00_2021-11-16_04-23-00_sc_0\n",
      "Downloading unpublished Data....\n"
     ]
    },
    {
     "name": "stderr",
     "output_type": "stream",
     "text": [
      "Traceback (most recent call last):\n",
      "  File \"/Users/nokni/work/MHDTurbPy/functions/downloading_helpers/PSP.py\", line 727, in LoadTimeSeriesPSP\n",
      "    return diagnostics_MAG[\"resampled_df\"].interpolate().dropna(), dfpar.interpolate().dropna(), dfephem, big_gaps, misc\n",
      "AttributeError: 'NoneType' object has no attribute 'interpolate'\n",
      "Traceback (most recent call last):\n",
      "  File \"/Users/nokni/work/MHDTurbPy/functions/3d_anis_analysis_toolboox/data_analysis.py\", line 86, in download_files\n",
      "    big_gaps, flag_good, final, general, sig_c_sig_r_timeseries, dfdis = calc.final_func(\n",
      "  File \"/Users/nokni/work/MHDTurbPy/functions/calc_diagnostics.py\", line 452, in final_func\n",
      "    dfmag, dfpar, dfdis, big_gaps, misc          = LoadTimeSeriesPSP(\n",
      "TypeError: cannot unpack non-iterable NoneType object\n",
      "17-Oct-23 07:49:00: File is current: psp_data/fields/l2/mag_RTN/2021/11/psp_fld_l2_mag_RTN_2021111512_v02.cdf\n",
      "17-Oct-23 07:49:00: File is current: psp_data/fields/l2/mag_RTN/2021/11/psp_fld_l2_mag_RTN_2021111518_v02.cdf\n",
      "17-Oct-23 07:49:00: File is current: psp_data/fields/l2/mag_RTN/2021/11/psp_fld_l2_mag_RTN_2021111600_v02.cdf\n",
      "17-Oct-23 07:49:00: File is current: psp_data/fields/l2/mag_RTN/2021/11/psp_fld_l2_mag_RTN_2021111606_v02.cdf\n",
      "17-Oct-23 07:49:00: File is current: psp_data/fields/l2/mag_RTN/2021/11/psp_fld_l2_mag_RTN_2021111612_v02.cdf\n",
      "17-Oct-23 07:49:15: Time clip was applied to: psp_fld_l2_mag_RTN\n",
      "17-Oct-23 07:49:15: File is current: psp_data/fields/l2/mag_RTN/2021/11/psp_fld_l2_mag_RTN_2021111512_v02.cdf\n",
      "17-Oct-23 07:49:15: File is current: psp_data/fields/l2/mag_RTN/2021/11/psp_fld_l2_mag_RTN_2021111518_v02.cdf\n",
      "17-Oct-23 07:49:15: File is current: psp_data/fields/l2/mag_RTN/2021/11/psp_fld_l2_mag_RTN_2021111600_v02.cdf\n"
     ]
    },
    {
     "name": "stdout",
     "output_type": "stream",
     "text": [
      "Downloading unpublished Data....\n"
     ]
    },
    {
     "name": "stderr",
     "output_type": "stream",
     "text": [
      "17-Oct-23 07:49:15: File is current: psp_data/fields/l2/mag_RTN/2021/11/psp_fld_l2_mag_RTN_2021111606_v02.cdf\n",
      "17-Oct-23 07:49:15: File is current: psp_data/fields/l2/mag_RTN/2021/11/psp_fld_l2_mag_RTN_2021111612_v02.cdf\n",
      "17-Oct-23 07:49:15: Time clip was applied to: psp_fld_l2_quality_flags\n",
      "17-Oct-23 07:49:33: Downloading remote index: http://sweap.cfa.harvard.edu/data/sci/sweap/spi/L3/spi_sf00/2021/11/\n"
     ]
    },
    {
     "name": "stdout",
     "output_type": "stream",
     "text": [
      "Span Variables ['DENS', 'VEL_RTN_SUN', 'TEMP', 'SUN_DIST', 'SC_VEL_RTN_SUN']\n",
      "Downloading unpublished Data....\n"
     ]
    },
    {
     "name": "stderr",
     "output_type": "stream",
     "text": [
      "17-Oct-23 07:49:34: File is current: psp_data/sweap/spi/L3/spi_sf00/2021/11/psp_swp_spi_sf00_L3_mom_20211115_v04.cdf\n",
      "17-Oct-23 07:49:34: File is current: psp_data/sweap/spi/L3/spi_sf00/2021/11/psp_swp_spi_sf00_L3_mom_20211116_v04.cdf\n",
      "17-Oct-23 07:49:34: Time clip was applied to: psp_spi_DENS\n",
      "17-Oct-23 07:49:34: Time clip was applied to: psp_spi_VEL_RTN_SUN\n",
      "17-Oct-23 07:49:34: Time clip was applied to: psp_spi_TEMP\n",
      "17-Oct-23 07:49:34: Time clip was applied to: psp_spi_SUN_DIST\n",
      "17-Oct-23 07:49:34: Time clip was applied to: psp_spi_SC_VEL_RTN_SUN\n",
      "17-Oct-23 07:49:34: Downloading remote index: http://sweap.cfa.harvard.edu/data/sci/sweap/spi/L3/spi_sf0a/2021/11/\n"
     ]
    },
    {
     "name": "stdout",
     "output_type": "stream",
     "text": [
      "Downloading unpublished Data....\n"
     ]
    },
    {
     "name": "stderr",
     "output_type": "stream",
     "text": [
      "17-Oct-23 07:49:34: File is current: psp_data/sweap/spi/L3/spi_sf0a/2021/11/psp_swp_spi_sf0a_L3_mom_20211115_v04.cdf\n",
      "17-Oct-23 07:49:34: File is current: psp_data/sweap/spi/L3/spi_sf0a/2021/11/psp_swp_spi_sf0a_L3_mom_20211116_v04.cdf\n",
      "17-Oct-23 07:49:34: Time clip was applied to: psp_spi_DENS\n",
      "17-Oct-23 07:49:35: /Users/nokni/work/MHDTurbPy/functions/general_functions.py:2116: RuntimeWarning: Mean of empty slice\n",
      "  return np.nanmean((df.dropna().index.to_series().diff() / np.timedelta64(1, 's')))\n",
      "\n",
      "17-Oct-23 07:49:35: Downloading remote index: http://sweap.cfa.harvard.edu/data/sci/sweap/spc/L3/2021/11/\n"
     ]
    },
    {
     "name": "stdout",
     "output_type": "stream",
     "text": [
      "Spc Variables ['np_moment', 'wp_moment', 'vp_moment_RTN', 'sc_pos_HCI', 'carr_longitude', 'na_fit']\n",
      "Using LEVEL=L3 (unpublished)\n",
      "Downloading unpublished Data....\n"
     ]
    },
    {
     "name": "stderr",
     "output_type": "stream",
     "text": [
      "17-Oct-23 07:49:35: File is current: psp_data/sweap/spc/L3/2021/11/psp_swp_spc_l3i_20211115_v02.cdf\n",
      "17-Oct-23 07:49:35: File is current: psp_data/sweap/spc/L3/2021/11/psp_swp_spc_l3i_20211116_v02.cdf\n",
      "17-Oct-23 07:49:35: Time clip was applied to: psp_spc_np_moment\n",
      "17-Oct-23 07:49:35: Time clip was applied to: psp_spc_wp_moment\n",
      "17-Oct-23 07:49:35: Time clip was applied to: psp_spc_vp_moment_RTN\n",
      "17-Oct-23 07:49:35: Time clip was applied to: psp_spc_sc_pos_HCI\n",
      "17-Oct-23 07:49:35: Time clip was applied to: psp_spc_carr_longitude\n",
      "17-Oct-23 07:49:35: Time clip was applied to: psp_spc_na_fit\n",
      "17-Oct-23 07:49:35: /Users/nokni/work/MHDTurbPy/functions/general_functions.py:2116: RuntimeWarning: Mean of empty slice\n",
      "  return np.nanmean((df.dropna().index.to_series().diff() / np.timedelta64(1, 's')))\n",
      "\n",
      "17-Oct-23 07:49:35: Downloading remote index: https://sprg.ssl.berkeley.edu/data/spp/data/sci/fields/l3/sqtn_rfs_V1V2/2021/11/\n",
      "17-Oct-23 07:49:35: File is current: psp_data/fields/l3/sqtn_rfs_V1V2/2021/11/psp_fld_l3_sqtn_rfs_V1V2_20211115_v2.0.cdf\n",
      "17-Oct-23 07:49:36: File is current: psp_data/fields/l3/sqtn_rfs_V1V2/2021/11/psp_fld_l3_sqtn_rfs_V1V2_20211116_v2.0.cdf\n"
     ]
    },
    {
     "name": "stdout",
     "output_type": "stream",
     "text": [
      "QTN ['electron_density', 'electron_core_temperature']\n",
      "Using LEVEL=L3\n",
      "Downloading unpublished Data....\n"
     ]
    },
    {
     "name": "stderr",
     "output_type": "stream",
     "text": [
      "17-Oct-23 07:49:36: Time clip was applied to: electron_density\n",
      "17-Oct-23 07:49:36: Time clip was applied to: electron_core_temperature\n",
      "17-Oct-23 07:49:36: File is current: psp_data/fields/l1/ephem_spp_rtn/2021/11/spp_fld_l1_ephem_spp_rtn_20211115_v01.cdf\n",
      "17-Oct-23 07:49:36: File is current: psp_data/fields/l1/ephem_spp_rtn/2021/11/spp_fld_l1_ephem_spp_rtn_20211116_v01.cdf\n",
      "17-Oct-23 07:49:36: /Users/nokni/opt/anaconda3/envs/numba/lib/python3.10/site-packages/pytplot/importers/cdf_to_tplot.py:252: FutureWarning: elementwise comparison failed; returning scalar instead, but in the future will perform elementwise comparison\n",
      "  if ydata[ydata == var_atts[\"FILLVAL\"]].size != 0:\n",
      "\n",
      "17-Oct-23 07:49:36: Time clip was applied to: position\n",
      "17-Oct-23 07:49:36: Time clip was applied to: velocity\n"
     ]
    },
    {
     "name": "stdout",
     "output_type": "stream",
     "text": [
      "Downloading unpublished Data....\n",
      "failed at index 80 with error: cannot unpack non-iterable NoneType object\n",
      "Folder name /Volumes/Elements-1/andreaL/radial_evolution/PSP/slow_alfvenic/2021-11-15_21-06-00_2021-11-15_23-41-00_sc_0\n",
      "Downloading unpublished Data....\n"
     ]
    },
    {
     "name": "stderr",
     "output_type": "stream",
     "text": [
      "Traceback (most recent call last):\n",
      "  File \"/Users/nokni/work/MHDTurbPy/functions/downloading_helpers/PSP.py\", line 713, in LoadTimeSeriesPSP\n",
      "    dfpar, part_flag = create_particle_dataframe(diagnostics_SPC,diagnostics_SPAN, start_time, end_time, dfspc, dfspan, dfqtn, settings)\n",
      "  File \"/Users/nokni/work/MHDTurbPy/functions/downloading_helpers/PSP.py\", line 438, in create_particle_dataframe\n",
      "    freq = f\"{round(diagnostics['Init_dt'] * 1000)}ms\"\n",
      "TypeError: unsupported operand type(s) for *: 'NoneType' and 'int'\n",
      "Traceback (most recent call last):\n",
      "  File \"/Users/nokni/work/MHDTurbPy/functions/3d_anis_analysis_toolboox/data_analysis.py\", line 86, in download_files\n",
      "    big_gaps, flag_good, final, general, sig_c_sig_r_timeseries, dfdis = calc.final_func(\n",
      "  File \"/Users/nokni/work/MHDTurbPy/functions/calc_diagnostics.py\", line 452, in final_func\n",
      "    dfmag, dfpar, dfdis, big_gaps, misc          = LoadTimeSeriesPSP(\n",
      "TypeError: cannot unpack non-iterable NoneType object\n",
      "17-Oct-23 07:49:36: File is current: psp_data/fields/l2/mag_RTN/2021/11/psp_fld_l2_mag_RTN_2021111506_v02.cdf\n",
      "17-Oct-23 07:49:36: File is current: psp_data/fields/l2/mag_RTN/2021/11/psp_fld_l2_mag_RTN_2021111512_v02.cdf\n",
      "17-Oct-23 07:49:36: File is current: psp_data/fields/l2/mag_RTN/2021/11/psp_fld_l2_mag_RTN_2021111518_v02.cdf\n",
      "17-Oct-23 07:49:36: File is current: psp_data/fields/l2/mag_RTN/2021/11/psp_fld_l2_mag_RTN_2021111600_v02.cdf\n",
      "17-Oct-23 07:49:36: File is current: psp_data/fields/l2/mag_RTN/2021/11/psp_fld_l2_mag_RTN_2021111606_v02.cdf\n",
      "17-Oct-23 07:49:46: Time clip was applied to: psp_fld_l2_mag_RTN\n",
      "17-Oct-23 07:49:46: File is current: psp_data/fields/l2/mag_RTN/2021/11/psp_fld_l2_mag_RTN_2021111506_v02.cdf\n",
      "17-Oct-23 07:49:46: File is current: psp_data/fields/l2/mag_RTN/2021/11/psp_fld_l2_mag_RTN_2021111512_v02.cdf\n",
      "17-Oct-23 07:49:46: File is current: psp_data/fields/l2/mag_RTN/2021/11/psp_fld_l2_mag_RTN_2021111518_v02.cdf\n"
     ]
    },
    {
     "name": "stdout",
     "output_type": "stream",
     "text": [
      "Downloading unpublished Data....\n"
     ]
    },
    {
     "name": "stderr",
     "output_type": "stream",
     "text": [
      "17-Oct-23 07:49:46: File is current: psp_data/fields/l2/mag_RTN/2021/11/psp_fld_l2_mag_RTN_2021111600_v02.cdf\n",
      "17-Oct-23 07:49:46: File is current: psp_data/fields/l2/mag_RTN/2021/11/psp_fld_l2_mag_RTN_2021111606_v02.cdf\n",
      "17-Oct-23 07:49:46: Time clip was applied to: psp_fld_l2_quality_flags\n",
      "17-Oct-23 07:49:59: Downloading remote index: http://sweap.cfa.harvard.edu/data/sci/sweap/spi/L3/spi_sf00/2021/11/\n"
     ]
    },
    {
     "name": "stdout",
     "output_type": "stream",
     "text": [
      "Span Variables ['DENS', 'VEL_RTN_SUN', 'TEMP', 'SUN_DIST', 'SC_VEL_RTN_SUN']\n",
      "Downloading unpublished Data....\n"
     ]
    },
    {
     "name": "stderr",
     "output_type": "stream",
     "text": [
      "17-Oct-23 07:49:59: File is current: psp_data/sweap/spi/L3/spi_sf00/2021/11/psp_swp_spi_sf00_L3_mom_20211115_v04.cdf\n",
      "17-Oct-23 07:49:59: File is current: psp_data/sweap/spi/L3/spi_sf00/2021/11/psp_swp_spi_sf00_L3_mom_20211116_v04.cdf\n",
      "17-Oct-23 07:49:59: Time clip was applied to: psp_spi_DENS\n",
      "17-Oct-23 07:49:59: Time clip was applied to: psp_spi_VEL_RTN_SUN\n",
      "17-Oct-23 07:49:59: Time clip was applied to: psp_spi_TEMP\n",
      "17-Oct-23 07:49:59: Time clip was applied to: psp_spi_SUN_DIST\n",
      "17-Oct-23 07:49:59: Time clip was applied to: psp_spi_SC_VEL_RTN_SUN\n",
      "17-Oct-23 07:49:59: Downloading remote index: http://sweap.cfa.harvard.edu/data/sci/sweap/spi/L3/spi_sf0a/2021/11/\n"
     ]
    },
    {
     "name": "stdout",
     "output_type": "stream",
     "text": [
      "Downloading unpublished Data....\n"
     ]
    },
    {
     "name": "stderr",
     "output_type": "stream",
     "text": [
      "17-Oct-23 07:50:00: File is current: psp_data/sweap/spi/L3/spi_sf0a/2021/11/psp_swp_spi_sf0a_L3_mom_20211115_v04.cdf\n",
      "17-Oct-23 07:50:00: File is current: psp_data/sweap/spi/L3/spi_sf0a/2021/11/psp_swp_spi_sf0a_L3_mom_20211116_v04.cdf\n",
      "17-Oct-23 07:50:00: Time clip was applied to: psp_spi_DENS\n",
      "17-Oct-23 07:50:00: Downloading remote index: http://sweap.cfa.harvard.edu/data/sci/sweap/spc/L3/2021/11/\n"
     ]
    },
    {
     "name": "stdout",
     "output_type": "stream",
     "text": [
      "Spc Variables ['np_moment', 'wp_moment', 'vp_moment_RTN', 'sc_pos_HCI', 'carr_longitude', 'na_fit']\n",
      "Using LEVEL=L3 (unpublished)\n",
      "Downloading unpublished Data....\n"
     ]
    },
    {
     "name": "stderr",
     "output_type": "stream",
     "text": [
      "17-Oct-23 07:50:00: File is current: psp_data/sweap/spc/L3/2021/11/psp_swp_spc_l3i_20211115_v02.cdf\n",
      "17-Oct-23 07:50:00: File is current: psp_data/sweap/spc/L3/2021/11/psp_swp_spc_l3i_20211116_v02.cdf\n",
      "17-Oct-23 07:50:01: Time clip was applied to: psp_spc_np_moment\n",
      "17-Oct-23 07:50:01: Time clip was applied to: psp_spc_wp_moment\n",
      "17-Oct-23 07:50:01: Time clip was applied to: psp_spc_vp_moment_RTN\n",
      "17-Oct-23 07:50:01: Time clip was applied to: psp_spc_sc_pos_HCI\n",
      "17-Oct-23 07:50:01: Time clip was applied to: psp_spc_carr_longitude\n",
      "17-Oct-23 07:50:01: Time clip was applied to: psp_spc_na_fit\n",
      "17-Oct-23 07:50:01: Downloading remote index: https://sprg.ssl.berkeley.edu/data/spp/data/sci/fields/l3/sqtn_rfs_V1V2/2021/11/\n",
      "17-Oct-23 07:50:01: File is current: psp_data/fields/l3/sqtn_rfs_V1V2/2021/11/psp_fld_l3_sqtn_rfs_V1V2_20211115_v2.0.cdf\n",
      "17-Oct-23 07:50:01: File is current: psp_data/fields/l3/sqtn_rfs_V1V2/2021/11/psp_fld_l3_sqtn_rfs_V1V2_20211116_v2.0.cdf\n"
     ]
    },
    {
     "name": "stdout",
     "output_type": "stream",
     "text": [
      "QTN ['electron_density', 'electron_core_temperature']\n",
      "Using LEVEL=L3\n",
      "Downloading unpublished Data....\n"
     ]
    },
    {
     "name": "stderr",
     "output_type": "stream",
     "text": [
      "17-Oct-23 07:50:01: Time clip was applied to: electron_density\n",
      "17-Oct-23 07:50:01: Time clip was applied to: electron_core_temperature\n",
      "17-Oct-23 07:50:01: File is current: psp_data/fields/l1/ephem_spp_rtn/2021/11/spp_fld_l1_ephem_spp_rtn_20211115_v01.cdf\n",
      "17-Oct-23 07:50:01: File is current: psp_data/fields/l1/ephem_spp_rtn/2021/11/spp_fld_l1_ephem_spp_rtn_20211116_v01.cdf\n",
      "17-Oct-23 07:50:01: /Users/nokni/opt/anaconda3/envs/numba/lib/python3.10/site-packages/pytplot/importers/cdf_to_tplot.py:252: FutureWarning: elementwise comparison failed; returning scalar instead, but in the future will perform elementwise comparison\n",
      "  if ydata[ydata == var_atts[\"FILLVAL\"]].size != 0:\n",
      "\n",
      "17-Oct-23 07:50:01: Time clip was applied to: position\n",
      "17-Oct-23 07:50:01: Time clip was applied to: velocity\n"
     ]
    },
    {
     "name": "stdout",
     "output_type": "stream",
     "text": [
      "Downloading unpublished Data....\n",
      "Used QTN\n",
      "No particle data!\n",
      "81 - 224 failed!\n",
      "Folder name /Volumes/Elements-1/andreaL/radial_evolution/PSP/slow_alfvenic/2021-11-19_07-30-00_2021-11-19_17-57-00_sc_0\n",
      "Downloading unpublished Data....\n"
     ]
    },
    {
     "name": "stderr",
     "output_type": "stream",
     "text": [
      "17-Oct-23 07:50:01: File is current: psp_data/fields/l2/mag_RTN/2021/11/psp_fld_l2_mag_RTN_2021111818_v02.cdf\n",
      "17-Oct-23 07:50:01: File is current: psp_data/fields/l2/mag_RTN/2021/11/psp_fld_l2_mag_RTN_2021111900_v02.cdf\n",
      "17-Oct-23 07:50:01: File is current: psp_data/fields/l2/mag_RTN/2021/11/psp_fld_l2_mag_RTN_2021111906_v02.cdf\n",
      "17-Oct-23 07:50:02: File is current: psp_data/fields/l2/mag_RTN/2021/11/psp_fld_l2_mag_RTN_2021111912_v02.cdf\n",
      "17-Oct-23 07:50:02: File is current: psp_data/fields/l2/mag_RTN/2021/11/psp_fld_l2_mag_RTN_2021111918_v02.cdf\n",
      "17-Oct-23 07:50:02: File is current: psp_data/fields/l2/mag_RTN/2021/11/psp_fld_l2_mag_RTN_2021112000_v02.cdf\n",
      "17-Oct-23 07:50:45: Time clip was applied to: psp_fld_l2_mag_RTN\n",
      "17-Oct-23 07:50:46: File is current: psp_data/fields/l2/mag_RTN/2021/11/psp_fld_l2_mag_RTN_2021111818_v02.cdf\n",
      "17-Oct-23 07:50:46: File is current: psp_data/fields/l2/mag_RTN/2021/11/psp_fld_l2_mag_RTN_2021111900_v02.cdf\n",
      "17-Oct-23 07:50:46: File is current: psp_data/fields/l2/mag_RTN/2021/11/psp_fld_l2_mag_RTN_2021111906_v02.cdf\n"
     ]
    },
    {
     "name": "stdout",
     "output_type": "stream",
     "text": [
      "Downloading unpublished Data....\n"
     ]
    },
    {
     "name": "stderr",
     "output_type": "stream",
     "text": [
      "17-Oct-23 07:50:46: File is current: psp_data/fields/l2/mag_RTN/2021/11/psp_fld_l2_mag_RTN_2021111912_v02.cdf\n",
      "17-Oct-23 07:50:46: File is current: psp_data/fields/l2/mag_RTN/2021/11/psp_fld_l2_mag_RTN_2021111918_v02.cdf\n",
      "17-Oct-23 07:50:46: File is current: psp_data/fields/l2/mag_RTN/2021/11/psp_fld_l2_mag_RTN_2021112000_v02.cdf\n",
      "17-Oct-23 07:50:46: Time clip was applied to: psp_fld_l2_quality_flags\n",
      "17-Oct-23 07:51:42: Downloading remote index: http://sweap.cfa.harvard.edu/data/sci/sweap/spi/L3/spi_sf00/2021/11/\n"
     ]
    },
    {
     "name": "stdout",
     "output_type": "stream",
     "text": [
      "Span Variables ['DENS', 'VEL_RTN_SUN', 'TEMP', 'SUN_DIST', 'SC_VEL_RTN_SUN']\n",
      "Downloading unpublished Data....\n"
     ]
    },
    {
     "name": "stderr",
     "output_type": "stream",
     "text": [
      "17-Oct-23 07:51:42: File is current: psp_data/sweap/spi/L3/spi_sf00/2021/11/psp_swp_spi_sf00_L3_mom_20211118_v04.cdf\n",
      "17-Oct-23 07:51:42: File is current: psp_data/sweap/spi/L3/spi_sf00/2021/11/psp_swp_spi_sf00_L3_mom_20211119_v04.cdf\n",
      "17-Oct-23 07:51:42: File is current: psp_data/sweap/spi/L3/spi_sf00/2021/11/psp_swp_spi_sf00_L3_mom_20211120_v04.cdf\n",
      "17-Oct-23 07:51:43: Time clip was applied to: psp_spi_DENS\n",
      "17-Oct-23 07:51:43: Time clip was applied to: psp_spi_VEL_RTN_SUN\n",
      "17-Oct-23 07:51:43: Time clip was applied to: psp_spi_TEMP\n",
      "17-Oct-23 07:51:43: Time clip was applied to: psp_spi_SUN_DIST\n",
      "17-Oct-23 07:51:43: Time clip was applied to: psp_spi_SC_VEL_RTN_SUN\n",
      "17-Oct-23 07:51:43: Downloading remote index: http://sweap.cfa.harvard.edu/data/sci/sweap/spi/L3/spi_sf0a/2021/11/\n"
     ]
    },
    {
     "name": "stdout",
     "output_type": "stream",
     "text": [
      "Downloading unpublished Data....\n"
     ]
    },
    {
     "name": "stderr",
     "output_type": "stream",
     "text": [
      "17-Oct-23 07:51:43: File is current: psp_data/sweap/spi/L3/spi_sf0a/2021/11/psp_swp_spi_sf0a_L3_mom_20211118_v04.cdf\n",
      "17-Oct-23 07:51:43: File is current: psp_data/sweap/spi/L3/spi_sf0a/2021/11/psp_swp_spi_sf0a_L3_mom_20211119_v04.cdf\n",
      "17-Oct-23 07:51:43: File is current: psp_data/sweap/spi/L3/spi_sf0a/2021/11/psp_swp_spi_sf0a_L3_mom_20211120_v04.cdf\n",
      "17-Oct-23 07:51:44: Time clip was applied to: psp_spi_DENS\n",
      "17-Oct-23 07:51:44: /Users/nokni/work/MHDTurbPy/functions/general_functions.py:2116: RuntimeWarning: Mean of empty slice\n",
      "  return np.nanmean((df.dropna().index.to_series().diff() / np.timedelta64(1, 's')))\n",
      "\n",
      "17-Oct-23 07:51:44: Downloading remote index: http://sweap.cfa.harvard.edu/data/sci/sweap/spc/L3/2021/11/\n"
     ]
    },
    {
     "name": "stdout",
     "output_type": "stream",
     "text": [
      "Spc Variables ['np_moment', 'wp_moment', 'vp_moment_RTN', 'sc_pos_HCI', 'carr_longitude', 'na_fit']\n",
      "Using LEVEL=L3 (unpublished)\n",
      "Downloading unpublished Data....\n"
     ]
    },
    {
     "name": "stderr",
     "output_type": "stream",
     "text": [
      "17-Oct-23 07:51:44: File is current: psp_data/sweap/spc/L3/2021/11/psp_swp_spc_l3i_20211118_v02.cdf\n",
      "17-Oct-23 07:51:44: Time clip returns empty data.\n",
      "17-Oct-23 07:51:44: Time clip returns empty data.\n",
      "17-Oct-23 07:51:44: Time clip returns empty data.\n",
      "17-Oct-23 07:51:44: Time clip returns empty data.\n",
      "17-Oct-23 07:51:44: Time clip returns empty data.\n",
      "17-Oct-23 07:51:44: Time clip returns empty data.\n",
      "17-Oct-23 07:51:44: /Users/nokni/work/MHDTurbPy/functions/general_functions.py:2116: RuntimeWarning: Mean of empty slice\n",
      "  return np.nanmean((df.dropna().index.to_series().diff() / np.timedelta64(1, 's')))\n",
      "\n",
      "17-Oct-23 07:51:44: Downloading remote index: https://sprg.ssl.berkeley.edu/data/spp/data/sci/fields/l3/sqtn_rfs_V1V2/2021/11/\n",
      "17-Oct-23 07:51:44: File is current: psp_data/fields/l3/sqtn_rfs_V1V2/2021/11/psp_fld_l3_sqtn_rfs_V1V2_20211118_v2.0.cdf\n",
      "17-Oct-23 07:51:44: File is current: psp_data/fields/l3/sqtn_rfs_V1V2/2021/11/psp_fld_l3_sqtn_rfs_V1V2_20211119_v2.0.cdf\n",
      "17-Oct-23 07:51:44: File is current: psp_data/fields/l3/sqtn_rfs_V1V2/2021/11/psp_fld_l3_sqtn_rfs_V1V2_20211120_v2.0.cdf\n"
     ]
    },
    {
     "name": "stdout",
     "output_type": "stream",
     "text": [
      "QTN ['electron_density', 'electron_core_temperature']\n",
      "Using LEVEL=L3\n",
      "Downloading unpublished Data....\n"
     ]
    },
    {
     "name": "stderr",
     "output_type": "stream",
     "text": [
      "17-Oct-23 07:51:44: Time clip was applied to: electron_density\n",
      "17-Oct-23 07:51:45: Time clip was applied to: electron_core_temperature\n",
      "17-Oct-23 07:51:45: File is current: psp_data/fields/l1/ephem_spp_rtn/2021/11/spp_fld_l1_ephem_spp_rtn_20211118_v01.cdf\n",
      "17-Oct-23 07:51:45: File is current: psp_data/fields/l1/ephem_spp_rtn/2021/11/spp_fld_l1_ephem_spp_rtn_20211119_v01.cdf\n",
      "17-Oct-23 07:51:45: File is current: psp_data/fields/l1/ephem_spp_rtn/2021/11/spp_fld_l1_ephem_spp_rtn_20211120_v01.cdf\n",
      "17-Oct-23 07:51:45: /Users/nokni/opt/anaconda3/envs/numba/lib/python3.10/site-packages/pytplot/importers/cdf_to_tplot.py:252: FutureWarning: elementwise comparison failed; returning scalar instead, but in the future will perform elementwise comparison\n",
      "  if ydata[ydata == var_atts[\"FILLVAL\"]].size != 0:\n",
      "\n"
     ]
    },
    {
     "name": "stdout",
     "output_type": "stream",
     "text": [
      "Downloading unpublished Data....\n"
     ]
    },
    {
     "name": "stderr",
     "output_type": "stream",
     "text": [
      "17-Oct-23 07:51:45: Time clip was applied to: position\n",
      "17-Oct-23 07:51:45: Time clip was applied to: velocity\n",
      "Traceback (most recent call last):\n",
      "  File \"/Users/nokni/work/MHDTurbPy/functions/downloading_helpers/PSP.py\", line 713, in LoadTimeSeriesPSP\n",
      "    dfpar, part_flag = create_particle_dataframe(diagnostics_SPC,diagnostics_SPAN, start_time, end_time, dfspc, dfspan, dfqtn, settings)\n",
      "  File \"/Users/nokni/work/MHDTurbPy/functions/downloading_helpers/PSP.py\", line 438, in create_particle_dataframe\n",
      "    freq = f\"{round(diagnostics['Init_dt'] * 1000)}ms\"\n",
      "TypeError: unsupported operand type(s) for *: 'NoneType' and 'int'\n",
      "Traceback (most recent call last):\n",
      "  File \"/Users/nokni/work/MHDTurbPy/functions/3d_anis_analysis_toolboox/data_analysis.py\", line 86, in download_files\n",
      "    big_gaps, flag_good, final, general, sig_c_sig_r_timeseries, dfdis = calc.final_func(\n",
      "  File \"/Users/nokni/work/MHDTurbPy/functions/calc_diagnostics.py\", line 452, in final_func\n",
      "    dfmag, dfpar, dfdis, big_gaps, misc          = LoadTimeSeriesPSP(\n",
      "TypeError: cannot unpack non-iterable NoneType object\n",
      "17-Oct-23 07:51:45: File is current: psp_data/fields/l2/mag_RTN/2021/11/psp_fld_l2_mag_RTN_2021111912_v02.cdf\n",
      "17-Oct-23 07:51:45: File is current: psp_data/fields/l2/mag_RTN/2021/11/psp_fld_l2_mag_RTN_2021111918_v02.cdf\n",
      "17-Oct-23 07:51:45: File is current: psp_data/fields/l2/mag_RTN/2021/11/psp_fld_l2_mag_RTN_2021112000_v02.cdf\n"
     ]
    },
    {
     "name": "stdout",
     "output_type": "stream",
     "text": [
      "failed at index 85 with error: cannot unpack non-iterable NoneType object\n",
      "Folder name /Volumes/Elements-1/andreaL/radial_evolution/PSP/slow_alfvenic/2021-11-20_01-58-00_2021-11-20_04-41-00_sc_0\n",
      "Downloading unpublished Data....\n"
     ]
    },
    {
     "name": "stderr",
     "output_type": "stream",
     "text": [
      "17-Oct-23 07:51:45: File is current: psp_data/fields/l2/mag_RTN/2021/11/psp_fld_l2_mag_RTN_2021112006_v02.cdf\n",
      "17-Oct-23 07:51:45: File is current: psp_data/fields/l2/mag_RTN/2021/11/psp_fld_l2_mag_RTN_2021112012_v02.cdf\n",
      "17-Oct-23 07:52:27: Time clip was applied to: psp_fld_l2_mag_RTN\n",
      "17-Oct-23 07:52:28: File is current: psp_data/fields/l2/mag_RTN/2021/11/psp_fld_l2_mag_RTN_2021111912_v02.cdf\n",
      "17-Oct-23 07:52:28: File is current: psp_data/fields/l2/mag_RTN/2021/11/psp_fld_l2_mag_RTN_2021111918_v02.cdf\n",
      "17-Oct-23 07:52:28: File is current: psp_data/fields/l2/mag_RTN/2021/11/psp_fld_l2_mag_RTN_2021112000_v02.cdf\n"
     ]
    },
    {
     "name": "stdout",
     "output_type": "stream",
     "text": [
      "Downloading unpublished Data....\n"
     ]
    },
    {
     "name": "stderr",
     "output_type": "stream",
     "text": [
      "17-Oct-23 07:52:28: File is current: psp_data/fields/l2/mag_RTN/2021/11/psp_fld_l2_mag_RTN_2021112006_v02.cdf\n",
      "17-Oct-23 07:52:28: File is current: psp_data/fields/l2/mag_RTN/2021/11/psp_fld_l2_mag_RTN_2021112012_v02.cdf\n",
      "17-Oct-23 07:52:28: Time clip was applied to: psp_fld_l2_quality_flags\n",
      "17-Oct-23 07:53:18: /Users/nokni/work/MHDTurbPy/functions/general_functions.py:2116: RuntimeWarning: Mean of empty slice\n",
      "  return np.nanmean((df.dropna().index.to_series().diff() / np.timedelta64(1, 's')))\n",
      "\n",
      "17-Oct-23 07:53:18: Downloading remote index: http://sweap.cfa.harvard.edu/data/sci/sweap/spi/L3/spi_sf00/2021/11/\n"
     ]
    },
    {
     "name": "stdout",
     "output_type": "stream",
     "text": [
      "Span Variables ['DENS', 'VEL_RTN_SUN', 'TEMP', 'SUN_DIST', 'SC_VEL_RTN_SUN']\n",
      "Downloading unpublished Data....\n"
     ]
    },
    {
     "name": "stderr",
     "output_type": "stream",
     "text": [
      "17-Oct-23 07:53:18: File is current: psp_data/sweap/spi/L3/spi_sf00/2021/11/psp_swp_spi_sf00_L3_mom_20211119_v04.cdf\n",
      "17-Oct-23 07:53:18: File is current: psp_data/sweap/spi/L3/spi_sf00/2021/11/psp_swp_spi_sf00_L3_mom_20211120_v04.cdf\n",
      "17-Oct-23 07:53:18: Time clip was applied to: psp_spi_DENS\n",
      "17-Oct-23 07:53:18: Time clip was applied to: psp_spi_VEL_RTN_SUN\n",
      "17-Oct-23 07:53:18: Time clip was applied to: psp_spi_TEMP\n",
      "17-Oct-23 07:53:18: Time clip was applied to: psp_spi_SUN_DIST\n",
      "17-Oct-23 07:53:18: Time clip was applied to: psp_spi_SC_VEL_RTN_SUN\n",
      "17-Oct-23 07:53:18: Downloading remote index: http://sweap.cfa.harvard.edu/data/sci/sweap/spi/L3/spi_sf0a/2021/11/\n"
     ]
    },
    {
     "name": "stdout",
     "output_type": "stream",
     "text": [
      "Downloading unpublished Data....\n"
     ]
    },
    {
     "name": "stderr",
     "output_type": "stream",
     "text": [
      "17-Oct-23 07:53:18: File is current: psp_data/sweap/spi/L3/spi_sf0a/2021/11/psp_swp_spi_sf0a_L3_mom_20211119_v04.cdf\n",
      "17-Oct-23 07:53:19: File is current: psp_data/sweap/spi/L3/spi_sf0a/2021/11/psp_swp_spi_sf0a_L3_mom_20211120_v04.cdf\n",
      "17-Oct-23 07:53:19: Time clip was applied to: psp_spi_DENS\n",
      "17-Oct-23 07:53:19: Downloading remote index: http://sweap.cfa.harvard.edu/data/sci/sweap/spc/L3/2021/11/\n",
      "Traceback (most recent call last):\n",
      "  File \"/Users/nokni/work/MHDTurbPy/functions/downloading_helpers/PSP.py\", line 657, in LoadTimeSeriesPSP\n",
      "    dfspc                 = func.use_dates_return_elements_of_df_inbetween(ind1, ind2, dfspc)\n",
      "  File \"/Users/nokni/work/MHDTurbPy/functions/general_functions.py\", line 1126, in use_dates_return_elements_of_df_inbetween\n",
      "    df = df.sort_index(ascending=True)\n",
      "AttributeError: 'tuple' object has no attribute 'sort_index'\n",
      "17-Oct-23 07:53:19: Downloading remote index: https://sprg.ssl.berkeley.edu/data/spp/data/sci/fields/l3/sqtn_rfs_V1V2/2021/11/\n"
     ]
    },
    {
     "name": "stdout",
     "output_type": "stream",
     "text": [
      "Spc Variables ['np_moment', 'wp_moment', 'vp_moment_RTN', 'sc_pos_HCI', 'carr_longitude', 'na_fit']\n",
      "Using LEVEL=L3 (unpublished)\n",
      "Downloading unpublished Data....\n",
      "No data available for this interval.\n",
      "QTN ['electron_density', 'electron_core_temperature']\n",
      "Using LEVEL=L3\n",
      "Downloading unpublished Data....\n"
     ]
    },
    {
     "name": "stderr",
     "output_type": "stream",
     "text": [
      "17-Oct-23 07:53:19: File is current: psp_data/fields/l3/sqtn_rfs_V1V2/2021/11/psp_fld_l3_sqtn_rfs_V1V2_20211119_v2.0.cdf\n",
      "17-Oct-23 07:53:19: File is current: psp_data/fields/l3/sqtn_rfs_V1V2/2021/11/psp_fld_l3_sqtn_rfs_V1V2_20211120_v2.0.cdf\n",
      "17-Oct-23 07:53:19: Time clip was applied to: electron_density\n",
      "17-Oct-23 07:53:19: Time clip was applied to: electron_core_temperature\n",
      "17-Oct-23 07:53:19: File is current: psp_data/fields/l1/ephem_spp_rtn/2021/11/spp_fld_l1_ephem_spp_rtn_20211119_v01.cdf\n",
      "17-Oct-23 07:53:19: File is current: psp_data/fields/l1/ephem_spp_rtn/2021/11/spp_fld_l1_ephem_spp_rtn_20211120_v01.cdf\n",
      "17-Oct-23 07:53:19: /Users/nokni/opt/anaconda3/envs/numba/lib/python3.10/site-packages/pytplot/importers/cdf_to_tplot.py:252: FutureWarning: elementwise comparison failed; returning scalar instead, but in the future will perform elementwise comparison\n",
      "  if ydata[ydata == var_atts[\"FILLVAL\"]].size != 0:\n",
      "\n",
      "17-Oct-23 07:53:19: Time clip was applied to: position\n",
      "17-Oct-23 07:53:19: Time clip was applied to: velocity\n"
     ]
    },
    {
     "name": "stdout",
     "output_type": "stream",
     "text": [
      "Downloading unpublished Data....\n",
      "Used QTN\n",
      "failed at index 96 with error: cannot unpack non-iterable NoneType object\n",
      "Folder name /Volumes/Elements-1/andreaL/radial_evolution/PSP/slow_alfvenic/2021-11-19_02-21-00_2021-11-19_03-42-00_sc_0\n",
      "Downloading unpublished Data....\n"
     ]
    },
    {
     "name": "stderr",
     "output_type": "stream",
     "text": [
      "Traceback (most recent call last):\n",
      "  File \"/Users/nokni/work/MHDTurbPy/functions/downloading_helpers/PSP.py\", line 727, in LoadTimeSeriesPSP\n",
      "    return diagnostics_MAG[\"resampled_df\"].interpolate().dropna(), dfpar.interpolate().dropna(), dfephem, big_gaps, misc\n",
      "AttributeError: 'NoneType' object has no attribute 'interpolate'\n",
      "Traceback (most recent call last):\n",
      "  File \"/Users/nokni/work/MHDTurbPy/functions/3d_anis_analysis_toolboox/data_analysis.py\", line 86, in download_files\n",
      "    big_gaps, flag_good, final, general, sig_c_sig_r_timeseries, dfdis = calc.final_func(\n",
      "  File \"/Users/nokni/work/MHDTurbPy/functions/calc_diagnostics.py\", line 452, in final_func\n",
      "    dfmag, dfpar, dfdis, big_gaps, misc          = LoadTimeSeriesPSP(\n",
      "TypeError: cannot unpack non-iterable NoneType object\n",
      "17-Oct-23 07:53:19: File is current: psp_data/fields/l2/mag_RTN/2021/11/psp_fld_l2_mag_RTN_2021111812_v02.cdf\n",
      "17-Oct-23 07:53:20: File is current: psp_data/fields/l2/mag_RTN/2021/11/psp_fld_l2_mag_RTN_2021111818_v02.cdf\n",
      "17-Oct-23 07:53:20: File is current: psp_data/fields/l2/mag_RTN/2021/11/psp_fld_l2_mag_RTN_2021111900_v02.cdf\n",
      "17-Oct-23 07:53:20: File is current: psp_data/fields/l2/mag_RTN/2021/11/psp_fld_l2_mag_RTN_2021111906_v02.cdf\n",
      "17-Oct-23 07:53:20: File is current: psp_data/fields/l2/mag_RTN/2021/11/psp_fld_l2_mag_RTN_2021111912_v02.cdf\n",
      "17-Oct-23 07:53:59: Time clip was applied to: psp_fld_l2_mag_RTN\n",
      "17-Oct-23 07:53:59: File is current: psp_data/fields/l2/mag_RTN/2021/11/psp_fld_l2_mag_RTN_2021111812_v02.cdf\n",
      "17-Oct-23 07:53:59: File is current: psp_data/fields/l2/mag_RTN/2021/11/psp_fld_l2_mag_RTN_2021111818_v02.cdf\n",
      "17-Oct-23 07:53:59: File is current: psp_data/fields/l2/mag_RTN/2021/11/psp_fld_l2_mag_RTN_2021111900_v02.cdf\n"
     ]
    },
    {
     "name": "stdout",
     "output_type": "stream",
     "text": [
      "Downloading unpublished Data....\n"
     ]
    },
    {
     "name": "stderr",
     "output_type": "stream",
     "text": [
      "17-Oct-23 07:53:59: File is current: psp_data/fields/l2/mag_RTN/2021/11/psp_fld_l2_mag_RTN_2021111906_v02.cdf\n",
      "17-Oct-23 07:53:59: File is current: psp_data/fields/l2/mag_RTN/2021/11/psp_fld_l2_mag_RTN_2021111912_v02.cdf\n",
      "17-Oct-23 07:53:59: Time clip was applied to: psp_fld_l2_quality_flags\n",
      "17-Oct-23 07:54:45: Downloading remote index: http://sweap.cfa.harvard.edu/data/sci/sweap/spi/L3/spi_sf00/2021/11/\n"
     ]
    },
    {
     "name": "stdout",
     "output_type": "stream",
     "text": [
      "Span Variables ['DENS', 'VEL_RTN_SUN', 'TEMP', 'SUN_DIST', 'SC_VEL_RTN_SUN']\n",
      "Downloading unpublished Data....\n"
     ]
    },
    {
     "name": "stderr",
     "output_type": "stream",
     "text": [
      "17-Oct-23 07:54:46: File is current: psp_data/sweap/spi/L3/spi_sf00/2021/11/psp_swp_spi_sf00_L3_mom_20211118_v04.cdf\n",
      "17-Oct-23 07:54:46: File is current: psp_data/sweap/spi/L3/spi_sf00/2021/11/psp_swp_spi_sf00_L3_mom_20211119_v04.cdf\n",
      "17-Oct-23 07:54:46: Time clip was applied to: psp_spi_DENS\n",
      "17-Oct-23 07:54:46: Time clip was applied to: psp_spi_VEL_RTN_SUN\n",
      "17-Oct-23 07:54:46: Time clip was applied to: psp_spi_TEMP\n",
      "17-Oct-23 07:54:46: Time clip was applied to: psp_spi_SUN_DIST\n",
      "17-Oct-23 07:54:46: Time clip was applied to: psp_spi_SC_VEL_RTN_SUN\n",
      "17-Oct-23 07:54:46: Downloading remote index: http://sweap.cfa.harvard.edu/data/sci/sweap/spi/L3/spi_sf0a/2021/11/\n"
     ]
    },
    {
     "name": "stdout",
     "output_type": "stream",
     "text": [
      "Downloading unpublished Data....\n"
     ]
    },
    {
     "name": "stderr",
     "output_type": "stream",
     "text": [
      "17-Oct-23 07:54:46: File is current: psp_data/sweap/spi/L3/spi_sf0a/2021/11/psp_swp_spi_sf0a_L3_mom_20211118_v04.cdf\n",
      "17-Oct-23 07:54:46: File is current: psp_data/sweap/spi/L3/spi_sf0a/2021/11/psp_swp_spi_sf0a_L3_mom_20211119_v04.cdf\n",
      "17-Oct-23 07:54:46: Time clip was applied to: psp_spi_DENS\n",
      "17-Oct-23 07:54:46: /Users/nokni/opt/anaconda3/envs/numba/lib/python3.10/site-packages/pandas/core/arraylike.py:397: RuntimeWarning: invalid value encountered in sqrt\n",
      "  result = getattr(ufunc, method)(*inputs, **kwargs)\n",
      "\n",
      "17-Oct-23 07:54:46: /Users/nokni/work/MHDTurbPy/functions/general_functions.py:2116: RuntimeWarning: Mean of empty slice\n",
      "  return np.nanmean((df.dropna().index.to_series().diff() / np.timedelta64(1, 's')))\n",
      "\n",
      "17-Oct-23 07:54:46: Downloading remote index: http://sweap.cfa.harvard.edu/data/sci/sweap/spc/L3/2021/11/\n"
     ]
    },
    {
     "name": "stdout",
     "output_type": "stream",
     "text": [
      "Spc Variables ['np_moment', 'wp_moment', 'vp_moment_RTN', 'sc_pos_HCI', 'carr_longitude', 'na_fit']\n",
      "Using LEVEL=L3 (unpublished)\n",
      "Downloading unpublished Data....\n"
     ]
    },
    {
     "name": "stderr",
     "output_type": "stream",
     "text": [
      "17-Oct-23 07:54:47: File is current: psp_data/sweap/spc/L3/2021/11/psp_swp_spc_l3i_20211118_v02.cdf\n",
      "17-Oct-23 07:54:47: Time clip returns empty data.\n",
      "17-Oct-23 07:54:47: Time clip returns empty data.\n",
      "17-Oct-23 07:54:47: Time clip returns empty data.\n",
      "17-Oct-23 07:54:47: Time clip returns empty data.\n",
      "17-Oct-23 07:54:47: Time clip returns empty data.\n",
      "17-Oct-23 07:54:47: Time clip returns empty data.\n",
      "17-Oct-23 07:54:47: /Users/nokni/work/MHDTurbPy/functions/general_functions.py:2116: RuntimeWarning: Mean of empty slice\n",
      "  return np.nanmean((df.dropna().index.to_series().diff() / np.timedelta64(1, 's')))\n",
      "\n",
      "17-Oct-23 07:54:47: Downloading remote index: https://sprg.ssl.berkeley.edu/data/spp/data/sci/fields/l3/sqtn_rfs_V1V2/2021/11/\n",
      "17-Oct-23 07:54:47: File is current: psp_data/fields/l3/sqtn_rfs_V1V2/2021/11/psp_fld_l3_sqtn_rfs_V1V2_20211118_v2.0.cdf\n",
      "17-Oct-23 07:54:47: File is current: psp_data/fields/l3/sqtn_rfs_V1V2/2021/11/psp_fld_l3_sqtn_rfs_V1V2_20211119_v2.0.cdf\n"
     ]
    },
    {
     "name": "stdout",
     "output_type": "stream",
     "text": [
      "QTN ['electron_density', 'electron_core_temperature']\n",
      "Using LEVEL=L3\n",
      "Downloading unpublished Data....\n"
     ]
    },
    {
     "name": "stderr",
     "output_type": "stream",
     "text": [
      "17-Oct-23 07:54:47: Time clip was applied to: electron_density\n",
      "17-Oct-23 07:54:47: Time clip was applied to: electron_core_temperature\n",
      "17-Oct-23 07:54:47: File is current: psp_data/fields/l1/ephem_spp_rtn/2021/11/spp_fld_l1_ephem_spp_rtn_20211118_v01.cdf\n",
      "17-Oct-23 07:54:47: File is current: psp_data/fields/l1/ephem_spp_rtn/2021/11/spp_fld_l1_ephem_spp_rtn_20211119_v01.cdf\n",
      "17-Oct-23 07:54:47: /Users/nokni/opt/anaconda3/envs/numba/lib/python3.10/site-packages/pytplot/importers/cdf_to_tplot.py:252: FutureWarning: elementwise comparison failed; returning scalar instead, but in the future will perform elementwise comparison\n",
      "  if ydata[ydata == var_atts[\"FILLVAL\"]].size != 0:\n",
      "\n",
      "17-Oct-23 07:54:47: Time clip was applied to: position\n",
      "17-Oct-23 07:54:47: Time clip was applied to: velocity\n"
     ]
    },
    {
     "name": "stdout",
     "output_type": "stream",
     "text": [
      "Downloading unpublished Data....\n",
      "failed at index 101 with error: cannot unpack non-iterable NoneType object\n",
      "Folder name /Volumes/Elements-1/andreaL/radial_evolution/PSP/slow_alfvenic/2023-03-11_01-51-00_2023-03-11_06-38-00_sc_0\n",
      "Downloading unpublished Data....\n"
     ]
    },
    {
     "name": "stderr",
     "output_type": "stream",
     "text": [
      "Traceback (most recent call last):\n",
      "  File \"/Users/nokni/work/MHDTurbPy/functions/downloading_helpers/PSP.py\", line 713, in LoadTimeSeriesPSP\n",
      "    dfpar, part_flag = create_particle_dataframe(diagnostics_SPC,diagnostics_SPAN, start_time, end_time, dfspc, dfspan, dfqtn, settings)\n",
      "  File \"/Users/nokni/work/MHDTurbPy/functions/downloading_helpers/PSP.py\", line 438, in create_particle_dataframe\n",
      "    freq = f\"{round(diagnostics['Init_dt'] * 1000)}ms\"\n",
      "TypeError: unsupported operand type(s) for *: 'NoneType' and 'int'\n",
      "Traceback (most recent call last):\n",
      "  File \"/Users/nokni/work/MHDTurbPy/functions/3d_anis_analysis_toolboox/data_analysis.py\", line 86, in download_files\n",
      "    big_gaps, flag_good, final, general, sig_c_sig_r_timeseries, dfdis = calc.final_func(\n",
      "  File \"/Users/nokni/work/MHDTurbPy/functions/calc_diagnostics.py\", line 452, in final_func\n",
      "    dfmag, dfpar, dfdis, big_gaps, misc          = LoadTimeSeriesPSP(\n",
      "TypeError: cannot unpack non-iterable NoneType object\n",
      "17-Oct-23 07:54:47: File is current: psp_data/fields/l2/mag_RTN/2023/03/psp_fld_l2_mag_RTN_2023031012_v02.cdf\n",
      "17-Oct-23 07:54:47: File is current: psp_data/fields/l2/mag_RTN/2023/03/psp_fld_l2_mag_RTN_2023031018_v02.cdf\n",
      "17-Oct-23 07:54:47: File is current: psp_data/fields/l2/mag_RTN/2023/03/psp_fld_l2_mag_RTN_2023031100_v02.cdf\n",
      "17-Oct-23 07:54:47: File is current: psp_data/fields/l2/mag_RTN/2023/03/psp_fld_l2_mag_RTN_2023031106_v02.cdf\n",
      "17-Oct-23 07:54:48: File is current: psp_data/fields/l2/mag_RTN/2023/03/psp_fld_l2_mag_RTN_2023031112_v02.cdf\n",
      "17-Oct-23 07:54:48: File is current: psp_data/fields/l2/mag_RTN/2023/03/psp_fld_l2_mag_RTN_2023031118_v02.cdf\n",
      "17-Oct-23 07:54:50: Time clip was applied to: psp_fld_l2_mag_RTN\n",
      "17-Oct-23 07:54:50: File is current: psp_data/fields/l2/mag_RTN/2023/03/psp_fld_l2_mag_RTN_2023031012_v02.cdf\n",
      "17-Oct-23 07:54:50: File is current: psp_data/fields/l2/mag_RTN/2023/03/psp_fld_l2_mag_RTN_2023031018_v02.cdf\n",
      "17-Oct-23 07:54:50: File is current: psp_data/fields/l2/mag_RTN/2023/03/psp_fld_l2_mag_RTN_2023031100_v02.cdf\n"
     ]
    },
    {
     "name": "stdout",
     "output_type": "stream",
     "text": [
      "Downloading unpublished Data....\n"
     ]
    },
    {
     "name": "stderr",
     "output_type": "stream",
     "text": [
      "17-Oct-23 07:54:50: File is current: psp_data/fields/l2/mag_RTN/2023/03/psp_fld_l2_mag_RTN_2023031106_v02.cdf\n",
      "17-Oct-23 07:54:50: File is current: psp_data/fields/l2/mag_RTN/2023/03/psp_fld_l2_mag_RTN_2023031112_v02.cdf\n",
      "17-Oct-23 07:54:50: File is current: psp_data/fields/l2/mag_RTN/2023/03/psp_fld_l2_mag_RTN_2023031118_v02.cdf\n",
      "17-Oct-23 07:54:50: Time clip was applied to: psp_fld_l2_quality_flags\n",
      "17-Oct-23 07:54:52: Downloading remote index: http://sweap.cfa.harvard.edu/data/sci/sweap/spi/L3/spi_sf00/2023/03/\n"
     ]
    },
    {
     "name": "stdout",
     "output_type": "stream",
     "text": [
      "Span Variables ['DENS', 'VEL_RTN_SUN', 'TEMP', 'SUN_DIST', 'SC_VEL_RTN_SUN']\n",
      "Downloading unpublished Data....\n"
     ]
    },
    {
     "name": "stderr",
     "output_type": "stream",
     "text": [
      "17-Oct-23 07:54:52: File is current: psp_data/sweap/spi/L3/spi_sf00/2023/03/psp_swp_spi_sf00_L3_mom_20230310_v00.cdf\n",
      "17-Oct-23 07:54:53: File is current: psp_data/sweap/spi/L3/spi_sf00/2023/03/psp_swp_spi_sf00_L3_mom_20230310_v04.cdf\n",
      "17-Oct-23 07:54:53: File is current: psp_data/sweap/spi/L3/spi_sf00/2023/03/psp_swp_spi_sf00_L3_mom_20230311_v00.cdf\n",
      "17-Oct-23 07:54:53: File is current: psp_data/sweap/spi/L3/spi_sf00/2023/03/psp_swp_spi_sf00_L3_mom_20230311_v04.cdf\n",
      "17-Oct-23 07:54:53: Time clip was applied to: psp_spi_DENS\n",
      "17-Oct-23 07:54:53: Time clip was applied to: psp_spi_VEL_RTN_SUN\n",
      "17-Oct-23 07:54:53: Time clip was applied to: psp_spi_TEMP\n",
      "17-Oct-23 07:54:53: Time clip was applied to: psp_spi_SUN_DIST\n",
      "17-Oct-23 07:54:53: Time clip was applied to: psp_spi_SC_VEL_RTN_SUN\n",
      "17-Oct-23 07:54:53: Downloading remote index: http://sweap.cfa.harvard.edu/data/sci/sweap/spi/L3/spi_sf0a/2023/03/\n"
     ]
    },
    {
     "name": "stdout",
     "output_type": "stream",
     "text": [
      "Downloading unpublished Data....\n"
     ]
    },
    {
     "name": "stderr",
     "output_type": "stream",
     "text": [
      "17-Oct-23 07:54:54: File is current: psp_data/sweap/spi/L3/spi_sf0a/2023/03/psp_swp_spi_sf0a_L3_mom_20230310_v00.cdf\n",
      "17-Oct-23 07:54:54: File is current: psp_data/sweap/spi/L3/spi_sf0a/2023/03/psp_swp_spi_sf0a_L3_mom_20230310_v04.cdf\n",
      "17-Oct-23 07:54:54: File is current: psp_data/sweap/spi/L3/spi_sf0a/2023/03/psp_swp_spi_sf0a_L3_mom_20230311_v00.cdf\n",
      "17-Oct-23 07:54:54: File is current: psp_data/sweap/spi/L3/spi_sf0a/2023/03/psp_swp_spi_sf0a_L3_mom_20230311_v04.cdf\n",
      "17-Oct-23 07:54:54: Time clip was applied to: psp_spi_DENS\n",
      "17-Oct-23 07:54:54: /Users/nokni/opt/anaconda3/envs/numba/lib/python3.10/site-packages/pandas/core/arraylike.py:397: RuntimeWarning: invalid value encountered in sqrt\n",
      "  result = getattr(ufunc, method)(*inputs, **kwargs)\n",
      "\n",
      "17-Oct-23 07:54:54: Downloading remote index: http://sweap.cfa.harvard.edu/data/sci/sweap/spc/L3/2023/03/\n"
     ]
    },
    {
     "name": "stdout",
     "output_type": "stream",
     "text": [
      "Spc Variables ['np_moment', 'wp_moment', 'vp_moment_RTN', 'sc_pos_HCI', 'carr_longitude', 'na_fit']\n",
      "Using LEVEL=L3 (unpublished)\n",
      "Downloading unpublished Data....\n"
     ]
    },
    {
     "name": "stderr",
     "output_type": "stream",
     "text": [
      "17-Oct-23 07:54:55: File is current: psp_data/sweap/spc/L3/2023/03/psp_swp_spc_l3i_20230310_v02.cdf\n",
      "17-Oct-23 07:54:55: File is current: psp_data/sweap/spc/L3/2023/03/psp_swp_spc_l3i_20230311_v02.cdf\n",
      "17-Oct-23 07:54:56: Time clip was applied to: psp_spc_np_moment\n",
      "17-Oct-23 07:54:56: Time clip was applied to: psp_spc_wp_moment\n",
      "17-Oct-23 07:54:56: Time clip was applied to: psp_spc_vp_moment_RTN\n",
      "17-Oct-23 07:54:56: Time clip was applied to: psp_spc_sc_pos_HCI\n",
      "17-Oct-23 07:54:56: Time clip was applied to: psp_spc_carr_longitude\n",
      "17-Oct-23 07:54:56: Time clip was applied to: psp_spc_na_fit\n",
      "17-Oct-23 07:54:56: Downloading remote index: https://sprg.ssl.berkeley.edu/data/spp/data/sci/fields/l3/sqtn_rfs_V1V2/2023/03/\n",
      "Traceback (most recent call last):\n",
      "  File \"/Users/nokni/work/MHDTurbPy/functions/downloading_helpers/PSP.py\", line 693, in LoadTimeSeriesPSP\n",
      "    dfqtn                 = func.use_dates_return_elements_of_df_inbetween(ind1, ind2, dfqtn)\n",
      "  File \"/Users/nokni/work/MHDTurbPy/functions/general_functions.py\", line 1126, in use_dates_return_elements_of_df_inbetween\n",
      "    df = df.sort_index(ascending=True)\n",
      "AttributeError: 'NoneType' object has no attribute 'sort_index'\n",
      "17-Oct-23 07:54:57: File is current: psp_data/fields/l1/ephem_spp_rtn/2023/03/spp_fld_l1_ephem_spp_rtn_20230310_v01.cdf\n",
      "17-Oct-23 07:54:57: File is current: psp_data/fields/l1/ephem_spp_rtn/2023/03/spp_fld_l1_ephem_spp_rtn_20230311_v01.cdf\n",
      "17-Oct-23 07:54:57: /Users/nokni/opt/anaconda3/envs/numba/lib/python3.10/site-packages/pytplot/importers/cdf_to_tplot.py:252: FutureWarning: elementwise comparison failed; returning scalar instead, but in the future will perform elementwise comparison\n",
      "  if ydata[ydata == var_atts[\"FILLVAL\"]].size != 0:\n",
      "\n"
     ]
    },
    {
     "name": "stdout",
     "output_type": "stream",
     "text": [
      "QTN ['electron_density', 'electron_core_temperature']\n",
      "Using LEVEL=L3\n",
      "Downloading unpublished Data....\n",
      "No data available for this interval.\n",
      "Downloading unpublished Data....\n"
     ]
    },
    {
     "name": "stderr",
     "output_type": "stream",
     "text": [
      "17-Oct-23 07:54:57: Time clip was applied to: position\n",
      "17-Oct-23 07:54:57: Time clip was applied to: velocity\n",
      "17-Oct-23 07:54:57: /Users/nokni/work/MHDTurbPy/functions/general_functions.py:2116: RuntimeWarning: Mean of empty slice\n",
      "  return np.nanmean((df.dropna().index.to_series().diff() / np.timedelta64(1, 's')))\n",
      "\n",
      "Traceback (most recent call last):\n",
      "  File \"/Users/nokni/work/MHDTurbPy/functions/calc_diagnostics.py\", line 535, in final_func\n",
      "    res_particles, sig_c_sig_r_timeseries              = calc_particle_diagnostics(\n",
      "  File \"/Users/nokni/work/MHDTurbPy/functions/calc_diagnostics.py\", line 356, in calc_particle_diagnostics\n",
      "    part_quants = estimate_quants_particle_data(estimate_PSD_V, rolling_window, f_min_spec, f_max_spec,  in_rtn,  dfpar_interp, dfmag, subtract_rol_mean, smoothed)\n",
      "  File \"/Users/nokni/work/MHDTurbPy/functions/calc_diagnostics.py\", line 71, in estimate_quants_particle_data\n",
      "    freq_final          = str(int(dtv*1e3))+'ms'\n",
      "ValueError: cannot convert float NaN to integer\n",
      "17-Oct-23 07:54:57: File is current: psp_data/fields/l2/mag_RTN/2023/03/psp_fld_l2_mag_RTN_2023031800_v02.cdf\n",
      "17-Oct-23 07:54:57: File is current: psp_data/fields/l2/mag_RTN/2023/03/psp_fld_l2_mag_RTN_2023031806_v02.cdf\n",
      "17-Oct-23 07:54:57: File is current: psp_data/fields/l2/mag_RTN/2023/03/psp_fld_l2_mag_RTN_2023031812_v02.cdf\n"
     ]
    },
    {
     "name": "stdout",
     "output_type": "stream",
     "text": [
      "Used QTN\n",
      "No qtn data!\n",
      "                         sc_pos_r      sc_pos_t      sc_pos_n   sc_vel_r  \\\n",
      "2023-03-11 01:51:00  4.493522e+07  1.076842e-09  3.492460e-10 -51.243429   \n",
      "2023-03-11 01:52:00  4.493215e+07 -8.731149e-11  4.656613e-10 -51.245872   \n",
      "2023-03-11 01:53:00  4.492907e+07  5.529728e-10  2.328306e-10 -51.248316   \n",
      "2023-03-11 01:54:00  4.492600e+07  5.529728e-10  5.820766e-11 -51.250760   \n",
      "2023-03-11 01:55:00  4.492292e+07 -1.746230e-10  5.820766e-11 -51.253205   \n",
      "...                           ...           ...           ...        ...   \n",
      "2023-03-11 06:33:00  4.406230e+07 -3.492460e-10 -1.164153e-10 -51.941873   \n",
      "2023-03-11 06:34:00  4.405919e+07 -5.820766e-11  1.164153e-10 -51.944383   \n",
      "2023-03-11 06:35:00  4.405607e+07  1.047738e-09  6.984919e-10 -51.946894   \n",
      "2023-03-11 06:36:00  4.405295e+07  6.402843e-10 -4.656613e-10 -51.949405   \n",
      "2023-03-11 06:37:00  4.404984e+07  1.746230e-10 -5.820766e-10 -51.951916   \n",
      "\n",
      "                         sc_vel_t      sc_vel_n   Dist_au  \n",
      "2023-03-11 01:51:00  1.065814e-14 -1.776357e-15  0.300369  \n",
      "2023-03-11 01:52:00  7.993606e-15  1.776357e-15  0.300349  \n",
      "2023-03-11 01:53:00  8.881784e-15  1.776357e-15  0.300328  \n",
      "2023-03-11 01:54:00  0.000000e+00  0.000000e+00  0.300307  \n",
      "2023-03-11 01:55:00 -7.993606e-15  0.000000e+00  0.300287  \n",
      "...                           ...           ...       ...  \n",
      "2023-03-11 06:33:00 -6.217249e-15  0.000000e+00  0.294534  \n",
      "2023-03-11 06:34:00 -1.776357e-15 -1.776357e-15  0.294513  \n",
      "2023-03-11 06:35:00  3.552714e-15  3.552714e-15  0.294492  \n",
      "2023-03-11 06:36:00  0.000000e+00 -1.776357e-15  0.294472  \n",
      "2023-03-11 06:37:00 -9.769963e-15 -1.776357e-15  0.294451  \n",
      "\n",
      "[287 rows x 7 columns]\n",
      "No MAG data!\n",
      "197 - 224 failed!\n",
      "Folder name /Volumes/Elements-1/andreaL/radial_evolution/PSP/slow_alfvenic/2023-03-18_12-13-00_2023-03-19_04-03-00_sc_0\n",
      "Downloading unpublished Data....\n"
     ]
    },
    {
     "name": "stderr",
     "output_type": "stream",
     "text": [
      "17-Oct-23 07:54:57: File is current: psp_data/fields/l2/mag_RTN/2023/03/psp_fld_l2_mag_RTN_2023031818_v02.cdf\n",
      "17-Oct-23 07:54:57: File is current: psp_data/fields/l2/mag_RTN/2023/03/psp_fld_l2_mag_RTN_2023031900_v02.cdf\n",
      "17-Oct-23 07:54:57: File is current: psp_data/fields/l2/mag_RTN/2023/03/psp_fld_l2_mag_RTN_2023031906_v02.cdf\n",
      "17-Oct-23 07:54:57: File is current: psp_data/fields/l2/mag_RTN/2023/03/psp_fld_l2_mag_RTN_2023031912_v02.cdf\n",
      "17-Oct-23 07:56:25: Time clip was applied to: psp_fld_l2_mag_RTN\n",
      "17-Oct-23 07:56:25: File is current: psp_data/fields/l2/mag_RTN/2023/03/psp_fld_l2_mag_RTN_2023031800_v02.cdf\n",
      "17-Oct-23 07:56:26: File is current: psp_data/fields/l2/mag_RTN/2023/03/psp_fld_l2_mag_RTN_2023031806_v02.cdf\n",
      "17-Oct-23 07:56:26: File is current: psp_data/fields/l2/mag_RTN/2023/03/psp_fld_l2_mag_RTN_2023031812_v02.cdf\n"
     ]
    },
    {
     "name": "stdout",
     "output_type": "stream",
     "text": [
      "Downloading unpublished Data....\n"
     ]
    },
    {
     "name": "stderr",
     "output_type": "stream",
     "text": [
      "17-Oct-23 07:56:26: File is current: psp_data/fields/l2/mag_RTN/2023/03/psp_fld_l2_mag_RTN_2023031818_v02.cdf\n",
      "17-Oct-23 07:56:26: File is current: psp_data/fields/l2/mag_RTN/2023/03/psp_fld_l2_mag_RTN_2023031900_v02.cdf\n",
      "17-Oct-23 07:56:26: File is current: psp_data/fields/l2/mag_RTN/2023/03/psp_fld_l2_mag_RTN_2023031906_v02.cdf\n",
      "17-Oct-23 07:56:26: File is current: psp_data/fields/l2/mag_RTN/2023/03/psp_fld_l2_mag_RTN_2023031912_v02.cdf\n",
      "17-Oct-23 07:56:26: Time clip was applied to: psp_fld_l2_quality_flags\n",
      "17-Oct-23 07:58:03: Downloading remote index: http://sweap.cfa.harvard.edu/data/sci/sweap/spi/L3/spi_sf00/2023/03/\n"
     ]
    },
    {
     "name": "stdout",
     "output_type": "stream",
     "text": [
      "Span Variables ['DENS', 'VEL_RTN_SUN', 'TEMP', 'SUN_DIST', 'SC_VEL_RTN_SUN']\n",
      "Downloading unpublished Data....\n"
     ]
    },
    {
     "name": "stderr",
     "output_type": "stream",
     "text": [
      "17-Oct-23 07:58:04: File is current: psp_data/sweap/spi/L3/spi_sf00/2023/03/psp_swp_spi_sf00_L3_mom_20230318_v00.cdf\n",
      "17-Oct-23 07:58:04: File is current: psp_data/sweap/spi/L3/spi_sf00/2023/03/psp_swp_spi_sf00_L3_mom_20230318_v04.cdf\n",
      "17-Oct-23 07:58:04: File is current: psp_data/sweap/spi/L3/spi_sf00/2023/03/psp_swp_spi_sf00_L3_mom_20230319_v00.cdf\n",
      "17-Oct-23 07:58:04: File is current: psp_data/sweap/spi/L3/spi_sf00/2023/03/psp_swp_spi_sf00_L3_mom_20230319_v04.cdf\n",
      "17-Oct-23 07:58:05: Time clip was applied to: psp_spi_DENS\n",
      "17-Oct-23 07:58:05: Time clip was applied to: psp_spi_VEL_RTN_SUN\n",
      "17-Oct-23 07:58:05: Time clip was applied to: psp_spi_TEMP\n",
      "17-Oct-23 07:58:05: Time clip was applied to: psp_spi_SUN_DIST\n",
      "17-Oct-23 07:58:05: Time clip was applied to: psp_spi_SC_VEL_RTN_SUN\n",
      "17-Oct-23 07:58:05: Downloading remote index: http://sweap.cfa.harvard.edu/data/sci/sweap/spi/L3/spi_sf0a/2023/03/\n"
     ]
    },
    {
     "name": "stdout",
     "output_type": "stream",
     "text": [
      "Downloading unpublished Data....\n"
     ]
    },
    {
     "name": "stderr",
     "output_type": "stream",
     "text": [
      "17-Oct-23 07:58:05: File is current: psp_data/sweap/spi/L3/spi_sf0a/2023/03/psp_swp_spi_sf0a_L3_mom_20230318_v00.cdf\n",
      "17-Oct-23 07:58:06: File is current: psp_data/sweap/spi/L3/spi_sf0a/2023/03/psp_swp_spi_sf0a_L3_mom_20230318_v04.cdf\n",
      "17-Oct-23 07:58:06: File is current: psp_data/sweap/spi/L3/spi_sf0a/2023/03/psp_swp_spi_sf0a_L3_mom_20230319_v00.cdf\n",
      "17-Oct-23 07:58:06: File is current: psp_data/sweap/spi/L3/spi_sf0a/2023/03/psp_swp_spi_sf0a_L3_mom_20230319_v04.cdf\n",
      "17-Oct-23 07:58:06: Time clip was applied to: psp_spi_DENS\n",
      "17-Oct-23 07:58:09: Downloading remote index: http://sweap.cfa.harvard.edu/data/sci/sweap/spc/L3/2023/03/\n"
     ]
    },
    {
     "name": "stdout",
     "output_type": "stream",
     "text": [
      "Spc Variables ['np_moment', 'wp_moment', 'vp_moment_RTN', 'sc_pos_HCI', 'carr_longitude', 'na_fit']\n",
      "Using LEVEL=L3 (unpublished)\n",
      "Downloading unpublished Data....\n"
     ]
    },
    {
     "name": "stderr",
     "output_type": "stream",
     "text": [
      "17-Oct-23 07:58:10: File is current: psp_data/sweap/spc/L3/2023/03/psp_swp_spc_l3i_20230319_v02.cdf\n",
      "17-Oct-23 07:58:10: Time clip was applied to: psp_spc_np_moment\n",
      "17-Oct-23 07:58:10: Time clip was applied to: psp_spc_wp_moment\n",
      "17-Oct-23 07:58:10: Time clip was applied to: psp_spc_vp_moment_RTN\n",
      "17-Oct-23 07:58:10: Time clip was applied to: psp_spc_sc_pos_HCI\n",
      "17-Oct-23 07:58:10: Time clip was applied to: psp_spc_carr_longitude\n",
      "17-Oct-23 07:58:10: Time clip was applied to: psp_spc_na_fit\n",
      "17-Oct-23 07:58:10: Downloading remote index: https://sprg.ssl.berkeley.edu/data/spp/data/sci/fields/l3/sqtn_rfs_V1V2/2023/03/\n",
      "Traceback (most recent call last):\n",
      "  File \"/Users/nokni/work/MHDTurbPy/functions/downloading_helpers/PSP.py\", line 693, in LoadTimeSeriesPSP\n",
      "    dfqtn                 = func.use_dates_return_elements_of_df_inbetween(ind1, ind2, dfqtn)\n",
      "  File \"/Users/nokni/work/MHDTurbPy/functions/general_functions.py\", line 1126, in use_dates_return_elements_of_df_inbetween\n",
      "    df = df.sort_index(ascending=True)\n",
      "AttributeError: 'NoneType' object has no attribute 'sort_index'\n",
      "17-Oct-23 07:58:10: File is current: psp_data/fields/l1/ephem_spp_rtn/2023/03/spp_fld_l1_ephem_spp_rtn_20230318_v01.cdf\n",
      "17-Oct-23 07:58:10: File is current: psp_data/fields/l1/ephem_spp_rtn/2023/03/spp_fld_l1_ephem_spp_rtn_20230319_v01.cdf\n",
      "17-Oct-23 07:58:10: /Users/nokni/opt/anaconda3/envs/numba/lib/python3.10/site-packages/pytplot/importers/cdf_to_tplot.py:252: FutureWarning: elementwise comparison failed; returning scalar instead, but in the future will perform elementwise comparison\n",
      "  if ydata[ydata == var_atts[\"FILLVAL\"]].size != 0:\n",
      "\n"
     ]
    },
    {
     "name": "stdout",
     "output_type": "stream",
     "text": [
      "QTN ['electron_density', 'electron_core_temperature']\n",
      "Using LEVEL=L3\n",
      "Downloading unpublished Data....\n",
      "No data available for this interval.\n",
      "Downloading unpublished Data....\n"
     ]
    },
    {
     "name": "stderr",
     "output_type": "stream",
     "text": [
      "17-Oct-23 07:58:10: Time clip was applied to: position\n",
      "17-Oct-23 07:58:10: Time clip was applied to: velocity\n",
      "17-Oct-23 07:58:11: /Users/nokni/work/MHDTurbPy/functions/general_functions.py:2116: RuntimeWarning: Mean of empty slice\n",
      "  return np.nanmean((df.dropna().index.to_series().diff() / np.timedelta64(1, 's')))\n",
      "\n"
     ]
    },
    {
     "name": "stdout",
     "output_type": "stream",
     "text": [
      "Used QTN\n",
      "No qtn data!\n",
      "                         sc_pos_r      sc_pos_t      sc_pos_n   sc_vel_r  \\\n",
      "2023-03-18 12:13:00  1.108474e+07 -2.910383e-10 -1.164153e-10  57.680755   \n",
      "2023-03-18 12:14:00  1.108820e+07  5.238689e-10  1.164153e-10  57.715846   \n",
      "2023-03-18 12:15:00  1.109166e+07  5.820766e-11 -1.164153e-10  57.750884   \n",
      "2023-03-18 12:16:00  1.109513e+07 -2.328306e-10 -2.328306e-10  57.785869   \n",
      "2023-03-18 12:17:00  1.109860e+07  2.328306e-10  0.000000e+00  57.820800   \n",
      "...                           ...           ...           ...        ...   \n",
      "2023-03-19 03:58:00  1.494402e+07 -2.328306e-10  4.656613e-10  73.802779   \n",
      "2023-03-19 03:59:00  1.494845e+07  9.313226e-10  4.656613e-10  73.807895   \n",
      "2023-03-19 04:00:00  1.495288e+07  2.328306e-10  0.000000e+00  73.812996   \n",
      "2023-03-19 04:01:00  1.495731e+07 -4.656613e-10  0.000000e+00  73.818082   \n",
      "2023-03-19 04:02:00  1.496174e+07 -4.656613e-10  0.000000e+00  73.823153   \n",
      "\n",
      "                         sc_vel_t      sc_vel_n   Dist_au  \n",
      "2023-03-18 12:13:00  3.197442e-14  0.000000e+00  0.074096  \n",
      "2023-03-18 12:14:00 -2.842171e-14  7.105427e-15  0.074119  \n",
      "2023-03-18 12:15:00 -7.105427e-15 -1.421085e-14  0.074142  \n",
      "2023-03-18 12:16:00  3.552714e-15  0.000000e+00  0.074165  \n",
      "2023-03-18 12:17:00 -1.776357e-14  7.105427e-15  0.074188  \n",
      "...                           ...           ...       ...  \n",
      "2023-03-19 03:58:00  2.131628e-14  0.000000e+00  0.099893  \n",
      "2023-03-19 03:59:00 -3.552714e-15 -7.105427e-15  0.099923  \n",
      "2023-03-19 04:00:00  0.000000e+00  7.105427e-15  0.099952  \n",
      "2023-03-19 04:01:00 -1.776357e-14 -7.105427e-15  0.099982  \n",
      "2023-03-19 04:02:00 -7.105427e-15  0.000000e+00  0.100012  \n",
      "\n",
      "[950 rows x 7 columns]\n"
     ]
    },
    {
     "name": "stderr",
     "output_type": "stream",
     "text": [
      "Traceback (most recent call last):\n",
      "  File \"/Users/nokni/work/MHDTurbPy/functions/calc_diagnostics.py\", line 535, in final_func\n",
      "    res_particles, sig_c_sig_r_timeseries              = calc_particle_diagnostics(\n",
      "  File \"/Users/nokni/work/MHDTurbPy/functions/calc_diagnostics.py\", line 356, in calc_particle_diagnostics\n",
      "    part_quants = estimate_quants_particle_data(estimate_PSD_V, rolling_window, f_min_spec, f_max_spec,  in_rtn,  dfpar_interp, dfmag, subtract_rol_mean, smoothed)\n",
      "  File \"/Users/nokni/work/MHDTurbPy/functions/calc_diagnostics.py\", line 71, in estimate_quants_particle_data\n",
      "    freq_final          = str(int(dtv*1e3))+'ms'\n",
      "ValueError: cannot convert float NaN to integer\n",
      "17-Oct-23 07:58:11: File is current: psp_data/fields/l2/mag_RTN/2023/03/psp_fld_l2_mag_RTN_2023031518_v02.cdf\n",
      "17-Oct-23 07:58:11: File is current: psp_data/fields/l2/mag_RTN/2023/03/psp_fld_l2_mag_RTN_2023031600_v02.cdf\n",
      "17-Oct-23 07:58:11: File is current: psp_data/fields/l2/mag_RTN/2023/03/psp_fld_l2_mag_RTN_2023031606_v02.cdf\n"
     ]
    },
    {
     "name": "stdout",
     "output_type": "stream",
     "text": [
      "No MAG data!\n",
      "198 - 224 failed!\n",
      "Folder name /Volumes/Elements-1/andreaL/radial_evolution/PSP/slow_alfvenic/2023-03-16_10-42-00_2023-03-16_16-02-00_sc_0\n",
      "Downloading unpublished Data....\n"
     ]
    },
    {
     "name": "stderr",
     "output_type": "stream",
     "text": [
      "17-Oct-23 07:58:11: File is current: psp_data/fields/l2/mag_RTN/2023/03/psp_fld_l2_mag_RTN_2023031612_v02.cdf\n",
      "17-Oct-23 07:58:11: File is current: psp_data/fields/l2/mag_RTN/2023/03/psp_fld_l2_mag_RTN_2023031618_v02.cdf\n",
      "17-Oct-23 07:58:11: File is current: psp_data/fields/l2/mag_RTN/2023/03/psp_fld_l2_mag_RTN_2023031700_v02.cdf\n",
      "17-Oct-23 07:59:15: Time clip was applied to: psp_fld_l2_mag_RTN\n",
      "17-Oct-23 07:59:15: File is current: psp_data/fields/l2/mag_RTN/2023/03/psp_fld_l2_mag_RTN_2023031518_v02.cdf\n",
      "17-Oct-23 07:59:15: File is current: psp_data/fields/l2/mag_RTN/2023/03/psp_fld_l2_mag_RTN_2023031600_v02.cdf\n",
      "17-Oct-23 07:59:15: File is current: psp_data/fields/l2/mag_RTN/2023/03/psp_fld_l2_mag_RTN_2023031606_v02.cdf\n"
     ]
    },
    {
     "name": "stdout",
     "output_type": "stream",
     "text": [
      "Downloading unpublished Data....\n"
     ]
    },
    {
     "name": "stderr",
     "output_type": "stream",
     "text": [
      "17-Oct-23 07:59:15: File is current: psp_data/fields/l2/mag_RTN/2023/03/psp_fld_l2_mag_RTN_2023031612_v02.cdf\n",
      "17-Oct-23 07:59:16: File is current: psp_data/fields/l2/mag_RTN/2023/03/psp_fld_l2_mag_RTN_2023031618_v02.cdf\n",
      "17-Oct-23 07:59:16: File is current: psp_data/fields/l2/mag_RTN/2023/03/psp_fld_l2_mag_RTN_2023031700_v02.cdf\n",
      "17-Oct-23 07:59:16: Time clip was applied to: psp_fld_l2_quality_flags\n",
      "17-Oct-23 08:00:27: Downloading remote index: http://sweap.cfa.harvard.edu/data/sci/sweap/spi/L3/spi_sf00/2023/03/\n"
     ]
    },
    {
     "name": "stdout",
     "output_type": "stream",
     "text": [
      "Span Variables ['DENS', 'VEL_RTN_SUN', 'TEMP', 'SUN_DIST', 'SC_VEL_RTN_SUN']\n",
      "Downloading unpublished Data....\n"
     ]
    },
    {
     "name": "stderr",
     "output_type": "stream",
     "text": [
      "17-Oct-23 08:00:28: File is current: psp_data/sweap/spi/L3/spi_sf00/2023/03/psp_swp_spi_sf00_L3_mom_20230315_v00.cdf\n",
      "17-Oct-23 08:00:28: File is current: psp_data/sweap/spi/L3/spi_sf00/2023/03/psp_swp_spi_sf00_L3_mom_20230315_v04.cdf\n",
      "17-Oct-23 08:00:28: File is current: psp_data/sweap/spi/L3/spi_sf00/2023/03/psp_swp_spi_sf00_L3_mom_20230316_v00.cdf\n",
      "17-Oct-23 08:00:28: File is current: psp_data/sweap/spi/L3/spi_sf00/2023/03/psp_swp_spi_sf00_L3_mom_20230316_v04.cdf\n",
      "17-Oct-23 08:00:28: File is current: psp_data/sweap/spi/L3/spi_sf00/2023/03/psp_swp_spi_sf00_L3_mom_20230317_v00.cdf\n",
      "17-Oct-23 08:00:28: File is current: psp_data/sweap/spi/L3/spi_sf00/2023/03/psp_swp_spi_sf00_L3_mom_20230317_v04.cdf\n",
      "17-Oct-23 08:00:29: Time clip was applied to: psp_spi_DENS\n",
      "17-Oct-23 08:00:29: Time clip was applied to: psp_spi_VEL_RTN_SUN\n",
      "17-Oct-23 08:00:29: Time clip was applied to: psp_spi_TEMP\n",
      "17-Oct-23 08:00:30: Time clip was applied to: psp_spi_SUN_DIST\n",
      "17-Oct-23 08:00:30: Time clip was applied to: psp_spi_SC_VEL_RTN_SUN\n",
      "17-Oct-23 08:00:30: Downloading remote index: http://sweap.cfa.harvard.edu/data/sci/sweap/spi/L3/spi_sf0a/2023/03/\n"
     ]
    },
    {
     "name": "stdout",
     "output_type": "stream",
     "text": [
      "Downloading unpublished Data....\n"
     ]
    },
    {
     "name": "stderr",
     "output_type": "stream",
     "text": [
      "17-Oct-23 08:00:30: File is current: psp_data/sweap/spi/L3/spi_sf0a/2023/03/psp_swp_spi_sf0a_L3_mom_20230315_v00.cdf\n",
      "17-Oct-23 08:00:30: File is current: psp_data/sweap/spi/L3/spi_sf0a/2023/03/psp_swp_spi_sf0a_L3_mom_20230315_v04.cdf\n",
      "17-Oct-23 08:00:30: File is current: psp_data/sweap/spi/L3/spi_sf0a/2023/03/psp_swp_spi_sf0a_L3_mom_20230316_v00.cdf\n",
      "17-Oct-23 08:00:30: File is current: psp_data/sweap/spi/L3/spi_sf0a/2023/03/psp_swp_spi_sf0a_L3_mom_20230316_v04.cdf\n",
      "17-Oct-23 08:00:30: File is current: psp_data/sweap/spi/L3/spi_sf0a/2023/03/psp_swp_spi_sf0a_L3_mom_20230317_v00.cdf\n",
      "17-Oct-23 08:00:31: File is current: psp_data/sweap/spi/L3/spi_sf0a/2023/03/psp_swp_spi_sf0a_L3_mom_20230317_v04.cdf\n",
      "17-Oct-23 08:00:31: Time clip was applied to: psp_spi_DENS\n",
      "17-Oct-23 08:00:32: /Users/nokni/opt/anaconda3/envs/numba/lib/python3.10/site-packages/pandas/core/arraylike.py:397: RuntimeWarning: invalid value encountered in sqrt\n",
      "  result = getattr(ufunc, method)(*inputs, **kwargs)\n",
      "\n",
      "17-Oct-23 08:00:33: Downloading remote index: http://sweap.cfa.harvard.edu/data/sci/sweap/spc/L3/2023/03/\n"
     ]
    },
    {
     "name": "stdout",
     "output_type": "stream",
     "text": [
      "Spc Variables ['np_moment', 'wp_moment', 'vp_moment_RTN', 'sc_pos_HCI', 'carr_longitude', 'na_fit']\n",
      "Using LEVEL=L3 (unpublished)\n",
      "Downloading unpublished Data....\n"
     ]
    },
    {
     "name": "stderr",
     "output_type": "stream",
     "text": [
      "17-Oct-23 08:00:34: File is current: psp_data/sweap/spc/L3/2023/03/psp_swp_spc_l3i_20230315_v02.cdf\n",
      "17-Oct-23 08:00:34: File is current: psp_data/sweap/spc/L3/2023/03/psp_swp_spc_l3i_20230316_v02.cdf\n",
      "17-Oct-23 08:00:35: Time clip was applied to: psp_spc_np_moment\n",
      "17-Oct-23 08:00:35: Time clip was applied to: psp_spc_wp_moment\n",
      "17-Oct-23 08:00:35: Time clip was applied to: psp_spc_vp_moment_RTN\n",
      "17-Oct-23 08:00:35: Time clip was applied to: psp_spc_sc_pos_HCI\n",
      "17-Oct-23 08:00:35: Time clip was applied to: psp_spc_carr_longitude\n",
      "17-Oct-23 08:00:36: Time clip was applied to: psp_spc_na_fit\n",
      "17-Oct-23 08:00:36: Downloading remote index: https://sprg.ssl.berkeley.edu/data/spp/data/sci/fields/l3/sqtn_rfs_V1V2/2023/03/\n",
      "Traceback (most recent call last):\n",
      "  File \"/Users/nokni/work/MHDTurbPy/functions/downloading_helpers/PSP.py\", line 693, in LoadTimeSeriesPSP\n",
      "    dfqtn                 = func.use_dates_return_elements_of_df_inbetween(ind1, ind2, dfqtn)\n",
      "  File \"/Users/nokni/work/MHDTurbPy/functions/general_functions.py\", line 1126, in use_dates_return_elements_of_df_inbetween\n",
      "    df = df.sort_index(ascending=True)\n",
      "AttributeError: 'NoneType' object has no attribute 'sort_index'\n",
      "17-Oct-23 08:00:36: File is current: psp_data/fields/l1/ephem_spp_rtn/2023/03/spp_fld_l1_ephem_spp_rtn_20230315_v01.cdf\n",
      "17-Oct-23 08:00:36: File is current: psp_data/fields/l1/ephem_spp_rtn/2023/03/spp_fld_l1_ephem_spp_rtn_20230316_v01.cdf\n"
     ]
    },
    {
     "name": "stdout",
     "output_type": "stream",
     "text": [
      "QTN ['electron_density', 'electron_core_temperature']\n",
      "Using LEVEL=L3\n",
      "Downloading unpublished Data....\n",
      "No data available for this interval.\n",
      "Downloading unpublished Data....\n"
     ]
    },
    {
     "name": "stderr",
     "output_type": "stream",
     "text": [
      "17-Oct-23 08:00:36: File is current: psp_data/fields/l1/ephem_spp_rtn/2023/03/spp_fld_l1_ephem_spp_rtn_20230317_v01.cdf\n",
      "17-Oct-23 08:00:36: /Users/nokni/opt/anaconda3/envs/numba/lib/python3.10/site-packages/pytplot/importers/cdf_to_tplot.py:252: FutureWarning: elementwise comparison failed; returning scalar instead, but in the future will perform elementwise comparison\n",
      "  if ydata[ydata == var_atts[\"FILLVAL\"]].size != 0:\n",
      "\n",
      "17-Oct-23 08:00:36: Time clip was applied to: position\n",
      "17-Oct-23 08:00:36: Time clip was applied to: velocity\n",
      "17-Oct-23 08:00:36: /Users/nokni/work/MHDTurbPy/functions/general_functions.py:2116: RuntimeWarning: Mean of empty slice\n",
      "  return np.nanmean((df.dropna().index.to_series().diff() / np.timedelta64(1, 's')))\n",
      "\n",
      "Traceback (most recent call last):\n",
      "  File \"/Users/nokni/work/MHDTurbPy/functions/calc_diagnostics.py\", line 535, in final_func\n",
      "    res_particles, sig_c_sig_r_timeseries              = calc_particle_diagnostics(\n",
      "  File \"/Users/nokni/work/MHDTurbPy/functions/calc_diagnostics.py\", line 356, in calc_particle_diagnostics\n",
      "    part_quants = estimate_quants_particle_data(estimate_PSD_V, rolling_window, f_min_spec, f_max_spec,  in_rtn,  dfpar_interp, dfmag, subtract_rol_mean, smoothed)\n",
      "  File \"/Users/nokni/work/MHDTurbPy/functions/calc_diagnostics.py\", line 71, in estimate_quants_particle_data\n",
      "    freq_final          = str(int(dtv*1e3))+'ms'\n",
      "ValueError: cannot convert float NaN to integer\n",
      "17-Oct-23 08:00:36: File is current: psp_data/fields/l2/mag_RTN/2023/03/psp_fld_l2_mag_RTN_2023031818_v02.cdf\n"
     ]
    },
    {
     "name": "stdout",
     "output_type": "stream",
     "text": [
      "Used QTN\n",
      "No qtn data!\n",
      "                         sc_pos_r      sc_pos_t      sc_pos_n   sc_vel_r  \\\n",
      "2023-03-16 10:42:00  1.557165e+07  6.984919e-10 -9.313226e-10 -74.385636   \n",
      "2023-03-16 10:43:00  1.556719e+07 -1.396984e-09  9.313226e-10 -74.382425   \n",
      "2023-03-16 10:44:00  1.556273e+07  0.000000e+00 -9.313226e-10 -74.379201   \n",
      "2023-03-16 10:45:00  1.555827e+07 -2.095476e-09  0.000000e+00 -74.375965   \n",
      "2023-03-16 10:46:00  1.555380e+07 -6.984919e-10  0.000000e+00 -74.372717   \n",
      "...                           ...           ...           ...        ...   \n",
      "2023-03-16 15:57:00  1.417962e+07 -2.328306e-10  0.000000e+00 -72.661828   \n",
      "2023-03-16 15:58:00  1.417526e+07 -6.984919e-10  0.000000e+00 -72.653685   \n",
      "2023-03-16 15:59:00  1.417090e+07 -4.656613e-10 -9.313226e-10 -72.645523   \n",
      "2023-03-16 16:00:00  1.416654e+07 -6.984919e-10  9.313226e-10 -72.637341   \n",
      "2023-03-16 16:01:00  1.416218e+07  4.656613e-10  0.000000e+00 -72.629139   \n",
      "\n",
      "                         sc_vel_t      sc_vel_n   Dist_au  \n",
      "2023-03-16 10:42:00 -7.882583e-15  5.551115e-15  0.104089  \n",
      "2023-03-16 10:43:00 -3.663736e-15  6.661338e-16  0.104059  \n",
      "2023-03-16 10:44:00  1.132427e-14 -4.440892e-15  0.104029  \n",
      "2023-03-16 10:45:00  1.854072e-14  1.776357e-15  0.103999  \n",
      "2023-03-16 10:46:00  7.438494e-15  3.996803e-15  0.103969  \n",
      "...                           ...           ...       ...  \n",
      "2023-03-16 15:57:00 -6.883383e-15 -5.329071e-15  0.094784  \n",
      "2023-03-16 15:58:00  3.375078e-14 -4.440892e-15  0.094754  \n",
      "2023-03-16 15:59:00  7.105427e-15  4.440892e-15  0.094725  \n",
      "2023-03-16 16:00:00 -1.110223e-15  1.776357e-15  0.094696  \n",
      "2023-03-16 16:01:00 -3.108624e-15 -1.776357e-15  0.094667  \n",
      "\n",
      "[320 rows x 7 columns]\n",
      "No MAG data!\n",
      "199 - 224 failed!\n",
      "Folder name /Volumes/Elements-1/andreaL/radial_evolution/PSP/slow_alfvenic/2023-03-19_07-20-00_2023-03-19_23-46-00_sc_0\n",
      "Downloading unpublished Data....\n"
     ]
    },
    {
     "name": "stderr",
     "output_type": "stream",
     "text": [
      "17-Oct-23 08:00:36: File is current: psp_data/fields/l2/mag_RTN/2023/03/psp_fld_l2_mag_RTN_2023031900_v02.cdf\n",
      "17-Oct-23 08:00:36: File is current: psp_data/fields/l2/mag_RTN/2023/03/psp_fld_l2_mag_RTN_2023031906_v02.cdf\n",
      "17-Oct-23 08:00:36: File is current: psp_data/fields/l2/mag_RTN/2023/03/psp_fld_l2_mag_RTN_2023031912_v02.cdf\n",
      "17-Oct-23 08:00:36: File is current: psp_data/fields/l2/mag_RTN/2023/03/psp_fld_l2_mag_RTN_2023031918_v02.cdf\n",
      "17-Oct-23 08:00:36: File is current: psp_data/fields/l2/mag_RTN/2023/03/psp_fld_l2_mag_RTN_2023032000_v02.cdf\n",
      "17-Oct-23 08:00:37: File is current: psp_data/fields/l2/mag_RTN/2023/03/psp_fld_l2_mag_RTN_2023032006_v02.cdf\n",
      "17-Oct-23 08:01:51: Time clip was applied to: psp_fld_l2_mag_RTN\n",
      "17-Oct-23 08:01:51: File is current: psp_data/fields/l2/mag_RTN/2023/03/psp_fld_l2_mag_RTN_2023031818_v02.cdf\n",
      "17-Oct-23 08:01:51: File is current: psp_data/fields/l2/mag_RTN/2023/03/psp_fld_l2_mag_RTN_2023031900_v02.cdf\n",
      "17-Oct-23 08:01:51: File is current: psp_data/fields/l2/mag_RTN/2023/03/psp_fld_l2_mag_RTN_2023031906_v02.cdf\n"
     ]
    },
    {
     "name": "stdout",
     "output_type": "stream",
     "text": [
      "Downloading unpublished Data....\n"
     ]
    },
    {
     "name": "stderr",
     "output_type": "stream",
     "text": [
      "17-Oct-23 08:01:51: File is current: psp_data/fields/l2/mag_RTN/2023/03/psp_fld_l2_mag_RTN_2023031912_v02.cdf\n",
      "17-Oct-23 08:01:51: File is current: psp_data/fields/l2/mag_RTN/2023/03/psp_fld_l2_mag_RTN_2023031918_v02.cdf\n",
      "17-Oct-23 08:01:51: File is current: psp_data/fields/l2/mag_RTN/2023/03/psp_fld_l2_mag_RTN_2023032000_v02.cdf\n",
      "17-Oct-23 08:01:52: File is current: psp_data/fields/l2/mag_RTN/2023/03/psp_fld_l2_mag_RTN_2023032006_v02.cdf\n",
      "17-Oct-23 08:01:52: Time clip was applied to: psp_fld_l2_quality_flags\n",
      "17-Oct-23 08:03:31: Downloading remote index: http://sweap.cfa.harvard.edu/data/sci/sweap/spi/L3/spi_sf00/2023/03/\n"
     ]
    },
    {
     "name": "stdout",
     "output_type": "stream",
     "text": [
      "Span Variables ['DENS', 'VEL_RTN_SUN', 'TEMP', 'SUN_DIST', 'SC_VEL_RTN_SUN']\n",
      "Downloading unpublished Data....\n"
     ]
    },
    {
     "name": "stderr",
     "output_type": "stream",
     "text": [
      "17-Oct-23 08:03:31: File is current: psp_data/sweap/spi/L3/spi_sf00/2023/03/psp_swp_spi_sf00_L3_mom_20230318_v00.cdf\n",
      "17-Oct-23 08:03:31: File is current: psp_data/sweap/spi/L3/spi_sf00/2023/03/psp_swp_spi_sf00_L3_mom_20230318_v04.cdf\n",
      "17-Oct-23 08:03:32: File is current: psp_data/sweap/spi/L3/spi_sf00/2023/03/psp_swp_spi_sf00_L3_mom_20230319_v00.cdf\n",
      "17-Oct-23 08:03:32: File is current: psp_data/sweap/spi/L3/spi_sf00/2023/03/psp_swp_spi_sf00_L3_mom_20230319_v04.cdf\n",
      "17-Oct-23 08:03:32: File is current: psp_data/sweap/spi/L3/spi_sf00/2023/03/psp_swp_spi_sf00_L3_mom_20230320_v00.cdf\n",
      "17-Oct-23 08:03:32: File is current: psp_data/sweap/spi/L3/spi_sf00/2023/03/psp_swp_spi_sf00_L3_mom_20230320_v04.cdf\n",
      "17-Oct-23 08:03:33: Time clip was applied to: psp_spi_DENS\n",
      "17-Oct-23 08:03:33: Time clip was applied to: psp_spi_VEL_RTN_SUN\n",
      "17-Oct-23 08:03:33: Time clip was applied to: psp_spi_TEMP\n",
      "17-Oct-23 08:03:33: Time clip was applied to: psp_spi_SUN_DIST\n",
      "17-Oct-23 08:03:33: Time clip was applied to: psp_spi_SC_VEL_RTN_SUN\n",
      "17-Oct-23 08:03:33: Downloading remote index: http://sweap.cfa.harvard.edu/data/sci/sweap/spi/L3/spi_sf0a/2023/03/\n"
     ]
    },
    {
     "name": "stdout",
     "output_type": "stream",
     "text": [
      "Downloading unpublished Data....\n"
     ]
    },
    {
     "name": "stderr",
     "output_type": "stream",
     "text": [
      "17-Oct-23 08:03:33: File is current: psp_data/sweap/spi/L3/spi_sf0a/2023/03/psp_swp_spi_sf0a_L3_mom_20230318_v00.cdf\n",
      "17-Oct-23 08:03:33: File is current: psp_data/sweap/spi/L3/spi_sf0a/2023/03/psp_swp_spi_sf0a_L3_mom_20230318_v04.cdf\n",
      "17-Oct-23 08:03:34: File is current: psp_data/sweap/spi/L3/spi_sf0a/2023/03/psp_swp_spi_sf0a_L3_mom_20230319_v00.cdf\n",
      "17-Oct-23 08:03:34: File is current: psp_data/sweap/spi/L3/spi_sf0a/2023/03/psp_swp_spi_sf0a_L3_mom_20230319_v04.cdf\n",
      "17-Oct-23 08:03:34: File is current: psp_data/sweap/spi/L3/spi_sf0a/2023/03/psp_swp_spi_sf0a_L3_mom_20230320_v00.cdf\n",
      "17-Oct-23 08:03:34: File is current: psp_data/sweap/spi/L3/spi_sf0a/2023/03/psp_swp_spi_sf0a_L3_mom_20230320_v04.cdf\n",
      "17-Oct-23 08:03:34: Time clip was applied to: psp_spi_DENS\n",
      "17-Oct-23 08:03:37: Downloading remote index: http://sweap.cfa.harvard.edu/data/sci/sweap/spc/L3/2023/03/\n"
     ]
    },
    {
     "name": "stdout",
     "output_type": "stream",
     "text": [
      "Spc Variables ['np_moment', 'wp_moment', 'vp_moment_RTN', 'sc_pos_HCI', 'carr_longitude', 'na_fit']\n",
      "Using LEVEL=L3 (unpublished)\n",
      "Downloading unpublished Data....\n"
     ]
    },
    {
     "name": "stderr",
     "output_type": "stream",
     "text": [
      "17-Oct-23 08:03:37: File is current: psp_data/sweap/spc/L3/2023/03/psp_swp_spc_l3i_20230319_v02.cdf\n",
      "17-Oct-23 08:03:38: File is current: psp_data/sweap/spc/L3/2023/03/psp_swp_spc_l3i_20230320_v02.cdf\n",
      "17-Oct-23 08:03:38: Time clip was applied to: psp_spc_np_moment\n",
      "17-Oct-23 08:03:38: Time clip was applied to: psp_spc_wp_moment\n",
      "17-Oct-23 08:03:38: Time clip was applied to: psp_spc_vp_moment_RTN\n",
      "17-Oct-23 08:03:38: Time clip was applied to: psp_spc_sc_pos_HCI\n",
      "17-Oct-23 08:03:38: Time clip was applied to: psp_spc_carr_longitude\n",
      "17-Oct-23 08:03:38: Time clip was applied to: psp_spc_na_fit\n",
      "17-Oct-23 08:03:39: Downloading remote index: https://sprg.ssl.berkeley.edu/data/spp/data/sci/fields/l3/sqtn_rfs_V1V2/2023/03/\n",
      "Traceback (most recent call last):\n",
      "  File \"/Users/nokni/work/MHDTurbPy/functions/downloading_helpers/PSP.py\", line 693, in LoadTimeSeriesPSP\n",
      "    dfqtn                 = func.use_dates_return_elements_of_df_inbetween(ind1, ind2, dfqtn)\n",
      "  File \"/Users/nokni/work/MHDTurbPy/functions/general_functions.py\", line 1126, in use_dates_return_elements_of_df_inbetween\n",
      "    df = df.sort_index(ascending=True)\n",
      "AttributeError: 'NoneType' object has no attribute 'sort_index'\n",
      "17-Oct-23 08:03:39: File is current: psp_data/fields/l1/ephem_spp_rtn/2023/03/spp_fld_l1_ephem_spp_rtn_20230318_v01.cdf\n",
      "17-Oct-23 08:03:39: File is current: psp_data/fields/l1/ephem_spp_rtn/2023/03/spp_fld_l1_ephem_spp_rtn_20230319_v01.cdf\n"
     ]
    },
    {
     "name": "stdout",
     "output_type": "stream",
     "text": [
      "QTN ['electron_density', 'electron_core_temperature']\n",
      "Using LEVEL=L3\n",
      "Downloading unpublished Data....\n",
      "No data available for this interval.\n",
      "Downloading unpublished Data....\n"
     ]
    },
    {
     "name": "stderr",
     "output_type": "stream",
     "text": [
      "17-Oct-23 08:03:39: File is current: psp_data/fields/l1/ephem_spp_rtn/2023/03/spp_fld_l1_ephem_spp_rtn_20230320_v01.cdf\n",
      "17-Oct-23 08:03:39: /Users/nokni/opt/anaconda3/envs/numba/lib/python3.10/site-packages/pytplot/importers/cdf_to_tplot.py:252: FutureWarning: elementwise comparison failed; returning scalar instead, but in the future will perform elementwise comparison\n",
      "  if ydata[ydata == var_atts[\"FILLVAL\"]].size != 0:\n",
      "\n",
      "17-Oct-23 08:03:39: Time clip was applied to: position\n",
      "17-Oct-23 08:03:39: Time clip was applied to: velocity\n",
      "17-Oct-23 08:03:39: /Users/nokni/work/MHDTurbPy/functions/general_functions.py:2116: RuntimeWarning: Mean of empty slice\n",
      "  return np.nanmean((df.dropna().index.to_series().diff() / np.timedelta64(1, 's')))\n",
      "\n"
     ]
    },
    {
     "name": "stdout",
     "output_type": "stream",
     "text": [
      "Used QTN\n",
      "No qtn data!\n",
      "                         sc_pos_r      sc_pos_t      sc_pos_n   sc_vel_r  \\\n",
      "2023-03-19 07:20:00  1.584363e+07 -6.984919e-10  4.656613e-10  74.558877   \n",
      "2023-03-19 07:21:00  1.584810e+07 -1.164153e-09  0.000000e+00  74.561370   \n",
      "2023-03-19 07:22:00  1.585258e+07  2.328306e-10  0.000000e+00  74.563852   \n",
      "2023-03-19 07:23:00  1.585705e+07  1.862645e-09  4.656613e-10  74.566322   \n",
      "2023-03-19 07:24:00  1.586152e+07 -1.396984e-09  9.313226e-10  74.568782   \n",
      "...                           ...           ...           ...        ...   \n",
      "2023-03-19 23:41:00  2.023018e+07 -1.396984e-09  0.000000e+00  73.622630   \n",
      "2023-03-19 23:42:00  2.023460e+07  1.629815e-09  0.000000e+00  73.619611   \n",
      "2023-03-19 23:43:00  2.023902e+07 -2.328306e-10 -9.313226e-10  73.616589   \n",
      "2023-03-19 23:44:00  2.024343e+07 -2.328306e-10  0.000000e+00  73.613564   \n",
      "2023-03-19 23:45:00  2.024785e+07 -2.328306e-10  0.000000e+00  73.610538   \n",
      "\n",
      "                         sc_vel_t      sc_vel_n   Dist_au  \n",
      "2023-03-19 07:20:00  1.421085e-14  7.105427e-15  0.105907  \n",
      "2023-03-19 07:21:00 -1.065814e-14  0.000000e+00  0.105937  \n",
      "2023-03-19 07:22:00  1.421085e-14  0.000000e+00  0.105966  \n",
      "2023-03-19 07:23:00  2.131628e-14  0.000000e+00  0.105996  \n",
      "2023-03-19 07:24:00  1.421085e-14  7.105427e-15  0.106026  \n",
      "...                           ...           ...       ...  \n",
      "2023-03-19 23:41:00  1.953993e-14 -7.105427e-15  0.135228  \n",
      "2023-03-19 23:42:00  8.881784e-15  0.000000e+00  0.135258  \n",
      "2023-03-19 23:43:00  1.243450e-14 -1.421085e-14  0.135288  \n",
      "2023-03-19 23:44:00  2.309264e-14  0.000000e+00  0.135317  \n",
      "2023-03-19 23:45:00  1.243450e-14  0.000000e+00  0.135347  \n",
      "\n",
      "[986 rows x 7 columns]\n"
     ]
    },
    {
     "name": "stderr",
     "output_type": "stream",
     "text": [
      "Traceback (most recent call last):\n",
      "  File \"/Users/nokni/work/MHDTurbPy/functions/calc_diagnostics.py\", line 535, in final_func\n",
      "    res_particles, sig_c_sig_r_timeseries              = calc_particle_diagnostics(\n",
      "  File \"/Users/nokni/work/MHDTurbPy/functions/calc_diagnostics.py\", line 356, in calc_particle_diagnostics\n",
      "    part_quants = estimate_quants_particle_data(estimate_PSD_V, rolling_window, f_min_spec, f_max_spec,  in_rtn,  dfpar_interp, dfmag, subtract_rol_mean, smoothed)\n",
      "  File \"/Users/nokni/work/MHDTurbPy/functions/calc_diagnostics.py\", line 71, in estimate_quants_particle_data\n",
      "    freq_final          = str(int(dtv*1e3))+'ms'\n",
      "ValueError: cannot convert float NaN to integer\n",
      "17-Oct-23 08:03:39: File is current: psp_data/fields/l2/mag_RTN/2023/03/psp_fld_l2_mag_RTN_2023032000_v02.cdf\n",
      "17-Oct-23 08:03:39: File is current: psp_data/fields/l2/mag_RTN/2023/03/psp_fld_l2_mag_RTN_2023032006_v02.cdf\n",
      "17-Oct-23 08:03:39: File is current: psp_data/fields/l2/mag_RTN/2023/03/psp_fld_l2_mag_RTN_2023032012_v02.cdf\n"
     ]
    },
    {
     "name": "stdout",
     "output_type": "stream",
     "text": [
      "No MAG data!\n",
      "200 - 224 failed!\n",
      "Folder name /Volumes/Elements-1/andreaL/radial_evolution/PSP/slow_alfvenic/2023-03-20_17-51-00_2023-03-21_02-29-00_sc_0\n",
      "Downloading unpublished Data....\n"
     ]
    },
    {
     "name": "stderr",
     "output_type": "stream",
     "text": [
      "17-Oct-23 08:03:39: File is current: psp_data/fields/l2/mag_RTN/2023/03/psp_fld_l2_mag_RTN_2023032018_v02.cdf\n",
      "17-Oct-23 08:03:39: File is current: psp_data/fields/l2/mag_RTN/2023/03/psp_fld_l2_mag_RTN_2023032100_v02.cdf\n",
      "17-Oct-23 08:03:40: File is current: psp_data/fields/l2/mag_RTN/2023/03/psp_fld_l2_mag_RTN_2023032106_v02.cdf\n",
      "17-Oct-23 08:03:40: File is current: psp_data/fields/l2/mag_RTN/2023/03/psp_fld_l2_mag_RTN_2023032112_v02.cdf\n",
      "17-Oct-23 08:05:02: Time clip was applied to: psp_fld_l2_mag_RTN\n",
      "17-Oct-23 08:05:02: File is current: psp_data/fields/l2/mag_RTN/2023/03/psp_fld_l2_mag_RTN_2023032000_v02.cdf\n",
      "17-Oct-23 08:05:02: File is current: psp_data/fields/l2/mag_RTN/2023/03/psp_fld_l2_mag_RTN_2023032006_v02.cdf\n",
      "17-Oct-23 08:05:02: File is current: psp_data/fields/l2/mag_RTN/2023/03/psp_fld_l2_mag_RTN_2023032012_v02.cdf\n"
     ]
    },
    {
     "name": "stdout",
     "output_type": "stream",
     "text": [
      "Downloading unpublished Data....\n"
     ]
    },
    {
     "name": "stderr",
     "output_type": "stream",
     "text": [
      "17-Oct-23 08:05:03: File is current: psp_data/fields/l2/mag_RTN/2023/03/psp_fld_l2_mag_RTN_2023032018_v02.cdf\n",
      "17-Oct-23 08:05:03: File is current: psp_data/fields/l2/mag_RTN/2023/03/psp_fld_l2_mag_RTN_2023032100_v02.cdf\n",
      "17-Oct-23 08:05:03: File is current: psp_data/fields/l2/mag_RTN/2023/03/psp_fld_l2_mag_RTN_2023032106_v02.cdf\n",
      "17-Oct-23 08:05:03: File is current: psp_data/fields/l2/mag_RTN/2023/03/psp_fld_l2_mag_RTN_2023032112_v02.cdf\n",
      "17-Oct-23 08:05:03: Time clip was applied to: psp_fld_l2_quality_flags\n",
      "17-Oct-23 08:06:22: Downloading remote index: http://sweap.cfa.harvard.edu/data/sci/sweap/spi/L3/spi_sf00/2023/03/\n"
     ]
    },
    {
     "name": "stdout",
     "output_type": "stream",
     "text": [
      "Span Variables ['DENS', 'VEL_RTN_SUN', 'TEMP', 'SUN_DIST', 'SC_VEL_RTN_SUN']\n",
      "Downloading unpublished Data....\n"
     ]
    },
    {
     "name": "stderr",
     "output_type": "stream",
     "text": [
      "17-Oct-23 08:06:23: File is current: psp_data/sweap/spi/L3/spi_sf00/2023/03/psp_swp_spi_sf00_L3_mom_20230320_v00.cdf\n",
      "17-Oct-23 08:06:23: File is current: psp_data/sweap/spi/L3/spi_sf00/2023/03/psp_swp_spi_sf00_L3_mom_20230320_v04.cdf\n",
      "17-Oct-23 08:06:23: File is current: psp_data/sweap/spi/L3/spi_sf00/2023/03/psp_swp_spi_sf00_L3_mom_20230321_v00.cdf\n",
      "17-Oct-23 08:06:23: File is current: psp_data/sweap/spi/L3/spi_sf00/2023/03/psp_swp_spi_sf00_L3_mom_20230321_v04.cdf\n",
      "17-Oct-23 08:06:24: Time clip was applied to: psp_spi_DENS\n",
      "17-Oct-23 08:06:24: Time clip was applied to: psp_spi_VEL_RTN_SUN\n",
      "17-Oct-23 08:06:24: Time clip was applied to: psp_spi_TEMP\n",
      "17-Oct-23 08:06:24: Time clip was applied to: psp_spi_SUN_DIST\n",
      "17-Oct-23 08:06:24: Time clip was applied to: psp_spi_SC_VEL_RTN_SUN\n",
      "17-Oct-23 08:06:24: Downloading remote index: http://sweap.cfa.harvard.edu/data/sci/sweap/spi/L3/spi_sf0a/2023/03/\n"
     ]
    },
    {
     "name": "stdout",
     "output_type": "stream",
     "text": [
      "Downloading unpublished Data....\n"
     ]
    },
    {
     "name": "stderr",
     "output_type": "stream",
     "text": [
      "17-Oct-23 08:06:24: File is current: psp_data/sweap/spi/L3/spi_sf0a/2023/03/psp_swp_spi_sf0a_L3_mom_20230320_v00.cdf\n",
      "17-Oct-23 08:06:24: File is current: psp_data/sweap/spi/L3/spi_sf0a/2023/03/psp_swp_spi_sf0a_L3_mom_20230320_v04.cdf\n",
      "17-Oct-23 08:06:24: File is current: psp_data/sweap/spi/L3/spi_sf0a/2023/03/psp_swp_spi_sf0a_L3_mom_20230321_v00.cdf\n",
      "17-Oct-23 08:06:24: File is current: psp_data/sweap/spi/L3/spi_sf0a/2023/03/psp_swp_spi_sf0a_L3_mom_20230321_v04.cdf\n",
      "17-Oct-23 08:06:25: Time clip was applied to: psp_spi_DENS\n",
      "17-Oct-23 08:06:25: Downloading remote index: http://sweap.cfa.harvard.edu/data/sci/sweap/spc/L3/2023/03/\n"
     ]
    },
    {
     "name": "stdout",
     "output_type": "stream",
     "text": [
      "Spc Variables ['np_moment', 'wp_moment', 'vp_moment_RTN', 'sc_pos_HCI', 'carr_longitude', 'na_fit']\n",
      "Using LEVEL=L3 (unpublished)\n",
      "Downloading unpublished Data....\n"
     ]
    },
    {
     "name": "stderr",
     "output_type": "stream",
     "text": [
      "17-Oct-23 08:06:26: File is current: psp_data/sweap/spc/L3/2023/03/psp_swp_spc_l3i_20230320_v02.cdf\n",
      "17-Oct-23 08:06:26: File is current: psp_data/sweap/spc/L3/2023/03/psp_swp_spc_l3i_20230321_v02.cdf\n",
      "17-Oct-23 08:06:27: Time clip was applied to: psp_spc_np_moment\n",
      "17-Oct-23 08:06:27: Time clip was applied to: psp_spc_wp_moment\n",
      "17-Oct-23 08:06:27: Time clip was applied to: psp_spc_vp_moment_RTN\n",
      "17-Oct-23 08:06:27: Time clip was applied to: psp_spc_sc_pos_HCI\n",
      "17-Oct-23 08:06:27: Time clip was applied to: psp_spc_carr_longitude\n",
      "17-Oct-23 08:06:27: Time clip was applied to: psp_spc_na_fit\n",
      "17-Oct-23 08:06:27: Downloading remote index: https://sprg.ssl.berkeley.edu/data/spp/data/sci/fields/l3/sqtn_rfs_V1V2/2023/03/\n",
      "Traceback (most recent call last):\n",
      "  File \"/Users/nokni/work/MHDTurbPy/functions/downloading_helpers/PSP.py\", line 693, in LoadTimeSeriesPSP\n",
      "    dfqtn                 = func.use_dates_return_elements_of_df_inbetween(ind1, ind2, dfqtn)\n",
      "  File \"/Users/nokni/work/MHDTurbPy/functions/general_functions.py\", line 1126, in use_dates_return_elements_of_df_inbetween\n",
      "    df = df.sort_index(ascending=True)\n",
      "AttributeError: 'NoneType' object has no attribute 'sort_index'\n",
      "17-Oct-23 08:06:27: File is current: psp_data/fields/l1/ephem_spp_rtn/2023/03/spp_fld_l1_ephem_spp_rtn_20230320_v01.cdf\n",
      "17-Oct-23 08:06:27: File is current: psp_data/fields/l1/ephem_spp_rtn/2023/03/spp_fld_l1_ephem_spp_rtn_20230321_v01.cdf\n",
      "17-Oct-23 08:06:27: /Users/nokni/opt/anaconda3/envs/numba/lib/python3.10/site-packages/pytplot/importers/cdf_to_tplot.py:252: FutureWarning: elementwise comparison failed; returning scalar instead, but in the future will perform elementwise comparison\n",
      "  if ydata[ydata == var_atts[\"FILLVAL\"]].size != 0:\n",
      "\n"
     ]
    },
    {
     "name": "stdout",
     "output_type": "stream",
     "text": [
      "QTN ['electron_density', 'electron_core_temperature']\n",
      "Using LEVEL=L3\n",
      "Downloading unpublished Data....\n",
      "No data available for this interval.\n",
      "Downloading unpublished Data....\n"
     ]
    },
    {
     "name": "stderr",
     "output_type": "stream",
     "text": [
      "17-Oct-23 08:06:28: Time clip was applied to: position\n",
      "17-Oct-23 08:06:28: Time clip was applied to: velocity\n",
      "17-Oct-23 08:06:28: /Users/nokni/work/MHDTurbPy/functions/general_functions.py:2116: RuntimeWarning: Mean of empty slice\n",
      "  return np.nanmean((df.dropna().index.to_series().diff() / np.timedelta64(1, 's')))\n",
      "\n",
      "Traceback (most recent call last):\n",
      "  File \"/Users/nokni/work/MHDTurbPy/functions/calc_diagnostics.py\", line 535, in final_func\n",
      "    res_particles, sig_c_sig_r_timeseries              = calc_particle_diagnostics(\n",
      "  File \"/Users/nokni/work/MHDTurbPy/functions/calc_diagnostics.py\", line 356, in calc_particle_diagnostics\n",
      "    part_quants = estimate_quants_particle_data(estimate_PSD_V, rolling_window, f_min_spec, f_max_spec,  in_rtn,  dfpar_interp, dfmag, subtract_rol_mean, smoothed)\n",
      "  File \"/Users/nokni/work/MHDTurbPy/functions/calc_diagnostics.py\", line 71, in estimate_quants_particle_data\n",
      "    freq_final          = str(int(dtv*1e3))+'ms'\n",
      "ValueError: cannot convert float NaN to integer\n"
     ]
    },
    {
     "name": "stdout",
     "output_type": "stream",
     "text": [
      "Used QTN\n",
      "No qtn data!\n",
      "                         sc_pos_r      sc_pos_t      sc_pos_n   sc_vel_r  \\\n",
      "2023-03-20 17:51:00  2.491850e+07  2.328306e-10  0.000000e+00  69.578151   \n",
      "2023-03-20 17:52:00  2.492267e+07 -2.328306e-10 -1.862645e-09  69.574123   \n",
      "2023-03-20 17:53:00  2.492685e+07 -1.164153e-09  0.000000e+00  69.570095   \n",
      "2023-03-20 17:54:00  2.493102e+07 -1.164153e-09  0.000000e+00  69.566067   \n",
      "2023-03-20 17:55:00  2.493520e+07  0.000000e+00 -1.862645e-09  69.562038   \n",
      "...                           ...           ...           ...        ...   \n",
      "2023-03-21 02:24:00  2.702827e+07 -4.656613e-10  0.000000e+00  67.510760   \n",
      "2023-03-21 02:25:00  2.703232e+07  0.000000e+00  0.000000e+00  67.506753   \n",
      "2023-03-21 02:26:00  2.703637e+07  4.656613e-10  0.000000e+00  67.502746   \n",
      "2023-03-21 02:27:00  2.704042e+07  2.328306e-10  0.000000e+00  67.498739   \n",
      "2023-03-21 02:28:00  2.704447e+07 -2.328306e-10  0.000000e+00  67.494733   \n",
      "\n",
      "                         sc_vel_t      sc_vel_n   Dist_au  \n",
      "2023-03-20 17:51:00 -9.769963e-15 -7.105427e-15  0.166568  \n",
      "2023-03-20 17:52:00  5.329071e-15  7.105427e-15  0.166595  \n",
      "2023-03-20 17:53:00  2.575717e-14 -1.065814e-14  0.166623  \n",
      "2023-03-20 17:54:00  8.881784e-15  0.000000e+00  0.166651  \n",
      "2023-03-20 17:55:00  5.329071e-15 -7.105427e-15  0.166679  \n",
      "...                           ...           ...       ...  \n",
      "2023-03-21 02:24:00 -8.881784e-16  0.000000e+00  0.180670  \n",
      "2023-03-21 02:25:00  4.440892e-15  3.552714e-15  0.180697  \n",
      "2023-03-21 02:26:00  9.769963e-15  7.105427e-15  0.180724  \n",
      "2023-03-21 02:27:00 -6.217249e-15 -3.552714e-15  0.180751  \n",
      "2023-03-21 02:28:00  1.065814e-14 -3.552714e-15  0.180779  \n",
      "\n",
      "[518 rows x 7 columns]\n",
      "No MAG data!\n",
      "201 - 224 failed!\n",
      "Folder name /Volumes/Elements-1/andreaL/radial_evolution/PSP/slow_alfvenic/2023-03-20_04-18-00_2023-03-20_09-26-00_sc_0\n",
      "Downloading unpublished Data....\n"
     ]
    },
    {
     "name": "stderr",
     "output_type": "stream",
     "text": [
      "17-Oct-23 08:06:28: File is current: psp_data/fields/l2/mag_RTN/2023/03/psp_fld_l2_mag_RTN_2023031912_v02.cdf\n",
      "17-Oct-23 08:06:28: File is current: psp_data/fields/l2/mag_RTN/2023/03/psp_fld_l2_mag_RTN_2023031918_v02.cdf\n",
      "17-Oct-23 08:06:28: File is current: psp_data/fields/l2/mag_RTN/2023/03/psp_fld_l2_mag_RTN_2023032000_v02.cdf\n",
      "17-Oct-23 08:06:28: File is current: psp_data/fields/l2/mag_RTN/2023/03/psp_fld_l2_mag_RTN_2023032006_v02.cdf\n",
      "17-Oct-23 08:06:28: File is current: psp_data/fields/l2/mag_RTN/2023/03/psp_fld_l2_mag_RTN_2023032012_v02.cdf\n",
      "17-Oct-23 08:06:28: File is current: psp_data/fields/l2/mag_RTN/2023/03/psp_fld_l2_mag_RTN_2023032018_v02.cdf\n"
     ]
    }
   ],
   "source": [
    "from joblib import Parallel, delayed\n",
    "\n",
    "# Choose PSP or SolO\n",
    "sc                      = 0                                  # PSP:0, SolO:1\n",
    "\n",
    "# If you only need to download 1 interval (dates wont matter if only_one_interval=0)\n",
    "only_one_interval       = 0                                    # If you only want to check one interval\n",
    "\n",
    "alfvenic_intervals      = True\n",
    "cdf_lib_path            = '/Applications/cdf/cdf/lib'            # You will need to read cdf files. You have to specify the path\n",
    "choose_working_dir      = '/Users/nokni/work/sc_data/'           # Working dir. Usually where you save raw data (a psp_data, and/or solar_orbiter_data folder will be created)\n",
    "\n",
    "#User defined parameters\n",
    "addit_time_around       =  12                                     # [start_time -addit_time_around [h], end_time + addit_time_around [h]]\n",
    "high_resol_data         = True\n",
    "subtract_rol_mean       = 1                                      # To estimate fluctuations of mag, vel field\n",
    "rolling_window          = '1h'                                   # When estimating fluctuations, size of window (centered around -w/2 -w/2\n",
    "gap_time_threshold      = 5                                      # Threshold for large gaps (units of seconds)\n",
    "estimate_PSD            = 0                                      # Estimate magentic field powes spectral density (keep false)\n",
    "estimate_PSD_V          = 0                                      # Estimate velocity field powes spectral density (keep false)\n",
    "high_res_mag            = 0                                      # Use high resol or low resolution magnetic field data ( Choose either 1 or 0 respectively)\n",
    "in_RTN                  = 1                                      # RTN or spacecraft frame ( We will usually use RTN)\n",
    "f_min_spec              = 2e-3                                   # Integrate over [f_min_spec, f_max_spec]to estimate σc, σr \n",
    "f_max_spec              = 1e-2                                   #\n",
    "step                    = '1H'                                  # Move starting point by step (in Hours)\n",
    "duration                = '3H'                                  # Duration of interval (in Hours)\n",
    "settings                =  {\n",
    "                            'particle_mode': '9th_perih_cut',     # either: 'spc', 'span', '9th_perih_cut'\n",
    "                            'apply_hampel' : 0,                # Use hampelfilter to despike plasma data\n",
    "                            'part_resol'   : 1000,                # Max resol of plasma data                [ms]\n",
    "                            'MAG_resol'    : 1                # Max resol og magnetic field data        [ms]   # Above 450\n",
    "\n",
    "                            } \n",
    "credentials         = { 'psp':{\n",
    "                               'fields': {'username': 'mvelli', 'password': 'flds@psp'},\n",
    "                               'sweap' : {'username': 'mvelli', 'password': '2019swe@pd@ta'}\n",
    "                              }\n",
    "                      }\n",
    "\n",
    "if sc==0:\n",
    "    vars_2_downnload = {'mag': None, 'span': None,'span-a': None, 'spc': None, 'qtn': None, 'ephem': None}\n",
    "    \n",
    "elif sc==1:\n",
    "    vars_2_downnload = {'mag': None, 'qtn': None, 'swa': None, 'ephem': None} \n",
    "else:\n",
    "    print('Not ready yet!')\n",
    "    \n",
    "    \n",
    "\n",
    "# on the other hand if you have a list of intervals\n",
    "load_dir_path           = '/Users/nokni/work/3d_anisotropy/radial_evolution/data/selected_intervals/'\n",
    "\n",
    "\n",
    "if sc ==0:\n",
    "    if alfvenic_intervals:\n",
    "        \n",
    "        load_path               = str(load_dir_path)+'all_psp_slow_alfvenic_intervals_final.pkl' # In case you have multiple days you want to download ()\n",
    "        save_path               = '/Volumes/Elements-1/andreaL/radial_evolution/PSP/slow_alfvenic'                                # This will be connected with the parent of load_path\n",
    "        \n",
    "        \n",
    "    else:\n",
    "        load_path               = str(load_dir_path)+'all_psp_slow_non_alfvenic_intervals_nikos.pkl' # In case you have multiple days you want to download ()\n",
    "        save_path               = '/Volumes/Elements-1/andreaL/radial_evolution/PSP/slow_non_alfvenic'                                # This will be connected with the parent of load_path\n",
    "\n",
    "elif sc ==1:\n",
    "    if alfvenic_intervals:\n",
    "        \n",
    "        load_path               = str(load_dir_path)+'solo_alfvenic_raffaela_intervals.pkl' # In case you have multiple days you want to download ()\n",
    "        save_path               = '/Volumes/Elements-1/andreaL/radial_evolution/SolO/slow_alfvenic'                                # This will be connected with the parent of load_path\n",
    "        \n",
    "else:\n",
    "    print('under consruction')\n",
    "\n",
    "    \n",
    "\n",
    "# Change to to specified working dir\n",
    "os.chdir(choose_working_dir)\n",
    "\n",
    "\n",
    "# load dataframe\n",
    "df                      =  pd.read_pickle(load_path)\n",
    "\n",
    "# Define final path\n",
    "final_path              =  Path(save_path)\n",
    "\n",
    "\n",
    "# Call function\n",
    "Parallel(n_jobs=1)(delayed(data_analysis.download_files)(ok, \n",
    "                                                            df, \n",
    "                                                            final_path, \n",
    "                                                            only_one_interval, \n",
    "                                                            step, \n",
    "                                                            duration, \n",
    "                                                            addit_time_around, \n",
    "                                                            settings, \n",
    "                                                            vars_2_downnload, \n",
    "                                                            cdf_lib_path, \n",
    "                                                            credentials, \n",
    "                                                            gap_time_threshold, \n",
    "                                                            estimate_PSD_V, \n",
    "                                                            subtract_rol_mean, \n",
    "                                                            rolling_window, \n",
    "                                                            f_min_spec, \n",
    "                                                            f_max_spec, \n",
    "                                                            estimate_PSD, \n",
    "                                                            sc, \n",
    "                                                            high_resol_data, \n",
    "                                                            in_RTN) for ok in range(len(df)))\n",
    "\n"
   ]
  },
  {
   "cell_type": "code",
   "execution_count": null,
   "id": "b4c5af9f-3d9a-4410-ac34-2ce6e346099c",
   "metadata": {},
   "outputs": [],
   "source": []
  }
 ],
 "metadata": {
  "kernelspec": {
   "display_name": "Python 3 (ipykernel)",
   "language": "python",
   "name": "python3"
  },
  "language_info": {
   "codemirror_mode": {
    "name": "ipython",
    "version": 3
   },
   "file_extension": ".py",
   "mimetype": "text/x-python",
   "name": "python",
   "nbconvert_exporter": "python",
   "pygments_lexer": "ipython3",
   "version": "3.10.4"
  }
 },
 "nbformat": 4,
 "nbformat_minor": 5
}
