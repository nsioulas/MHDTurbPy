{
 "cells": [
  {
   "cell_type": "markdown",
   "id": "60546e88-7ee7-4c39-81a8-871e1af1ed6f",
   "metadata": {},
   "source": [
    "# Load libraries"
   ]
  },
  {
   "cell_type": "code",
   "execution_count": 34,
   "id": "75151947-4f02-48bf-8e17-e4263f169500",
   "metadata": {},
   "outputs": [
    {
     "name": "stdout",
     "output_type": "stream",
     "text": [
      "The autoreload extension is already loaded. To reload it, use:\n",
      "  %reload_ext autoreload\n"
     ]
    }
   ],
   "source": [
    "%load_ext autoreload\n",
    "%autoreload 2\n",
    "\n",
    "\n",
    "# Basic libraries\n",
    "import pandas as pd\n",
    "import numpy as np\n",
    "import sys\n",
    "\n",
    "\n",
    "# Scipy\n",
    "import scipy\n",
    "from scipy import signal\n",
    "from scipy.linalg import solve\n",
    "from scipy import constants\n",
    "from scipy.interpolate import interp1d\n",
    "from scipy.fft import fft, fftfreq\n",
    "\n",
    "# Locate files\n",
    "import os\n",
    "from pathlib import Path\n",
    "from glob import glob\n",
    "\n",
    "# Plots\n",
    "from matplotlib import pyplot as plt\n",
    "\n",
    "#Important!! Make sure your current directory is the MHDTurbPy folder!\n",
    "os.chdir(\"/Users/nokni/work/MHDTurbPy\")\n",
    "\n",
    "\n",
    "# Make sure to use the local spedas\n",
    "sys.path.insert(0, os.path.join(os.getcwd(), 'pyspedas'))\n",
    "import pyspedas\n",
    "from pyspedas.utilities import time_string\n",
    "from pytplot import get_data\n",
    "from joblib import Parallel, delayed\n",
    "\n",
    "\"\"\" Import manual functions \"\"\"\n",
    "\n",
    "sys.path.insert(1, os.path.join(os.getcwd(), 'functions'))\n",
    "import calc_diagnostics as calc\n",
    "import TurbPy as turb\n",
    "import general_functions as func\n",
    "import Figures as figs\n",
    "\n",
    "from   SEA import SEA\n",
    "import three_D_funcs as threeD\n",
    "import download_data as download\n",
    "\n",
    "sys.path.insert(1, os.path.join(os.getcwd(), 'functions/3d_anis_analysis_toolboox'))\n",
    "import collect_wave_coeffs \n",
    "import data_analysis \n",
    "\n",
    "\n",
    "\n",
    "\n",
    "\n",
    "\n",
    "os.environ[\"CDF_LIB\"] = \"/Applications/cdf/cdf/lib\""
   ]
  },
  {
   "cell_type": "markdown",
   "id": "5105c685-06ae-4563-beb8-f686fbcbac42",
   "metadata": {},
   "source": [
    "# Download  WIND data"
   ]
  },
  {
   "cell_type": "code",
   "execution_count": 35,
   "id": "9c182300-db7f-4f17-9e48-2150c4deb012",
   "metadata": {},
   "outputs": [
    {
     "name": "stderr",
     "output_type": "stream",
     "text": [
      "12-Feb-24 13:55:47: Generating only one interval based on the provided start and end times.\n",
      "12-Feb-24 13:55:47: Start Time: 2018-11-01 00:00:00\n",
      "12-Feb-24 13:55:47: End Time: 2018-11-02 00:00:00\n",
      "12-Feb-24 13:55:47: Considering an interval spanning: 2018-11-02 00:00:00 to 2018-11-01 00:00:00\n",
      "12-Feb-24 13:55:47: \u001b[47mOverwriting folder /Users/nokni/work/MHDTurbPy/examples/WIND/2018-11-01_00-00-00_2018-11-02_00-00-00_sc_0\u001b[0m\n"
     ]
    },
    {
     "name": "stdout",
     "output_type": "stream",
     "text": [
      "Working on WIND data\n",
      "Done.\n",
      "Input tstart = 2018-10-31 20:00:00+00:00, tend = 2018-11-02 04:00:00+00:00\n",
      "Returned tstart = 2018-10-31 20:00:00.091000, tend = 2018-11-02 03:59:59.995000\n",
      "Mag fraction missing 0.0\n",
      "Par fraction missing 8.943351607008491\n",
      "0 out of 1 finished\n"
     ]
    },
    {
     "data": {
      "text/plain": [
       "[None]"
      ]
     },
     "execution_count": 35,
     "metadata": {},
     "output_type": "execute_result"
    }
   ],
   "source": [
    "from joblib import Parallel, delayed\n",
    "\n",
    "# If you only need to download 1 interval (dates wont matter if only_one_interval=0)\n",
    "\n",
    "save_destination        =  f'/Users/nokni/work/MHDTurbPy/examples'\n",
    "\n",
    "\n",
    "cdf_lib_path            = '/Applications/cdf/cdf/lib'            # You will need to read cdf files. You have to specify the path\n",
    "data_path               = '/Volumes/Zesen-4TB/'           # Working dir. Usually where you save raw data (a psp_data, and/or solar_orbiter_data folder will be created)\n",
    "\n",
    "#User defined parameters\n",
    "credentials             =      { 'psp':{\n",
    "                                           'fields': {'username': None, 'password': None},\n",
    "                                           'sweap' : {'username': None, 'password': None}}}\n",
    "\n",
    "\n",
    "settings                =  {\n",
    "                            'Data_path'              : '/Volumes/Zesen-4TB/SPEDAS/' ,\n",
    "                            'Only_1_interval'        :  True,                 # If you only want to check one interval\n",
    "                            'start_date'             : '2018-11-01 00:00', \n",
    "                            'end_date'               : '2018-11-02 00:00',\n",
    "                            'overwrite_files'        :  1,                     # In case you want to re-do analysis for existing files!\n",
    "                            'save_all'               :  True,                  # If false it will only keep derived quants. Not timeseries\n",
    "                            'sc'                     : 'WIND',                 # Choices ['PSP', SOLO, 'HELIOS_A', 'HELIOS_B', 'WIND']\n",
    "                            'part_resol'             : 3,                      # Max resol of plasma data                [s]\n",
    "                            'MAG_resol'              : 1,                      # Max resol og magnetic field data        [s]\n",
    "\n",
    "                            \n",
    "                            'duration'               : '10H',                  # Duration of interval (in Hours)\n",
    "                            'Step'                   : '5H',                   # Move starting point by step (in Hours)\n",
    "                            'estimate_derived_param' :  True,\n",
    "                            'Big_Gaps'               :{\n",
    "                                                        'Mag_big_gaps' : 10,   # This will return 3 dtaframes containing gaps\n",
    "                                                        'Par_big_gaps' : 20,   # in the respective timeseries\n",
    "                                                        'QTN_big_gaps' : 300,\n",
    "                                                        \n",
    "                                                        },\n",
    "                                                    \n",
    "                            'cut_in_small_windows'   : {'flag'    : False, \n",
    "                                                        'Step'    : '10min',\n",
    "                                                        'duration': '600min'},\n",
    "\n",
    "                            'Max_par_missing'        : 10,\n",
    "                            'addit_time_around'      : 4,                       # [start_time -addit_time_around [h], end_time + addit_time_around [h]]\n",
    "                            'gap_time_threshold'     : 5 ,                      # Threshold for large gaps (units of seconds)\n",
    "                            'apply_hampel'           : False,                   # Use hampelfilter to despike plasma data\n",
    "                            'hampel_params'          : {'w'  : 200,\n",
    "                                                        'std': 3},\n",
    "\n",
    "                            'upsample_low_freq_ts'   : False,                    #\n",
    "                            'estimate_psd_b'         : 1,                       # Estimate magentic field powes spectral density (keep false)\n",
    "                            'estimate_psd_v'         : 1,                       # Estimate velocity field powes spectral density (keep false)\n",
    "                            'est_PSD_components'     : 1,\n",
    "                            'smooth_psd'             : False,\n",
    "                            'in_rtn'                 : True,                    # RTN or spacecraft frame ( We will usually use RTN)\n",
    "                            'rol_mean'               : True,                    # To estimate fluctuations of mag, vel field\n",
    "                            'rol_window'             : '1H',                    # When estimating fluctuations, size of window (centered around -w/2 -w/2\n",
    "\n",
    "                            } \n",
    "\n",
    "\n",
    "\n",
    "if settings['sc'] == \"PSP\":\n",
    "    vars_2_downnload = {\n",
    "                        'mag'    : None, \n",
    "                        'span'   : None,\n",
    "                        'span-a' : None,\n",
    "                        'spc'    : None, \n",
    "                        'qtn'    : None,\n",
    "                        'ephem'  : None}\n",
    "\n",
    "elif settings['sc'] == \"SOLO\":\n",
    "    vars_2_downnload = {\n",
    "                        'mag'    : None,\n",
    "                        'swa'    : None, \n",
    "                        'rpw'    : None, # Default is 'bia-density-10-seconds', but  'bia-density' is also available and probaly interesting\n",
    "                        'ephem'  : None} \n",
    "else:\n",
    "    \n",
    "    vars_2_downnload = None\n",
    "    \n",
    "\n",
    "save_path = Path(save_destination).joinpath(settings['sc'])\n",
    "\n",
    "\n",
    "\n",
    "generated_interval_list = download.generate_intervals(settings['start_date'],\n",
    "                                                     settings['end_date'], \n",
    "                                                     settings            = settings,\n",
    "                                                     data_path           = data_path)\n",
    "\n",
    "\n",
    "# Call function\n",
    "Parallel(n_jobs=1)(delayed(download.download_files)(\n",
    "                                                            jj, \n",
    "                                                            generated_interval_list, \n",
    "                                                            settings, \n",
    "                                                            vars_2_downnload, \n",
    "                                                            cdf_lib_path, \n",
    "                                                            credentials, \n",
    "                                                            save_path) for jj in range(len(generated_interval_list)))\n"
   ]
  },
  {
   "cell_type": "markdown",
   "id": "190d3d98-8327-4a8c-b834-9952544583f5",
   "metadata": {},
   "source": [
    "# Now check downloaded interval"
   ]
  },
  {
   "cell_type": "markdown",
   "id": "5b66cc10-719b-4023-bfcc-c400bda3680d",
   "metadata": {},
   "source": [
    "### (1) Locate files"
   ]
  },
  {
   "cell_type": "code",
   "execution_count": 36,
   "id": "1eb43645-0580-4e5e-b0e1-82cae10422d6",
   "metadata": {},
   "outputs": [
    {
     "name": "stdout",
     "output_type": "stream",
     "text": [
      "/Users/nokni/work/MHDTurbPy/examples/WIND/*/final.pkl\n",
      "/Users/nokni/work/MHDTurbPy/examples/WIND/*/general.pkl\n",
      "/Users/nokni/work/MHDTurbPy/examples/WIND/*/sig_c_sig_r.pkl\n",
      "/Users/nokni/work/MHDTurbPy/examples/WIND/*/mag_gaps.pkl\n"
     ]
    }
   ],
   "source": [
    "sc        = 'WIND'\n",
    "load_path =   f'/Users/nokni/work/MHDTurbPy/examples/{sc}'\n",
    "\n",
    "finnames  = func.load_files(load_path, 'final.pkl')\n",
    "gennames  = func.load_files(load_path, 'general.pkl')\n",
    "signames  = func.load_files(load_path, 'sig_c_sig_r.pkl')\n",
    "maggaps   = func.load_files(load_path, 'mag_gaps.pkl')"
   ]
  },
  {
   "cell_type": "markdown",
   "id": "1af3808a-66ad-4481-b251-15457b194e49",
   "metadata": {},
   "source": [
    "### (2) Load files"
   ]
  },
  {
   "cell_type": "code",
   "execution_count": 37,
   "id": "bfe79568-da4a-40ca-a1b3-da7de760d23b",
   "metadata": {},
   "outputs": [],
   "source": [
    "N   = 0\n",
    "\n",
    "fin      = pd.read_pickle(finnames[N])\n",
    "gen      = pd.read_pickle(gennames[N])\n",
    "sig      = pd.read_pickle(signames[N])\n",
    "mag_gaps = pd.read_pickle(maggaps[N])"
   ]
  },
  {
   "cell_type": "markdown",
   "id": "c89b13ce-2b2a-4f8e-b31d-504fcca656f9",
   "metadata": {},
   "source": [
    "### Check general info"
   ]
  },
  {
   "cell_type": "code",
   "execution_count": 38,
   "id": "5cd2e087-c92a-491d-85e7-407b8d26956e",
   "metadata": {},
   "outputs": [
    {
     "data": {
      "text/plain": [
       "{'Start_Time': Timestamp('2018-11-01 00:00:00'),\n",
       " 'End_Time': Timestamp('2018-11-01 23:59:59.790000'),\n",
       " 'd': 1.0,\n",
       " 'Fraction_missing_MAG': 0.0,\n",
       " 'Fract_large_gaps': 0.705440957890441,\n",
       " 'Resolution_MAG': 93.10009768535646,\n",
       " 'part_flag': None,\n",
       " 'qtn_flag': None,\n",
       " 'Fraction_missing_part': 8.943351607008491,\n",
       " 'Resolution_part': 3415.3435278215948,\n",
       " 'sc': 'WIND'}"
      ]
     },
     "execution_count": 38,
     "metadata": {},
     "output_type": "execute_result"
    }
   ],
   "source": [
    "gen"
   ]
  },
  {
   "cell_type": "markdown",
   "id": "28c69590-4c01-4789-bef3-8fe0f885b641",
   "metadata": {},
   "source": [
    "### Mag field gaps\n",
    "\n",
    "This intervals has a lot of gaps!\n"
   ]
  },
  {
   "cell_type": "code",
   "execution_count": 39,
   "id": "ca6d8f74-4435-4a09-8a7a-98581ba69516",
   "metadata": {},
   "outputs": [
    {
     "data": {
      "text/html": [
       "<div>\n",
       "<style scoped>\n",
       "    .dataframe tbody tr th:only-of-type {\n",
       "        vertical-align: middle;\n",
       "    }\n",
       "\n",
       "    .dataframe tbody tr th {\n",
       "        vertical-align: top;\n",
       "    }\n",
       "\n",
       "    .dataframe thead th {\n",
       "        text-align: right;\n",
       "    }\n",
       "</style>\n",
       "<table border=\"1\" class=\"dataframe\">\n",
       "  <thead>\n",
       "    <tr style=\"text-align: right;\">\n",
       "      <th></th>\n",
       "      <th>Start</th>\n",
       "      <th>End</th>\n",
       "    </tr>\n",
       "  </thead>\n",
       "  <tbody>\n",
       "    <tr>\n",
       "      <th>0</th>\n",
       "      <td>2018-11-01 05:13:41.840</td>\n",
       "      <td>2018-11-01 05:20:08.332</td>\n",
       "    </tr>\n",
       "    <tr>\n",
       "      <th>1</th>\n",
       "      <td>2018-11-01 05:19:31.440</td>\n",
       "      <td>2018-11-01 07:40:35.531</td>\n",
       "    </tr>\n",
       "    <tr>\n",
       "      <th>2</th>\n",
       "      <td>2018-11-01 07:39:03.439</td>\n",
       "      <td>2018-11-01 07:53:46.731</td>\n",
       "    </tr>\n",
       "    <tr>\n",
       "      <th>3</th>\n",
       "      <td>2018-11-01 07:53:27.779</td>\n",
       "      <td>2018-11-01 08:05:25.931</td>\n",
       "    </tr>\n",
       "    <tr>\n",
       "      <th>4</th>\n",
       "      <td>2018-11-01 08:05:07.347</td>\n",
       "      <td>2018-11-01 08:10:20.423</td>\n",
       "    </tr>\n",
       "    <tr>\n",
       "      <th>5</th>\n",
       "      <td>2018-11-01 08:10:01.839</td>\n",
       "      <td>2018-11-01 08:16:46.730</td>\n",
       "    </tr>\n",
       "    <tr>\n",
       "      <th>6</th>\n",
       "      <td>2018-11-01 08:16:21.154</td>\n",
       "      <td>2018-11-01 08:31:11.530</td>\n",
       "    </tr>\n",
       "    <tr>\n",
       "      <th>7</th>\n",
       "      <td>2018-11-01 08:30:52.210</td>\n",
       "      <td>2018-11-01 09:10:26.730</td>\n",
       "    </tr>\n",
       "    <tr>\n",
       "      <th>8</th>\n",
       "      <td>2018-11-01 09:09:49.838</td>\n",
       "      <td>2018-11-01 09:29:09.130</td>\n",
       "    </tr>\n",
       "    <tr>\n",
       "      <th>9</th>\n",
       "      <td>2018-11-01 09:28:50.546</td>\n",
       "      <td>2018-11-01 09:56:45.130</td>\n",
       "    </tr>\n",
       "    <tr>\n",
       "      <th>10</th>\n",
       "      <td>2018-11-01 09:56:22.498</td>\n",
       "      <td>2018-11-01 09:59:12.330</td>\n",
       "    </tr>\n",
       "    <tr>\n",
       "      <th>11</th>\n",
       "      <td>2018-11-01 09:58:51.906</td>\n",
       "      <td>2018-11-01 11:00:13.929</td>\n",
       "    </tr>\n",
       "    <tr>\n",
       "      <th>12</th>\n",
       "      <td>2018-11-01 10:59:37.037</td>\n",
       "      <td>2018-11-01 11:49:54.729</td>\n",
       "    </tr>\n",
       "    <tr>\n",
       "      <th>13</th>\n",
       "      <td>2018-11-01 11:49:31.729</td>\n",
       "      <td>2018-11-01 12:06:09.929</td>\n",
       "    </tr>\n",
       "    <tr>\n",
       "      <th>14</th>\n",
       "      <td>2018-11-01 12:05:51.345</td>\n",
       "      <td>2018-11-01 12:19:39.621</td>\n",
       "    </tr>\n",
       "    <tr>\n",
       "      <th>15</th>\n",
       "      <td>2018-11-01 12:19:18.001</td>\n",
       "      <td>2018-11-01 12:46:38.729</td>\n",
       "    </tr>\n",
       "    <tr>\n",
       "      <th>16</th>\n",
       "      <td>2018-11-01 12:46:16.465</td>\n",
       "      <td>2018-11-01 12:53:23.529</td>\n",
       "    </tr>\n",
       "    <tr>\n",
       "      <th>17</th>\n",
       "      <td>2018-11-01 12:53:04.945</td>\n",
       "      <td>2018-11-01 13:06:16.329</td>\n",
       "    </tr>\n",
       "    <tr>\n",
       "      <th>18</th>\n",
       "      <td>2018-11-01 13:05:55.905</td>\n",
       "      <td>2018-11-01 18:52:48.327</td>\n",
       "    </tr>\n",
       "  </tbody>\n",
       "</table>\n",
       "</div>"
      ],
      "text/plain": [
       "                     Start                     End\n",
       "0  2018-11-01 05:13:41.840 2018-11-01 05:20:08.332\n",
       "1  2018-11-01 05:19:31.440 2018-11-01 07:40:35.531\n",
       "2  2018-11-01 07:39:03.439 2018-11-01 07:53:46.731\n",
       "3  2018-11-01 07:53:27.779 2018-11-01 08:05:25.931\n",
       "4  2018-11-01 08:05:07.347 2018-11-01 08:10:20.423\n",
       "5  2018-11-01 08:10:01.839 2018-11-01 08:16:46.730\n",
       "6  2018-11-01 08:16:21.154 2018-11-01 08:31:11.530\n",
       "7  2018-11-01 08:30:52.210 2018-11-01 09:10:26.730\n",
       "8  2018-11-01 09:09:49.838 2018-11-01 09:29:09.130\n",
       "9  2018-11-01 09:28:50.546 2018-11-01 09:56:45.130\n",
       "10 2018-11-01 09:56:22.498 2018-11-01 09:59:12.330\n",
       "11 2018-11-01 09:58:51.906 2018-11-01 11:00:13.929\n",
       "12 2018-11-01 10:59:37.037 2018-11-01 11:49:54.729\n",
       "13 2018-11-01 11:49:31.729 2018-11-01 12:06:09.929\n",
       "14 2018-11-01 12:05:51.345 2018-11-01 12:19:39.621\n",
       "15 2018-11-01 12:19:18.001 2018-11-01 12:46:38.729\n",
       "16 2018-11-01 12:46:16.465 2018-11-01 12:53:23.529\n",
       "17 2018-11-01 12:53:04.945 2018-11-01 13:06:16.329\n",
       "18 2018-11-01 13:05:55.905 2018-11-01 18:52:48.327"
      ]
     },
     "execution_count": 39,
     "metadata": {},
     "output_type": "execute_result"
    }
   ],
   "source": [
    "mag_gaps "
   ]
  },
  {
   "cell_type": "markdown",
   "id": "2ec47d2a-5e99-4947-8beb-7e02a42efc84",
   "metadata": {
    "tags": []
   },
   "source": [
    "### Check particle data"
   ]
  },
  {
   "cell_type": "code",
   "execution_count": 40,
   "id": "4b485653-78b1-4292-8385-29b39ce8febf",
   "metadata": {},
   "outputs": [
    {
     "data": {
      "text/plain": [
       "dict_keys(['dict_psd', 'mean_sw_speed  ', 'median_sw_speed', 'std_sw_speed', 'median_alfv_speed', 'mean_alfv_speed', 'std_alfv_speed', 'median_MA_r', 'mean_MA_r', 'std_MA_r', 'beta_mean', 'beta_std', 'sigma_r_mean', 'sigma_r_median', 'sigma_r_std', 'sigma_c_median', 'sigma_c_mean', 'sigma_c_std', 'Vth_mean', 'Vth_std', 'Vsw_mean', 'Vsw_std', 'Np_mean', 'Np_std', 'di_mean', 'di_std', 'rho_ci_mean', 'rho_ci_std', 'VBangle_mean', 'VBangle_std', 'V_resampled'])"
      ]
     },
     "execution_count": 40,
     "metadata": {},
     "output_type": "execute_result"
    }
   ],
   "source": [
    "fin['Par'].keys()"
   ]
  },
  {
   "cell_type": "markdown",
   "id": "547de66b-4c28-434e-8b4b-a7acc4d0bdc7",
   "metadata": {},
   "source": [
    "# Magnetic field timeseries"
   ]
  },
  {
   "cell_type": "code",
   "execution_count": 41,
   "id": "0d88e08e-52b6-47da-ad7f-2ad3f959698a",
   "metadata": {},
   "outputs": [
    {
     "data": {
      "text/html": [
       "<div>\n",
       "<style scoped>\n",
       "    .dataframe tbody tr th:only-of-type {\n",
       "        vertical-align: middle;\n",
       "    }\n",
       "\n",
       "    .dataframe tbody tr th {\n",
       "        vertical-align: top;\n",
       "    }\n",
       "\n",
       "    .dataframe thead th {\n",
       "        text-align: right;\n",
       "    }\n",
       "</style>\n",
       "<table border=\"1\" class=\"dataframe\">\n",
       "  <thead>\n",
       "    <tr style=\"text-align: right;\">\n",
       "      <th></th>\n",
       "      <th>Br</th>\n",
       "      <th>Bt</th>\n",
       "      <th>Bn</th>\n",
       "      <th>Btot</th>\n",
       "    </tr>\n",
       "    <tr>\n",
       "      <th>Epoch</th>\n",
       "      <th></th>\n",
       "      <th></th>\n",
       "      <th></th>\n",
       "      <th></th>\n",
       "    </tr>\n",
       "  </thead>\n",
       "  <tbody>\n",
       "    <tr>\n",
       "      <th>2018-10-31 23:59:58.874</th>\n",
       "      <td>NaN</td>\n",
       "      <td>NaN</td>\n",
       "      <td>NaN</td>\n",
       "      <td>NaN</td>\n",
       "    </tr>\n",
       "    <tr>\n",
       "      <th>2018-11-01 00:00:01.952</th>\n",
       "      <td>-4.029912</td>\n",
       "      <td>3.626310</td>\n",
       "      <td>1.854299</td>\n",
       "      <td>5.729825</td>\n",
       "    </tr>\n",
       "    <tr>\n",
       "      <th>2018-11-01 00:00:05.048</th>\n",
       "      <td>-4.012482</td>\n",
       "      <td>3.654009</td>\n",
       "      <td>1.843570</td>\n",
       "      <td>5.731592</td>\n",
       "    </tr>\n",
       "    <tr>\n",
       "      <th>2018-11-01 00:00:08.144</th>\n",
       "      <td>-4.038755</td>\n",
       "      <td>3.636977</td>\n",
       "      <td>1.847563</td>\n",
       "      <td>5.740543</td>\n",
       "    </tr>\n",
       "    <tr>\n",
       "      <th>2018-11-01 00:00:11.240</th>\n",
       "      <td>-4.085271</td>\n",
       "      <td>3.710239</td>\n",
       "      <td>1.823587</td>\n",
       "      <td>5.812221</td>\n",
       "    </tr>\n",
       "    <tr>\n",
       "      <th>...</th>\n",
       "      <td>...</td>\n",
       "      <td>...</td>\n",
       "      <td>...</td>\n",
       "      <td>...</td>\n",
       "    </tr>\n",
       "    <tr>\n",
       "      <th>2018-11-01 23:59:41.254</th>\n",
       "      <td>-2.766150</td>\n",
       "      <td>2.214558</td>\n",
       "      <td>-1.008395</td>\n",
       "      <td>3.683182</td>\n",
       "    </tr>\n",
       "    <tr>\n",
       "      <th>2018-11-01 23:59:44.350</th>\n",
       "      <td>-2.793847</td>\n",
       "      <td>2.244639</td>\n",
       "      <td>-0.821334</td>\n",
       "      <td>3.676783</td>\n",
       "    </tr>\n",
       "    <tr>\n",
       "      <th>2018-11-01 23:59:47.446</th>\n",
       "      <td>-2.798475</td>\n",
       "      <td>2.235275</td>\n",
       "      <td>-0.841385</td>\n",
       "      <td>3.679430</td>\n",
       "    </tr>\n",
       "    <tr>\n",
       "      <th>2018-11-01 23:59:50.541</th>\n",
       "      <td>-2.787964</td>\n",
       "      <td>2.252897</td>\n",
       "      <td>-0.826095</td>\n",
       "      <td>3.678837</td>\n",
       "    </tr>\n",
       "    <tr>\n",
       "      <th>2018-11-01 23:59:53.637</th>\n",
       "      <td>-2.803601</td>\n",
       "      <td>2.256812</td>\n",
       "      <td>-0.789175</td>\n",
       "      <td>3.684956</td>\n",
       "    </tr>\n",
       "  </tbody>\n",
       "</table>\n",
       "<p>25412 rows × 4 columns</p>\n",
       "</div>"
      ],
      "text/plain": [
       "                               Br        Bt        Bn      Btot\n",
       "Epoch                                                          \n",
       "2018-10-31 23:59:58.874       NaN       NaN       NaN       NaN\n",
       "2018-11-01 00:00:01.952 -4.029912  3.626310  1.854299  5.729825\n",
       "2018-11-01 00:00:05.048 -4.012482  3.654009  1.843570  5.731592\n",
       "2018-11-01 00:00:08.144 -4.038755  3.636977  1.847563  5.740543\n",
       "2018-11-01 00:00:11.240 -4.085271  3.710239  1.823587  5.812221\n",
       "...                           ...       ...       ...       ...\n",
       "2018-11-01 23:59:41.254 -2.766150  2.214558 -1.008395  3.683182\n",
       "2018-11-01 23:59:44.350 -2.793847  2.244639 -0.821334  3.676783\n",
       "2018-11-01 23:59:47.446 -2.798475  2.235275 -0.841385  3.679430\n",
       "2018-11-01 23:59:50.541 -2.787964  2.252897 -0.826095  3.678837\n",
       "2018-11-01 23:59:53.637 -2.803601  2.256812 -0.789175  3.684956\n",
       "\n",
       "[25412 rows x 4 columns]"
      ]
     },
     "execution_count": 41,
     "metadata": {},
     "output_type": "execute_result"
    }
   ],
   "source": [
    "fin['Mag']['B_resampled']"
   ]
  },
  {
   "cell_type": "markdown",
   "id": "9f5a253d-3a8b-4935-9bb2-ea2a73a533f5",
   "metadata": {},
   "source": [
    "# Estimate resolution of Magnetic field timeseries:"
   ]
  },
  {
   "cell_type": "code",
   "execution_count": 42,
   "id": "dc569aca-2c39-49bc-9870-88d2c6f90325",
   "metadata": {},
   "outputs": [
    {
     "data": {
      "text/plain": [
       "3.3999088941361673"
      ]
     },
     "execution_count": 42,
     "metadata": {},
     "output_type": "execute_result"
    }
   ],
   "source": [
    "func.find_cadence(fin['Mag']['B_resampled'])"
   ]
  },
  {
   "cell_type": "markdown",
   "id": "64da8ec8-723a-435c-8df7-09437bdfa306",
   "metadata": {
    "tags": []
   },
   "source": [
    "# Plot estimated power spectra for magnetc field\n",
    "\n",
    "Don't be confused by R, T, N. Those are (x,y,z)"
   ]
  },
  {
   "cell_type": "code",
   "execution_count": 43,
   "id": "36f05bae-cbb9-4e14-8a74-28fd9924a770",
   "metadata": {},
   "outputs": [
    {
     "data": {
      "text/plain": [
       "<matplotlib.legend.Legend at 0x7fe053f37ac0>"
      ]
     },
     "execution_count": 43,
     "metadata": {},
     "output_type": "execute_result"
    },
    {
     "data": {
      "image/png": "[encoded data removed]",
      "text/plain": [
       "<Figure size 432x288 with 1 Axes>"
      ]
     },
     "metadata": {
      "needs_background": "light"
     },
     "output_type": "display_data"
    }
   ],
   "source": [
    "plt.loglog(fin['Mag']['f_B_orig'], fin['Mag']['PSD_f_orig'], label ='Trace')\n",
    "plt.loglog(fin['Mag']['f_B_orig'], fin['Mag']['PSD_f_orig_R'], label ='x comp')\n",
    "plt.loglog(fin['Mag']['f_B_orig'], fin['Mag']['PSD_f_orig_T'], label ='y comp')\n",
    "plt.loglog(fin['Mag']['f_B_orig'], fin['Mag']['PSD_f_orig_N'], label ='z comp')\n",
    "\n",
    "plt.legend()"
   ]
  },
  {
   "cell_type": "markdown",
   "id": "0c84257e-2f9e-4b8c-b5d0-dc71fe34b166",
   "metadata": {},
   "source": [
    "# Particle timeseries\n",
    "\n",
    "(a) Contains Vx, Vy, Vz [km/s], proton density [cm^-3], Proton temp [ev], Proton thermal speed [km/s]"
   ]
  },
  {
   "cell_type": "code",
   "execution_count": 44,
   "id": "eeeb188a-ee1c-447c-b33c-500d49055d11",
   "metadata": {},
   "outputs": [
    {
     "data": {
      "text/html": [
       "<div>\n",
       "<style scoped>\n",
       "    .dataframe tbody tr th:only-of-type {\n",
       "        vertical-align: middle;\n",
       "    }\n",
       "\n",
       "    .dataframe tbody tr th {\n",
       "        vertical-align: top;\n",
       "    }\n",
       "\n",
       "    .dataframe thead th {\n",
       "        text-align: right;\n",
       "    }\n",
       "</style>\n",
       "<table border=\"1\" class=\"dataframe\">\n",
       "  <thead>\n",
       "    <tr style=\"text-align: right;\">\n",
       "      <th></th>\n",
       "      <th>Vr</th>\n",
       "      <th>Vt</th>\n",
       "      <th>Vn</th>\n",
       "      <th>np</th>\n",
       "      <th>Tp</th>\n",
       "      <th>Vth</th>\n",
       "    </tr>\n",
       "  </thead>\n",
       "  <tbody>\n",
       "    <tr>\n",
       "      <th>2018-10-31 23:59:58.874</th>\n",
       "      <td>-331.652466</td>\n",
       "      <td>-1.857373</td>\n",
       "      <td>10.215549</td>\n",
       "      <td>8.213666</td>\n",
       "      <td>3.175972</td>\n",
       "      <td>0.228980</td>\n",
       "    </tr>\n",
       "    <tr>\n",
       "      <th>2018-11-01 00:00:01.952</th>\n",
       "      <td>-331.652466</td>\n",
       "      <td>0.000000</td>\n",
       "      <td>10.215549</td>\n",
       "      <td>8.599883</td>\n",
       "      <td>3.305206</td>\n",
       "      <td>0.233592</td>\n",
       "    </tr>\n",
       "    <tr>\n",
       "      <th>2018-11-01 00:00:05.048</th>\n",
       "      <td>-331.652466</td>\n",
       "      <td>0.000000</td>\n",
       "      <td>10.215549</td>\n",
       "      <td>8.188411</td>\n",
       "      <td>3.331877</td>\n",
       "      <td>0.234533</td>\n",
       "    </tr>\n",
       "    <tr>\n",
       "      <th>2018-11-01 00:00:08.144</th>\n",
       "      <td>-333.273468</td>\n",
       "      <td>0.000000</td>\n",
       "      <td>11.198705</td>\n",
       "      <td>8.158342</td>\n",
       "      <td>3.301878</td>\n",
       "      <td>0.233475</td>\n",
       "    </tr>\n",
       "    <tr>\n",
       "      <th>2018-11-01 00:00:11.240</th>\n",
       "      <td>-333.273468</td>\n",
       "      <td>0.000000</td>\n",
       "      <td>11.198705</td>\n",
       "      <td>8.568443</td>\n",
       "      <td>3.278011</td>\n",
       "      <td>0.232629</td>\n",
       "    </tr>\n",
       "    <tr>\n",
       "      <th>...</th>\n",
       "      <td>...</td>\n",
       "      <td>...</td>\n",
       "      <td>...</td>\n",
       "      <td>...</td>\n",
       "      <td>...</td>\n",
       "      <td>...</td>\n",
       "    </tr>\n",
       "    <tr>\n",
       "      <th>2018-11-01 23:59:41.254</th>\n",
       "      <td>-347.300781</td>\n",
       "      <td>29.303211</td>\n",
       "      <td>-3.903457</td>\n",
       "      <td>6.571520</td>\n",
       "      <td>4.605794</td>\n",
       "      <td>0.275747</td>\n",
       "    </tr>\n",
       "    <tr>\n",
       "      <th>2018-11-01 23:59:44.350</th>\n",
       "      <td>-347.300781</td>\n",
       "      <td>29.303211</td>\n",
       "      <td>-3.903457</td>\n",
       "      <td>6.567027</td>\n",
       "      <td>4.689414</td>\n",
       "      <td>0.278239</td>\n",
       "    </tr>\n",
       "    <tr>\n",
       "      <th>2018-11-01 23:59:47.446</th>\n",
       "      <td>-345.546265</td>\n",
       "      <td>30.129732</td>\n",
       "      <td>-4.856009</td>\n",
       "      <td>6.598980</td>\n",
       "      <td>4.636713</td>\n",
       "      <td>0.276671</td>\n",
       "    </tr>\n",
       "    <tr>\n",
       "      <th>2018-11-01 23:59:50.541</th>\n",
       "      <td>-347.300781</td>\n",
       "      <td>29.303211</td>\n",
       "      <td>-4.879321</td>\n",
       "      <td>6.584585</td>\n",
       "      <td>4.382844</td>\n",
       "      <td>0.268991</td>\n",
       "    </tr>\n",
       "    <tr>\n",
       "      <th>2018-11-01 23:59:53.637</th>\n",
       "      <td>-347.492065</td>\n",
       "      <td>27.360880</td>\n",
       "      <td>-3.903457</td>\n",
       "      <td>6.574757</td>\n",
       "      <td>4.548961</td>\n",
       "      <td>0.274041</td>\n",
       "    </tr>\n",
       "  </tbody>\n",
       "</table>\n",
       "<p>27908 rows × 6 columns</p>\n",
       "</div>"
      ],
      "text/plain": [
       "                                 Vr         Vt         Vn        np        Tp  \\\n",
       "2018-10-31 23:59:58.874 -331.652466  -1.857373  10.215549  8.213666  3.175972   \n",
       "2018-11-01 00:00:01.952 -331.652466   0.000000  10.215549  8.599883  3.305206   \n",
       "2018-11-01 00:00:05.048 -331.652466   0.000000  10.215549  8.188411  3.331877   \n",
       "2018-11-01 00:00:08.144 -333.273468   0.000000  11.198705  8.158342  3.301878   \n",
       "2018-11-01 00:00:11.240 -333.273468   0.000000  11.198705  8.568443  3.278011   \n",
       "...                             ...        ...        ...       ...       ...   \n",
       "2018-11-01 23:59:41.254 -347.300781  29.303211  -3.903457  6.571520  4.605794   \n",
       "2018-11-01 23:59:44.350 -347.300781  29.303211  -3.903457  6.567027  4.689414   \n",
       "2018-11-01 23:59:47.446 -345.546265  30.129732  -4.856009  6.598980  4.636713   \n",
       "2018-11-01 23:59:50.541 -347.300781  29.303211  -4.879321  6.584585  4.382844   \n",
       "2018-11-01 23:59:53.637 -347.492065  27.360880  -3.903457  6.574757  4.548961   \n",
       "\n",
       "                              Vth  \n",
       "2018-10-31 23:59:58.874  0.228980  \n",
       "2018-11-01 00:00:01.952  0.233592  \n",
       "2018-11-01 00:00:05.048  0.234533  \n",
       "2018-11-01 00:00:08.144  0.233475  \n",
       "2018-11-01 00:00:11.240  0.232629  \n",
       "...                           ...  \n",
       "2018-11-01 23:59:41.254  0.275747  \n",
       "2018-11-01 23:59:44.350  0.278239  \n",
       "2018-11-01 23:59:47.446  0.276671  \n",
       "2018-11-01 23:59:50.541  0.268991  \n",
       "2018-11-01 23:59:53.637  0.274041  \n",
       "\n",
       "[27908 rows x 6 columns]"
      ]
     },
     "execution_count": 44,
     "metadata": {},
     "output_type": "execute_result"
    }
   ],
   "source": [
    "fin['Par']['V_resampled']"
   ]
  },
  {
   "cell_type": "markdown",
   "id": "9de30b2e-abf8-4b24-8cf1-71f5f5f6274b",
   "metadata": {},
   "source": [
    "# Plot estimated power spectra for several quantities\n",
    "\n",
    "Don't be confused by R, T, N. Those are (x,y,z)"
   ]
  },
  {
   "cell_type": "code",
   "execution_count": 45,
   "id": "ba88383b-4db8-4a45-a96e-be7b39b3031a",
   "metadata": {},
   "outputs": [
    {
     "data": {
      "text/plain": [
       "{'f_zpm': array([1.31411107e-05, 2.62822214e-05, 3.94233321e-05, ...,\n",
       "        6.06068025e-02, 6.06199436e-02, 6.06330848e-02]),\n",
       " 'psd_v': array([1.92119253e+10, 4.32266938e+06, 2.15933752e+06, ...,\n",
       "        4.18447647e+01, 1.04306472e+01, 4.28854431e+01]),\n",
       " 'psd_b': array([5.75739079e+05, 3.08213144e+06, 2.14264852e+06, ...,\n",
       "        8.97516745e+00, 1.58079163e+01, 5.17862997e+00]),\n",
       " 'psd_b_R': array([2.43163878e+04, 6.65745624e+05, 8.35666603e+05, ...,\n",
       "        2.80592750e+00, 6.33702504e+00, 1.08155826e+00]),\n",
       " 'psd_b_T': array([3.49828106e+05, 1.38657368e+05, 4.15555807e+05, ...,\n",
       "        2.02248346e+00, 6.92402119e+00, 3.21741701e+00]),\n",
       " 'psd_b_N': array([2.01594584e+05, 2.27772845e+06, 8.91426113e+05, ...,\n",
       "        4.14675649e+00, 2.54687011e+00, 8.79654703e-01]),\n",
       " 'psd_zp': array([2.01413059e+10, 4.92672940e+06, 4.06198613e+06, ...,\n",
       "        7.63133533e+01, 2.95760756e+01, 3.64573666e+01]),\n",
       " 'psd_zm': array([1.83145080e+10, 7.14599686e+06, 4.10122960e+06, ...,\n",
       "        9.03122010e+01, 3.26783168e+01, 6.35507531e+01])}"
      ]
     },
     "execution_count": 45,
     "metadata": {},
     "output_type": "execute_result"
    }
   ],
   "source": [
    "fin['Par']['dict_psd']"
   ]
  },
  {
   "cell_type": "code",
   "execution_count": 46,
   "id": "120eaa5e-7283-41a6-8ba6-2cdefa4183b9",
   "metadata": {},
   "outputs": [
    {
     "data": {
      "text/plain": [
       "<matplotlib.legend.Legend at 0x7fe0638d4df0>"
      ]
     },
     "execution_count": 46,
     "metadata": {},
     "output_type": "execute_result"
    },
    {
     "data": {
      "image/png": "[encoded data removed]",
      "text/plain": [
       "<Figure size 432x288 with 1 Axes>"
      ]
     },
     "metadata": {
      "needs_background": "light"
     },
     "output_type": "display_data"
    }
   ],
   "source": [
    "plt.loglog(fin['Par']['dict_psd']['f_zpm'], fin['Par']['dict_psd']['psd_zp'], label =r'$Z_{+}$')\n",
    "plt.loglog(fin['Par']['dict_psd']['f_zpm'], fin['Par']['dict_psd']['psd_zm'], label =r'$Z_{-}$')\n",
    "\n",
    "plt.loglog(fin['Par']['dict_psd']['f_zpm'], fin['Par']['dict_psd']['psd_b'], label =r'$V_a$')\n",
    "plt.loglog(fin['Par']['dict_psd']['f_zpm'], fin['Par']['dict_psd']['psd_v'], label =r'$V$')\n",
    "plt.legend()"
   ]
  },
  {
   "cell_type": "markdown",
   "id": "f17abe0c-56af-44ec-8a3d-fc30ec72fa6e",
   "metadata": {},
   "source": [
    "# You can also smooth the PSD"
   ]
  },
  {
   "cell_type": "code",
   "execution_count": 47,
   "id": "225ee659-98a7-42f8-86bc-7ce59f512dfa",
   "metadata": {},
   "outputs": [],
   "source": [
    "sm = func.smoothing_function(fin['Par']['dict_psd']['f_zpm'], fin['Par']['dict_psd']['psd_v'])"
   ]
  },
  {
   "cell_type": "code",
   "execution_count": 48,
   "id": "554cc01b-6193-459a-a86d-0d88ae3a0391",
   "metadata": {},
   "outputs": [
    {
     "data": {
      "text/plain": [
       "<matplotlib.legend.Legend at 0x7fdfd2663a30>"
      ]
     },
     "execution_count": 48,
     "metadata": {},
     "output_type": "execute_result"
    },
    {
     "data": {
      "image/png": "[encoded data removed]",
      "text/plain": [
       "<Figure size 432x288 with 1 Axes>"
      ]
     },
     "metadata": {
      "needs_background": "light"
     },
     "output_type": "display_data"
    }
   ],
   "source": [
    "plt.loglog(fin['Par']['dict_psd']['f_zpm'], fin['Par']['dict_psd']['psd_v'])\n",
    "plt.loglog(sm[0], sm[1], label ='smoothed')\n",
    "plt.legend()"
   ]
  },
  {
   "cell_type": "markdown",
   "id": "261077d2-40db-4dec-9fa0-f5dafa5e9b7d",
   "metadata": {},
   "source": [
    "# Fit the PSD"
   ]
  },
  {
   "cell_type": "code",
   "execution_count": 54,
   "id": "348e1cb5-7b05-4993-ac5e-11e2dfb2d0c6",
   "metadata": {},
   "outputs": [
    {
     "name": "stderr",
     "output_type": "stream",
     "text": [
      "12-Feb-24 13:56:48: /var/folders/vj/mxbpcd0j13b_qfbqdq6h8b8r0000gs/T/ipykernel_65755/3266191875.py:12: UserWarning: linestyle is redundantly defined by the 'linestyle' keyword argument and the fmt string \"k-.\" (-> linestyle='-.'). The keyword argument will take precedence.\n",
      "  plt.loglog(x[s:e],5*fit[2], 'k-.', lw=1.2, ls='-',label=lab_name)\n",
      "\n"
     ]
    },
    {
     "data": {
      "text/plain": [
       "<matplotlib.legend.Legend at 0x7fdfd2318eb0>"
      ]
     },
     "execution_count": 54,
     "metadata": {},
     "output_type": "execute_result"
    },
    {
     "data": {
      "image/png": "[encoded data removed]",
      "text/plain": [
       "<Figure size 432x288 with 1 Axes>"
      ]
     },
     "metadata": {
      "needs_background": "light"
     },
     "output_type": "display_data"
    }
   ],
   "source": [
    "x0, xf = 3e-4, 5e-3\n",
    "\n",
    "fit, s, e, x, y = func.find_fit(fin['Par']['dict_psd']['f_zpm'], fin['Par']['dict_psd']['psd_v'], x0, xf)\n",
    "\n",
    "lab_name =r'$\\propto f^{ {%.2f}  \\pm \\ {%.2f}  }$'  %(round(fit[0][1],2), round(np.sqrt(fit[1][1][1]),2))\n",
    "\n",
    "\n",
    "plt.loglog(fin['Par']['dict_psd']['f_zpm'], fin['Par']['dict_psd']['psd_v'])\n",
    "plt.loglog(sm[0], sm[1], label ='smoothed')\n",
    "\n",
    "\n",
    "plt.loglog(x[s:e],5*fit[2], 'k-.', lw=1.2, ls='-',label=lab_name) \n",
    "\n",
    "plt.legend()"
   ]
  },
  {
   "cell_type": "markdown",
   "id": "1f2e281b-527e-4564-8c99-d03dcb147396",
   "metadata": {
    "tags": []
   },
   "source": [
    "# Estimate resolution of Particle timeseries:"
   ]
  },
  {
   "cell_type": "code",
   "execution_count": 55,
   "id": "7ed3a2e2-37fe-499b-b87b-e0a0ddfde4ed",
   "metadata": {},
   "outputs": [
    {
     "data": {
      "text/plain": [
       "3.0958097609918664"
      ]
     },
     "execution_count": 55,
     "metadata": {},
     "output_type": "execute_result"
    }
   ],
   "source": [
    "func.find_cadence(fin['Par']['V_resampled'])"
   ]
  },
  {
   "cell_type": "markdown",
   "id": "d8b03503-0260-4df5-965a-240fd89108c2",
   "metadata": {},
   "source": [
    "# Plot derived quantities"
   ]
  },
  {
   "cell_type": "code",
   "execution_count": 56,
   "id": "b8b15979-b50c-4b4a-92f5-045c6a9e86b7",
   "metadata": {},
   "outputs": [
    {
     "data": {
      "text/plain": [
       "[<matplotlib.lines.Line2D at 0x7fe031bc1960>]"
      ]
     },
     "execution_count": 56,
     "metadata": {},
     "output_type": "execute_result"
    },
    {
     "data": {
      "image/png": "[encoded data removed]",
      "text/plain": [
       "<Figure size 432x288 with 1 Axes>"
      ]
     },
     "metadata": {
      "needs_background": "light"
     },
     "output_type": "display_data"
    }
   ],
   "source": [
    "plt.plot(sig.sigma_r)\n",
    "plt.plot(sig.sigma_c)"
   ]
  },
  {
   "cell_type": "markdown",
   "id": "1b1bc2c5-b750-4b88-b908-6ff6319b11ff",
   "metadata": {},
   "source": [
    "# More derived quantities. To understand what those are look at /functions/calc_diagnostics.py"
   ]
  },
  {
   "cell_type": "code",
   "execution_count": 57,
   "id": "1272c709-3625-4344-a05f-00d1b6fa7590",
   "metadata": {},
   "outputs": [
    {
     "data": {
      "text/plain": [
       "Index(['dZpr', 'dZpt', 'dZpn', 'dZmr', 'dZmt', 'dZmn', 'dva_r', 'dva_t',\n",
       "       'dva_n', 'dv_r', 'dv_t', 'dv_n', 'beta', 'np', 'Tp', 'VB', 'd_i', 'Ma',\n",
       "       'Vsw', 'kin_norm', 'Ma_r_ts', 'sigma_c', 'Va', 'sigma_r'],\n",
       "      dtype='object')"
      ]
     },
     "execution_count": 57,
     "metadata": {},
     "output_type": "execute_result"
    }
   ],
   "source": [
    "sig.keys()"
   ]
  },
  {
   "cell_type": "code",
   "execution_count": null,
   "id": "3da5091e-d82b-46f0-a275-6fc0165a6c60",
   "metadata": {},
   "outputs": [],
   "source": []
  },
  {
   "cell_type": "code",
   "execution_count": null,
   "id": "6f66032a-b078-4c3d-a2bb-4e6fbd850803",
   "metadata": {},
   "outputs": [],
   "source": []
  }
 ],
 "metadata": {
  "kernelspec": {
   "display_name": "Python 3 (ipykernel)",
   "language": "python",
   "name": "python3"
  },
  "language_info": {
   "codemirror_mode": {
    "name": "ipython",
    "version": 3
   },
   "file_extension": ".py",
   "mimetype": "text/x-python",
   "name": "python",
   "nbconvert_exporter": "python",
   "pygments_lexer": "ipython3",
   "version": "3.10.4"
  }
 },
 "nbformat": 4,
 "nbformat_minor": 5
}
