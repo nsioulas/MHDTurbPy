{
 "cells": [
  {
   "cell_type": "markdown",
   "id": "60546e88-7ee7-4c39-81a8-871e1af1ed6f",
   "metadata": {},
   "source": [
    "# Load libraries"
   ]
  },
  {
   "cell_type": "code",
   "execution_count": 1,
   "id": "75151947-4f02-48bf-8e17-e4263f169500",
   "metadata": {},
   "outputs": [
    {
     "name": "stdout",
     "output_type": "stream",
     "text": [
      "This unreleased version of SpacePy is not supported by the SpacePy team.\n",
      "/Users/nokni/work/MHDTurbPy/pyspedas/pyspedas/__init__.py\n"
     ]
    }
   ],
   "source": [
    "%load_ext autoreload\n",
    "%autoreload 2\n",
    "\n",
    "\n",
    "# Basic libraries\n",
    "import pandas as pd\n",
    "import numpy as np\n",
    "import sys\n",
    "\n",
    "\n",
    "# Scipy\n",
    "import scipy\n",
    "from scipy import signal\n",
    "from scipy.linalg import solve\n",
    "from scipy import constants\n",
    "from scipy.interpolate import interp1d\n",
    "from scipy.fft import fft, fftfreq\n",
    "\n",
    "# Locate files\n",
    "import os\n",
    "from pathlib import Path\n",
    "from glob import glob\n",
    "\n",
    "# Plots\n",
    "from matplotlib import pyplot as plt\n",
    "\n",
    "#Important!! Make sure your current directory is the MHDTurbPy folder!\n",
    "os.chdir(\"/Users/nokni/work/MHDTurbPy\")\n",
    "\n",
    "\n",
    "# Make sure to use the local spedas\n",
    "sys.path.insert(0, os.path.join(os.getcwd(), 'pyspedas'))\n",
    "import pyspedas\n",
    "from pyspedas.utilities import time_string\n",
    "from pytplot import get_data\n",
    "from joblib import Parallel, delayed\n",
    "\n",
    "\"\"\" Import manual functions \"\"\"\n",
    "\n",
    "sys.path.insert(1, os.path.join(os.getcwd(), 'functions'))\n",
    "import calc_diagnostics as calc\n",
    "import TurbPy as turb\n",
    "import general_functions as func\n",
    "import Figures as figs\n",
    "\n",
    "from   SEA import SEA\n",
    "import three_D_funcs as threeD\n",
    "import download_data as download\n",
    "\n",
    "sys.path.insert(1, os.path.join(os.getcwd(), 'functions/3d_anis_analysis_toolboox'))\n",
    "import collect_wave_coeffs \n",
    "import data_analysis \n",
    "\n",
    "\n",
    "\n",
    "\n",
    "\n",
    "\n",
    "os.environ[\"CDF_LIB\"] = \"/Applications/cdf/cdf/lib\""
   ]
  },
  {
   "cell_type": "markdown",
   "id": "5105c685-06ae-4563-beb8-f686fbcbac42",
   "metadata": {},
   "source": [
    "# Download  WIND data"
   ]
  },
  {
   "cell_type": "code",
   "execution_count": 2,
   "id": "9c182300-db7f-4f17-9e48-2150c4deb012",
   "metadata": {},
   "outputs": [
    {
     "name": "stderr",
     "output_type": "stream",
     "text": [
      "12-Feb-24 13:33:37: Generating only one interval based on the provided start and end times.\n",
      "12-Feb-24 13:33:37: Start Time: 2018-11-01 00:00:00\n",
      "12-Feb-24 13:33:37: End Time: 2018-11-02 00:00:00\n",
      "12-Feb-24 13:33:37: Considering an interval spanning: 2018-11-02 00:00:00 to 2018-11-01 00:00:00\n",
      "12-Feb-24 13:33:37: \u001b[47mOverwriting folder /Users/nokni/work/MHDTurbPy/examples/WIND/2018-11-01_00-00-00_2018-11-02_00-00-00_sc_0\u001b[0m\n"
     ]
    },
    {
     "name": "stdout",
     "output_type": "stream",
     "text": [
      "Working on WIND data\n"
     ]
    },
    {
     "name": "stderr",
     "output_type": "stream",
     "text": [
      "12-Feb-24 13:34:00: /Users/nokni/opt/anaconda3/envs/numba/lib/python3.10/site-packages/spacepy/time.py:2367: UserWarning: Leapseconds may be out of date. Use spacepy.toolbox.update(leapsecs=True)\n",
      "  warnings.warn('Leapseconds may be out of date.'\n",
      "\n"
     ]
    },
    {
     "name": "stdout",
     "output_type": "stream",
     "text": [
      "Done.\n",
      "Input tstart = 2018-10-31 20:00:00+00:00, tend = 2018-11-02 04:00:00+00:00\n",
      "Returned tstart = 2018-10-31 20:00:00.091000, tend = 2018-11-02 03:59:59.995000\n",
      "Mag fraction missing 0.0\n",
      "Par fraction missing 8.943351607008491\n",
      "0 out of 1 finished\n"
     ]
    },
    {
     "data": {
      "text/plain": [
       "[None]"
      ]
     },
     "execution_count": 2,
     "metadata": {},
     "output_type": "execute_result"
    }
   ],
   "source": [
    "from joblib import Parallel, delayed\n",
    "\n",
    "# If you only need to download 1 interval (dates wont matter if only_one_interval=0)\n",
    "\n",
    "save_destination        =  f'/Users/nokni/work/MHDTurbPy/examples'\n",
    "\n",
    "\n",
    "cdf_lib_path            = '/Applications/cdf/cdf/lib'            # You will need to read cdf files. You have to specify the path\n",
    "data_path               = '/Volumes/Zesen-4TB/'           # Working dir. Usually where you save raw data (a psp_data, and/or solar_orbiter_data folder will be created)\n",
    "\n",
    "#User defined parameters\n",
    "credentials             =      { 'psp':{\n",
    "                                           'fields': {'username': None, 'password': None},\n",
    "                                           'sweap' : {'username': None, 'password': None}}}\n",
    "\n",
    "\n",
    "settings                =  {\n",
    "                            'Data_path'              : '/Volumes/Zesen-4TB/SPEDAS/' ,\n",
    "                            'Only_1_interval'        :  True,                 # If you only want to check one interval\n",
    "                            'start_date'             : '2018-11-01 00:00', \n",
    "                            'end_date'               : '2018-11-02 00:00',\n",
    "                            'overwrite_files'        :  1,                     # In case you want to re-do analysis for existing files!\n",
    "                            'save_all'               :  True,                  # If false it will only keep derived quants. Not timeseries\n",
    "                            'sc'                     : 'WIND',                 # Choices ['PSP', SOLO, 'HELIOS_A', 'HELIOS_B', 'WIND']\n",
    "                            'part_resol'             : 3,                      # Max resol of plasma data                [s]\n",
    "                            'MAG_resol'              : 1,                      # Max resol og magnetic field data        [s]\n",
    "\n",
    "                            \n",
    "                            'duration'               : '10H',                  # Duration of interval (in Hours)\n",
    "                            'Step'                   : '5H',                   # Move starting point by step (in Hours)\n",
    "                            'estimate_derived_param' :  True,\n",
    "                            'Big_Gaps'               :{\n",
    "                                                        'Mag_big_gaps' : 10,   # This will return 3 dtaframes containing gaps\n",
    "                                                        'Par_big_gaps' : 20,   # in the respective timeseries\n",
    "                                                        'QTN_big_gaps' : 300,\n",
    "                                                        \n",
    "                                                        },\n",
    "                                                    \n",
    "                            'cut_in_small_windows'   : {'flag'    : False, \n",
    "                                                        'Step'    : '10min',\n",
    "                                                        'duration': '600min'},\n",
    "\n",
    "                            'Max_par_missing'        : 10,\n",
    "                            'addit_time_around'      : 4,                       # [start_time -addit_time_around [h], end_time + addit_time_around [h]]\n",
    "                            'gap_time_threshold'     : 5 ,                      # Threshold for large gaps (units of seconds)\n",
    "                            'apply_hampel'           : False,                   # Use hampelfilter to despike plasma data\n",
    "                            'hampel_params'          : {'w'  : 200,\n",
    "                                                        'std': 3},\n",
    "\n",
    "                            'upsample_low_freq_ts'   : False,                    #\n",
    "                            'estimate_psd_b'         : 1,                       # Estimate magentic field powes spectral density (keep false)\n",
    "                            'estimate_psd_v'         : 1,                       # Estimate velocity field powes spectral density (keep false)\n",
    "                            'est_PSD_components'     : 1,\n",
    "                            'smooth_psd'             : False,\n",
    "                            'in_rtn'                 : True,                    # RTN or spacecraft frame ( We will usually use RTN)\n",
    "                            'rol_mean'               : True,                    # To estimate fluctuations of mag, vel field\n",
    "                            'rol_window'             : '1H',                    # When estimating fluctuations, size of window (centered around -w/2 -w/2\n",
    "\n",
    "                            } \n",
    "\n",
    "\n",
    "\n",
    "if settings['sc'] == \"PSP\":\n",
    "    vars_2_downnload = {\n",
    "                        'mag'    : None, \n",
    "                        'span'   : None,\n",
    "                        'span-a' : None,\n",
    "                        'spc'    : None, \n",
    "                        'qtn'    : None,\n",
    "                        'ephem'  : None}\n",
    "\n",
    "elif settings['sc'] == \"SOLO\":\n",
    "    vars_2_downnload = {\n",
    "                        'mag'    : None,\n",
    "                        'swa'    : None, \n",
    "                        'rpw'    : None, # Default is 'bia-density-10-seconds', but  'bia-density' is also available and probaly interesting\n",
    "                        'ephem'  : None} \n",
    "else:\n",
    "    \n",
    "    vars_2_downnload = None\n",
    "    \n",
    "\n",
    "save_path = Path(save_destination).joinpath(settings['sc'])\n",
    "\n",
    "\n",
    "\n",
    "generated_interval_list = download.generate_intervals(settings['start_date'],\n",
    "                                                     settings['end_date'], \n",
    "                                                     settings            = settings,\n",
    "                                                     data_path           = data_path)\n",
    "\n",
    "\n",
    "# Call function\n",
    "Parallel(n_jobs=1)(delayed(download.download_files)(\n",
    "                                                            jj, \n",
    "                                                            generated_interval_list, \n",
    "                                                            settings, \n",
    "                                                            vars_2_downnload, \n",
    "                                                            cdf_lib_path, \n",
    "                                                            credentials, \n",
    "                                                            save_path) for jj in range(len(generated_interval_list)))\n"
   ]
  },
  {
   "cell_type": "markdown",
   "id": "190d3d98-8327-4a8c-b834-9952544583f5",
   "metadata": {},
   "source": [
    "# Now check downloaded interval"
   ]
  },
  {
   "cell_type": "markdown",
   "id": "5b66cc10-719b-4023-bfcc-c400bda3680d",
   "metadata": {},
   "source": [
    "### (1) Locate files"
   ]
  },
  {
   "cell_type": "code",
   "execution_count": 3,
   "id": "1eb43645-0580-4e5e-b0e1-82cae10422d6",
   "metadata": {},
   "outputs": [
    {
     "name": "stdout",
     "output_type": "stream",
     "text": [
      "/Users/nokni/work/MHDTurbPy/examples/WIND/*/final.pkl\n",
      "/Users/nokni/work/MHDTurbPy/examples/WIND/*/general.pkl\n",
      "/Users/nokni/work/MHDTurbPy/examples/WIND/*/sig_c_sig_r.pkl\n"
     ]
    }
   ],
   "source": [
    "sc        = 'WIND'\n",
    "load_path =   f'/Users/nokni/work/MHDTurbPy/examples/{sc}'\n",
    "\n",
    "finnames  = func.load_files(load_path, 'final.pkl')\n",
    "gennames  = func.load_files(load_path, 'general.pkl')\n",
    "signames  = func.load_files(load_path, 'sig_c_sig_r.pkl')"
   ]
  },
  {
   "cell_type": "markdown",
   "id": "1af3808a-66ad-4481-b251-15457b194e49",
   "metadata": {},
   "source": [
    "### (2) Load files"
   ]
  },
  {
   "cell_type": "code",
   "execution_count": 4,
   "id": "bfe79568-da4a-40ca-a1b3-da7de760d23b",
   "metadata": {},
   "outputs": [],
   "source": [
    "N   = 0\n",
    "\n",
    "fin = pd.read_pickle(finnames[N])\n",
    "gen = pd.read_pickle(gennames[N])\n",
    "sig = pd.read_pickle(signames[N])"
   ]
  },
  {
   "cell_type": "markdown",
   "id": "2ec47d2a-5e99-4947-8beb-7e02a42efc84",
   "metadata": {},
   "source": [
    "### (3)  Check particle data"
   ]
  },
  {
   "cell_type": "code",
   "execution_count": 5,
   "id": "4b485653-78b1-4292-8385-29b39ce8febf",
   "metadata": {},
   "outputs": [
    {
     "data": {
      "text/plain": [
       "dict_keys(['dict_psd', 'mean_sw_speed  ', 'median_sw_speed', 'std_sw_speed', 'median_alfv_speed', 'mean_alfv_speed', 'std_alfv_speed', 'median_MA_r', 'mean_MA_r', 'std_MA_r', 'beta_mean', 'beta_std', 'sigma_r_mean', 'sigma_r_median', 'sigma_r_std', 'sigma_c_median', 'sigma_c_mean', 'sigma_c_std', 'Vth_mean', 'Vth_std', 'Vsw_mean', 'Vsw_std', 'Np_mean', 'Np_std', 'di_mean', 'di_std', 'rho_ci_mean', 'rho_ci_std', 'VBangle_mean', 'VBangle_std', 'V_resampled'])"
      ]
     },
     "execution_count": 5,
     "metadata": {},
     "output_type": "execute_result"
    }
   ],
   "source": [
    "fin['Par'].keys()"
   ]
  },
  {
   "cell_type": "markdown",
   "id": "547de66b-4c28-434e-8b4b-a7acc4d0bdc7",
   "metadata": {},
   "source": [
    "# Magnetic field timeseries"
   ]
  },
  {
   "cell_type": "code",
   "execution_count": 6,
   "id": "0d88e08e-52b6-47da-ad7f-2ad3f959698a",
   "metadata": {},
   "outputs": [
    {
     "data": {
      "text/html": [
       "<div>\n",
       "<style scoped>\n",
       "    .dataframe tbody tr th:only-of-type {\n",
       "        vertical-align: middle;\n",
       "    }\n",
       "\n",
       "    .dataframe tbody tr th {\n",
       "        vertical-align: top;\n",
       "    }\n",
       "\n",
       "    .dataframe thead th {\n",
       "        text-align: right;\n",
       "    }\n",
       "</style>\n",
       "<table border=\"1\" class=\"dataframe\">\n",
       "  <thead>\n",
       "    <tr style=\"text-align: right;\">\n",
       "      <th></th>\n",
       "      <th>Br</th>\n",
       "      <th>Bt</th>\n",
       "      <th>Bn</th>\n",
       "      <th>Btot</th>\n",
       "    </tr>\n",
       "    <tr>\n",
       "      <th>Epoch</th>\n",
       "      <th></th>\n",
       "      <th></th>\n",
       "      <th></th>\n",
       "      <th></th>\n",
       "    </tr>\n",
       "  </thead>\n",
       "  <tbody>\n",
       "    <tr>\n",
       "      <th>2018-10-31 23:59:58.874</th>\n",
       "      <td>NaN</td>\n",
       "      <td>NaN</td>\n",
       "      <td>NaN</td>\n",
       "      <td>NaN</td>\n",
       "    </tr>\n",
       "    <tr>\n",
       "      <th>2018-11-01 00:00:01.952</th>\n",
       "      <td>-4.029912</td>\n",
       "      <td>3.626310</td>\n",
       "      <td>1.854299</td>\n",
       "      <td>5.729825</td>\n",
       "    </tr>\n",
       "    <tr>\n",
       "      <th>2018-11-01 00:00:05.048</th>\n",
       "      <td>-4.012482</td>\n",
       "      <td>3.654009</td>\n",
       "      <td>1.843570</td>\n",
       "      <td>5.731592</td>\n",
       "    </tr>\n",
       "    <tr>\n",
       "      <th>2018-11-01 00:00:08.144</th>\n",
       "      <td>-4.038755</td>\n",
       "      <td>3.636977</td>\n",
       "      <td>1.847563</td>\n",
       "      <td>5.740543</td>\n",
       "    </tr>\n",
       "    <tr>\n",
       "      <th>2018-11-01 00:00:11.240</th>\n",
       "      <td>-4.085271</td>\n",
       "      <td>3.710239</td>\n",
       "      <td>1.823587</td>\n",
       "      <td>5.812221</td>\n",
       "    </tr>\n",
       "    <tr>\n",
       "      <th>...</th>\n",
       "      <td>...</td>\n",
       "      <td>...</td>\n",
       "      <td>...</td>\n",
       "      <td>...</td>\n",
       "    </tr>\n",
       "    <tr>\n",
       "      <th>2018-11-01 23:59:41.254</th>\n",
       "      <td>-2.766150</td>\n",
       "      <td>2.214558</td>\n",
       "      <td>-1.008395</td>\n",
       "      <td>3.683182</td>\n",
       "    </tr>\n",
       "    <tr>\n",
       "      <th>2018-11-01 23:59:44.350</th>\n",
       "      <td>-2.793847</td>\n",
       "      <td>2.244639</td>\n",
       "      <td>-0.821334</td>\n",
       "      <td>3.676783</td>\n",
       "    </tr>\n",
       "    <tr>\n",
       "      <th>2018-11-01 23:59:47.446</th>\n",
       "      <td>-2.798475</td>\n",
       "      <td>2.235275</td>\n",
       "      <td>-0.841385</td>\n",
       "      <td>3.679430</td>\n",
       "    </tr>\n",
       "    <tr>\n",
       "      <th>2018-11-01 23:59:50.541</th>\n",
       "      <td>-2.787964</td>\n",
       "      <td>2.252897</td>\n",
       "      <td>-0.826095</td>\n",
       "      <td>3.678837</td>\n",
       "    </tr>\n",
       "    <tr>\n",
       "      <th>2018-11-01 23:59:53.637</th>\n",
       "      <td>-2.803601</td>\n",
       "      <td>2.256812</td>\n",
       "      <td>-0.789175</td>\n",
       "      <td>3.684956</td>\n",
       "    </tr>\n",
       "  </tbody>\n",
       "</table>\n",
       "<p>25412 rows × 4 columns</p>\n",
       "</div>"
      ],
      "text/plain": [
       "                               Br        Bt        Bn      Btot\n",
       "Epoch                                                          \n",
       "2018-10-31 23:59:58.874       NaN       NaN       NaN       NaN\n",
       "2018-11-01 00:00:01.952 -4.029912  3.626310  1.854299  5.729825\n",
       "2018-11-01 00:00:05.048 -4.012482  3.654009  1.843570  5.731592\n",
       "2018-11-01 00:00:08.144 -4.038755  3.636977  1.847563  5.740543\n",
       "2018-11-01 00:00:11.240 -4.085271  3.710239  1.823587  5.812221\n",
       "...                           ...       ...       ...       ...\n",
       "2018-11-01 23:59:41.254 -2.766150  2.214558 -1.008395  3.683182\n",
       "2018-11-01 23:59:44.350 -2.793847  2.244639 -0.821334  3.676783\n",
       "2018-11-01 23:59:47.446 -2.798475  2.235275 -0.841385  3.679430\n",
       "2018-11-01 23:59:50.541 -2.787964  2.252897 -0.826095  3.678837\n",
       "2018-11-01 23:59:53.637 -2.803601  2.256812 -0.789175  3.684956\n",
       "\n",
       "[25412 rows x 4 columns]"
      ]
     },
     "execution_count": 6,
     "metadata": {},
     "output_type": "execute_result"
    }
   ],
   "source": [
    "fin['Mag']['B_resampled']"
   ]
  },
  {
   "cell_type": "markdown",
   "id": "9f5a253d-3a8b-4935-9bb2-ea2a73a533f5",
   "metadata": {},
   "source": [
    "# Estimate resolution of Magnetic field timeseries:"
   ]
  },
  {
   "cell_type": "code",
   "execution_count": 7,
   "id": "dc569aca-2c39-49bc-9870-88d2c6f90325",
   "metadata": {},
   "outputs": [
    {
     "data": {
      "text/plain": [
       "3.3999088941361673"
      ]
     },
     "execution_count": 7,
     "metadata": {},
     "output_type": "execute_result"
    }
   ],
   "source": [
    "func.find_cadence(fin['Mag']['B_resampled'])"
   ]
  },
  {
   "cell_type": "markdown",
   "id": "64da8ec8-723a-435c-8df7-09437bdfa306",
   "metadata": {
    "tags": []
   },
   "source": [
    "# Plot estimated power spectra for magnetc field\n",
    "\n",
    "Don't be confused by R, T, N. Those are (x,y,z)"
   ]
  },
  {
   "cell_type": "code",
   "execution_count": 8,
   "id": "36f05bae-cbb9-4e14-8a74-28fd9924a770",
   "metadata": {},
   "outputs": [
    {
     "data": {
      "text/plain": [
       "<matplotlib.legend.Legend at 0x7fe0535885b0>"
      ]
     },
     "execution_count": 8,
     "metadata": {},
     "output_type": "execute_result"
    },
    {
     "data": {
      "image/png": "[encoded data removed]",
      "text/plain": [
       "<Figure size 432x288 with 1 Axes>"
      ]
     },
     "metadata": {
      "needs_background": "light"
     },
     "output_type": "display_data"
    }
   ],
   "source": [
    "plt.loglog(fin['Mag']['f_B_orig'], fin['Mag']['PSD_f_orig'], label ='Trace')\n",
    "plt.loglog(fin['Mag']['f_B_orig'], fin['Mag']['PSD_f_orig_R'], label ='x comp')\n",
    "plt.loglog(fin['Mag']['f_B_orig'], fin['Mag']['PSD_f_orig_T'], label ='y comp')\n",
    "plt.loglog(fin['Mag']['f_B_orig'], fin['Mag']['PSD_f_orig_N'], label ='z comp')\n",
    "\n",
    "plt.legend()"
   ]
  },
  {
   "cell_type": "markdown",
   "id": "0c84257e-2f9e-4b8c-b5d0-dc71fe34b166",
   "metadata": {},
   "source": [
    "# Particle timeseries\n",
    "\n",
    "(a) Contains Vx, Vy, Vz [km/s], proton density [cm^-3], Proton temp [ev], Proton thermal speed [km/s]"
   ]
  },
  {
   "cell_type": "code",
   "execution_count": 9,
   "id": "eeeb188a-ee1c-447c-b33c-500d49055d11",
   "metadata": {},
   "outputs": [
    {
     "data": {
      "text/html": [
       "<div>\n",
       "<style scoped>\n",
       "    .dataframe tbody tr th:only-of-type {\n",
       "        vertical-align: middle;\n",
       "    }\n",
       "\n",
       "    .dataframe tbody tr th {\n",
       "        vertical-align: top;\n",
       "    }\n",
       "\n",
       "    .dataframe thead th {\n",
       "        text-align: right;\n",
       "    }\n",
       "</style>\n",
       "<table border=\"1\" class=\"dataframe\">\n",
       "  <thead>\n",
       "    <tr style=\"text-align: right;\">\n",
       "      <th></th>\n",
       "      <th>Vr</th>\n",
       "      <th>Vt</th>\n",
       "      <th>Vn</th>\n",
       "      <th>np</th>\n",
       "      <th>Tp</th>\n",
       "      <th>Vth</th>\n",
       "    </tr>\n",
       "  </thead>\n",
       "  <tbody>\n",
       "    <tr>\n",
       "      <th>2018-10-31 23:59:58.874</th>\n",
       "      <td>-331.652466</td>\n",
       "      <td>-1.857373</td>\n",
       "      <td>10.215549</td>\n",
       "      <td>8.213666</td>\n",
       "      <td>3.175972</td>\n",
       "      <td>0.228980</td>\n",
       "    </tr>\n",
       "    <tr>\n",
       "      <th>2018-11-01 00:00:01.952</th>\n",
       "      <td>-331.652466</td>\n",
       "      <td>0.000000</td>\n",
       "      <td>10.215549</td>\n",
       "      <td>8.599883</td>\n",
       "      <td>3.305206</td>\n",
       "      <td>0.233592</td>\n",
       "    </tr>\n",
       "    <tr>\n",
       "      <th>2018-11-01 00:00:05.048</th>\n",
       "      <td>-331.652466</td>\n",
       "      <td>0.000000</td>\n",
       "      <td>10.215549</td>\n",
       "      <td>8.188411</td>\n",
       "      <td>3.331877</td>\n",
       "      <td>0.234533</td>\n",
       "    </tr>\n",
       "    <tr>\n",
       "      <th>2018-11-01 00:00:08.144</th>\n",
       "      <td>-333.273468</td>\n",
       "      <td>0.000000</td>\n",
       "      <td>11.198705</td>\n",
       "      <td>8.158342</td>\n",
       "      <td>3.301878</td>\n",
       "      <td>0.233475</td>\n",
       "    </tr>\n",
       "    <tr>\n",
       "      <th>2018-11-01 00:00:11.240</th>\n",
       "      <td>-333.273468</td>\n",
       "      <td>0.000000</td>\n",
       "      <td>11.198705</td>\n",
       "      <td>8.568443</td>\n",
       "      <td>3.278011</td>\n",
       "      <td>0.232629</td>\n",
       "    </tr>\n",
       "    <tr>\n",
       "      <th>...</th>\n",
       "      <td>...</td>\n",
       "      <td>...</td>\n",
       "      <td>...</td>\n",
       "      <td>...</td>\n",
       "      <td>...</td>\n",
       "      <td>...</td>\n",
       "    </tr>\n",
       "    <tr>\n",
       "      <th>2018-11-01 23:59:41.254</th>\n",
       "      <td>-347.300781</td>\n",
       "      <td>29.303211</td>\n",
       "      <td>-3.903457</td>\n",
       "      <td>6.571520</td>\n",
       "      <td>4.605794</td>\n",
       "      <td>0.275747</td>\n",
       "    </tr>\n",
       "    <tr>\n",
       "      <th>2018-11-01 23:59:44.350</th>\n",
       "      <td>-347.300781</td>\n",
       "      <td>29.303211</td>\n",
       "      <td>-3.903457</td>\n",
       "      <td>6.567027</td>\n",
       "      <td>4.689414</td>\n",
       "      <td>0.278239</td>\n",
       "    </tr>\n",
       "    <tr>\n",
       "      <th>2018-11-01 23:59:47.446</th>\n",
       "      <td>-345.546265</td>\n",
       "      <td>30.129732</td>\n",
       "      <td>-4.856009</td>\n",
       "      <td>6.598980</td>\n",
       "      <td>4.636713</td>\n",
       "      <td>0.276671</td>\n",
       "    </tr>\n",
       "    <tr>\n",
       "      <th>2018-11-01 23:59:50.541</th>\n",
       "      <td>-347.300781</td>\n",
       "      <td>29.303211</td>\n",
       "      <td>-4.879321</td>\n",
       "      <td>6.584585</td>\n",
       "      <td>4.382844</td>\n",
       "      <td>0.268991</td>\n",
       "    </tr>\n",
       "    <tr>\n",
       "      <th>2018-11-01 23:59:53.637</th>\n",
       "      <td>-347.492065</td>\n",
       "      <td>27.360880</td>\n",
       "      <td>-3.903457</td>\n",
       "      <td>6.574757</td>\n",
       "      <td>4.548961</td>\n",
       "      <td>0.274041</td>\n",
       "    </tr>\n",
       "  </tbody>\n",
       "</table>\n",
       "<p>27908 rows × 6 columns</p>\n",
       "</div>"
      ],
      "text/plain": [
       "                                 Vr         Vt         Vn        np        Tp  \\\n",
       "2018-10-31 23:59:58.874 -331.652466  -1.857373  10.215549  8.213666  3.175972   \n",
       "2018-11-01 00:00:01.952 -331.652466   0.000000  10.215549  8.599883  3.305206   \n",
       "2018-11-01 00:00:05.048 -331.652466   0.000000  10.215549  8.188411  3.331877   \n",
       "2018-11-01 00:00:08.144 -333.273468   0.000000  11.198705  8.158342  3.301878   \n",
       "2018-11-01 00:00:11.240 -333.273468   0.000000  11.198705  8.568443  3.278011   \n",
       "...                             ...        ...        ...       ...       ...   \n",
       "2018-11-01 23:59:41.254 -347.300781  29.303211  -3.903457  6.571520  4.605794   \n",
       "2018-11-01 23:59:44.350 -347.300781  29.303211  -3.903457  6.567027  4.689414   \n",
       "2018-11-01 23:59:47.446 -345.546265  30.129732  -4.856009  6.598980  4.636713   \n",
       "2018-11-01 23:59:50.541 -347.300781  29.303211  -4.879321  6.584585  4.382844   \n",
       "2018-11-01 23:59:53.637 -347.492065  27.360880  -3.903457  6.574757  4.548961   \n",
       "\n",
       "                              Vth  \n",
       "2018-10-31 23:59:58.874  0.228980  \n",
       "2018-11-01 00:00:01.952  0.233592  \n",
       "2018-11-01 00:00:05.048  0.234533  \n",
       "2018-11-01 00:00:08.144  0.233475  \n",
       "2018-11-01 00:00:11.240  0.232629  \n",
       "...                           ...  \n",
       "2018-11-01 23:59:41.254  0.275747  \n",
       "2018-11-01 23:59:44.350  0.278239  \n",
       "2018-11-01 23:59:47.446  0.276671  \n",
       "2018-11-01 23:59:50.541  0.268991  \n",
       "2018-11-01 23:59:53.637  0.274041  \n",
       "\n",
       "[27908 rows x 6 columns]"
      ]
     },
     "execution_count": 9,
     "metadata": {},
     "output_type": "execute_result"
    }
   ],
   "source": [
    "fin['Par']['V_resampled']"
   ]
  },
  {
   "cell_type": "markdown",
   "id": "9de30b2e-abf8-4b24-8cf1-71f5f5f6274b",
   "metadata": {},
   "source": [
    "# Plot estimated power spectra for several quantities\n",
    "\n",
    "Don't be confused by R, T, N. Those are (x,y,z)"
   ]
  },
  {
   "cell_type": "code",
   "execution_count": 10,
   "id": "ba88383b-4db8-4a45-a96e-be7b39b3031a",
   "metadata": {},
   "outputs": [
    {
     "data": {
      "text/plain": [
       "{'f_zpm': array([1.16509786e-03, 2.33019572e-03, 3.49529359e-03, ...,\n",
       "        5.37343134e+00, 5.37459644e+00, 5.37576154e+00]),\n",
       " 'psd_v': array([2.16690843e+08, 4.87552837e+04, 2.43551158e+04, ...,\n",
       "        4.71966093e-01, 1.17647018e-01, 4.83703879e-01]),\n",
       " 'psd_b': array([6.49374719e+03, 3.47632863e+04, 2.41668810e+04, ...,\n",
       "        1.01230697e-01, 1.78297107e-01, 5.84096426e-02]),\n",
       " 'psd_b_R': array([2.74263952e+02, 7.50892884e+03, 9.42546346e+03, ...,\n",
       "        3.16479887e-02, 7.14751526e-02, 1.21988695e-02]),\n",
       " 'psd_b_T': array([3.94570278e+03, 1.56391312e+03, 4.68704393e+03, ...,\n",
       "        2.28115422e-02, 7.80958681e-02, 3.62891689e-02]),\n",
       " 'psd_b_N': array([2.27378046e+03, 2.56904443e+04, 1.00543736e+04, ...,\n",
       "        4.67711665e-02, 2.87260866e-02, 9.92160418e-03]),\n",
       " 'psd_zp': array([2.27173303e+08, 5.55684621e+04, 4.58150436e+04, ...,\n",
       "        8.60736472e-01, 3.33587843e-01, 4.11201759e-01]),\n",
       " 'psd_zm': array([2.06568894e+08, 8.05995262e+04, 4.62576698e+04, ...,\n",
       "        1.01862914e+00, 3.68577947e-01, 7.16787411e-01])}"
      ]
     },
     "execution_count": 10,
     "metadata": {},
     "output_type": "execute_result"
    }
   ],
   "source": [
    "fin['Par']['dict_psd']"
   ]
  },
  {
   "cell_type": "code",
   "execution_count": 11,
   "id": "120eaa5e-7283-41a6-8ba6-2cdefa4183b9",
   "metadata": {},
   "outputs": [
    {
     "data": {
      "text/plain": [
       "<matplotlib.legend.Legend at 0x7fe05358a440>"
      ]
     },
     "execution_count": 11,
     "metadata": {},
     "output_type": "execute_result"
    },
    {
     "data": {
      "image/png": "[encoded data removed]",
      "text/plain": [
       "<Figure size 432x288 with 1 Axes>"
      ]
     },
     "metadata": {
      "needs_background": "light"
     },
     "output_type": "display_data"
    }
   ],
   "source": [
    "plt.loglog(fin['Par']['dict_psd']['f_zpm'], fin['Par']['dict_psd']['psd_zp'], label =r'$Z_{+}$')\n",
    "plt.loglog(fin['Par']['dict_psd']['f_zpm'], fin['Par']['dict_psd']['psd_zm'], label =r'$Z_{-}$')\n",
    "\n",
    "plt.loglog(fin['Par']['dict_psd']['f_zpm'], fin['Par']['dict_psd']['psd_b'], label =r'$V_a$')\n",
    "plt.loglog(fin['Par']['dict_psd']['f_zpm'], fin['Par']['dict_psd']['psd_v'], label =r'$V$')\n",
    "plt.legend()"
   ]
  },
  {
   "cell_type": "markdown",
   "id": "f17abe0c-56af-44ec-8a3d-fc30ec72fa6e",
   "metadata": {},
   "source": [
    "# You can also smooth the PSD"
   ]
  },
  {
   "cell_type": "code",
   "execution_count": 15,
   "id": "225ee659-98a7-42f8-86bc-7ce59f512dfa",
   "metadata": {},
   "outputs": [
    {
     "name": "stderr",
     "output_type": "stream",
     "text": [
      "12-Feb-24 13:35:40: /Users/nokni/opt/anaconda3/envs/numba/lib/python3.10/site-packages/numba/np/ufunc/parallel.py:371: NumbaWarning: \u001b[1mThe TBB threading layer requires TBB version 2021 update 6 or later i.e., TBB_INTERFACE_VERSION >= 12060. Found TBB_INTERFACE_VERSION = 12050. The TBB threading layer is disabled.\u001b[0m\n",
      "  warnings.warn(problem)\n",
      "\n",
      "OMP: Info #271: omp_set_nested routine deprecated, please use omp_set_max_active_levels instead.\n"
     ]
    }
   ],
   "source": [
    "sm = func.smoothing_function(fin['Par']['dict_psd']['f_zpm'], fin['Par']['dict_psd']['psd_v'])"
   ]
  },
  {
   "cell_type": "code",
   "execution_count": 19,
   "id": "554cc01b-6193-459a-a86d-0d88ae3a0391",
   "metadata": {},
   "outputs": [
    {
     "data": {
      "text/plain": [
       "<matplotlib.legend.Legend at 0x7fe054764100>"
      ]
     },
     "execution_count": 19,
     "metadata": {},
     "output_type": "execute_result"
    },
    {
     "data": {
      "image/png": "[encoded data removed]",
      "text/plain": [
       "<Figure size 432x288 with 1 Axes>"
      ]
     },
     "metadata": {
      "needs_background": "light"
     },
     "output_type": "display_data"
    }
   ],
   "source": [
    "plt.loglog(fin['Par']['dict_psd']['f_zpm'], fin['Par']['dict_psd']['psd_v'])\n",
    "plt.loglog(sm[0], sm[1], label ='smoothed')\n",
    "plt.legend()"
   ]
  },
  {
   "cell_type": "markdown",
   "id": "261077d2-40db-4dec-9fa0-f5dafa5e9b7d",
   "metadata": {},
   "source": [
    "# Fit the PSD"
   ]
  },
  {
   "cell_type": "code",
   "execution_count": 28,
   "id": "348e1cb5-7b05-4993-ac5e-11e2dfb2d0c6",
   "metadata": {},
   "outputs": [
    {
     "name": "stderr",
     "output_type": "stream",
     "text": [
      "12-Feb-24 13:41:43: /var/folders/vj/mxbpcd0j13b_qfbqdq6h8b8r0000gs/T/ipykernel_65755/789808039.py:12: UserWarning: linestyle is redundantly defined by the 'linestyle' keyword argument and the fmt string \"k-.\" (-> linestyle='-.'). The keyword argument will take precedence.\n",
      "  plt.loglog(x[s:e],5*fit[2], 'k-.', lw=1.2, ls='-',label=lab_name)\n",
      "\n"
     ]
    },
    {
     "data": {
      "text/plain": [
       "<matplotlib.legend.Legend at 0x7fdfebe94e80>"
      ]
     },
     "execution_count": 28,
     "metadata": {},
     "output_type": "execute_result"
    },
    {
     "data": {
      "image/png": "[encoded data removed]",
      "text/plain": [
       "<Figure size 432x288 with 1 Axes>"
      ]
     },
     "metadata": {
      "needs_background": "light"
     },
     "output_type": "display_data"
    }
   ],
   "source": [
    "x0, xf = 3e-2, 5e-1\n",
    "\n",
    "fit, s, e, x, y = func.find_fit(fin['Par']['dict_psd']['f_zpm'], fin['Par']['dict_psd']['psd_v'], x0, xf)\n",
    "\n",
    "lab_name =r'$\\propto f^{ {%.2f}  \\pm \\ {%.2f}  }$'  %(round(fit[0][1],2), round(np.sqrt(fit[1][1][1]),2))\n",
    "\n",
    "\n",
    "plt.loglog(fin['Par']['dict_psd']['f_zpm'], fin['Par']['dict_psd']['psd_v'])\n",
    "plt.loglog(sm[0], sm[1], label ='smoothed')\n",
    "\n",
    "\n",
    "plt.loglog(x[s:e],5*fit[2], 'k-.', lw=1.2, ls='-',label=lab_name) \n",
    "\n",
    "plt.legend()"
   ]
  },
  {
   "cell_type": "markdown",
   "id": "1f2e281b-527e-4564-8c99-d03dcb147396",
   "metadata": {
    "jp-MarkdownHeadingCollapsed": true,
    "tags": []
   },
   "source": [
    "# Estimate resolution of Particle timeseries:"
   ]
  },
  {
   "cell_type": "code",
   "execution_count": 12,
   "id": "7ed3a2e2-37fe-499b-b87b-e0a0ddfde4ed",
   "metadata": {},
   "outputs": [
    {
     "data": {
      "text/plain": [
       "3.0958097609918664"
      ]
     },
     "execution_count": 12,
     "metadata": {},
     "output_type": "execute_result"
    }
   ],
   "source": [
    "func.find_cadence(fin['Par']['V_resampled'])"
   ]
  },
  {
   "cell_type": "markdown",
   "id": "d8b03503-0260-4df5-965a-240fd89108c2",
   "metadata": {},
   "source": [
    "# Plot derived quantities"
   ]
  },
  {
   "cell_type": "code",
   "execution_count": 13,
   "id": "b8b15979-b50c-4b4a-92f5-045c6a9e86b7",
   "metadata": {},
   "outputs": [
    {
     "data": {
      "text/plain": [
       "[<matplotlib.lines.Line2D at 0x7fe053694820>]"
      ]
     },
     "execution_count": 13,
     "metadata": {},
     "output_type": "execute_result"
    },
    {
     "data": {
      "image/png": "[encoded data removed]",
      "text/plain": [
       "<Figure size 432x288 with 1 Axes>"
      ]
     },
     "metadata": {
      "needs_background": "light"
     },
     "output_type": "display_data"
    }
   ],
   "source": [
    "plt.plot(sig.sigma_r)\n",
    "plt.plot(sig.sigma_c)"
   ]
  },
  {
   "cell_type": "markdown",
   "id": "1b1bc2c5-b750-4b88-b908-6ff6319b11ff",
   "metadata": {},
   "source": [
    "# More derived quantities. To understand what those are look at /functions/calc_diagnostics.py"
   ]
  },
  {
   "cell_type": "code",
   "execution_count": 14,
   "id": "1272c709-3625-4344-a05f-00d1b6fa7590",
   "metadata": {},
   "outputs": [
    {
     "data": {
      "text/plain": [
       "Index(['dZpr', 'dZpt', 'dZpn', 'dZmr', 'dZmt', 'dZmn', 'dva_r', 'dva_t',\n",
       "       'dva_n', 'dv_r', 'dv_t', 'dv_n', 'beta', 'np', 'Tp', 'VB', 'd_i', 'Ma',\n",
       "       'Vsw', 'kin_norm', 'Ma_r_ts', 'sigma_c', 'Va', 'sigma_r'],\n",
       "      dtype='object')"
      ]
     },
     "execution_count": 14,
     "metadata": {},
     "output_type": "execute_result"
    }
   ],
   "source": [
    "sig.keys()"
   ]
  },
  {
   "cell_type": "code",
   "execution_count": null,
   "id": "751d381a-5e97-4676-90cf-887d77108964",
   "metadata": {},
   "outputs": [],
   "source": []
  },
  {
   "cell_type": "code",
   "execution_count": null,
   "id": "3d0d70ac-0cf2-441a-8f03-34444981eadf",
   "metadata": {},
   "outputs": [],
   "source": []
  }
 ],
 "metadata": {
  "kernelspec": {
   "display_name": "Python 3 (ipykernel)",
   "language": "python",
   "name": "python3"
  },
  "language_info": {
   "codemirror_mode": {
    "name": "ipython",
    "version": 3
   },
   "file_extension": ".py",
   "mimetype": "text/x-python",
   "name": "python",
   "nbconvert_exporter": "python",
   "pygments_lexer": "ipython3",
   "version": "3.10.4"
  }
 },
 "nbformat": 4,
 "nbformat_minor": 5
}
